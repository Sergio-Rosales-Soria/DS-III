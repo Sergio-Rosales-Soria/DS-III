{
  "cells": [
    {
      "cell_type": "markdown",
      "metadata": {
        "id": "view-in-github",
        "colab_type": "text"
      },
      "source": [
        "<a href=\"https://colab.research.google.com/github/Sergio-Rosales-Soria/DS-III/blob/main/Proyecto_Final_Sergio_Rosales_II.ipynb\" target=\"_parent\"><img src=\"https://colab.research.google.com/assets/colab-badge.svg\" alt=\"Open In Colab\"/></a>"
      ]
    },
    {
      "cell_type": "markdown",
      "source": [
        "![coderhouse-logo.png](data:image/png;base64,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)"
      ],
      "metadata": {
        "id": "5JX13hLg_HdN"
      }
    },
    {
      "cell_type": "markdown",
      "source": [
        "# Introducción\n",
        "**Contexto empresarial**. En la era digital, la voz de los usuarios se ha convertido en un factor clave para la toma de decisiones en diversas industrias. Las opiniones expresadas en plataformas en línea, redes sociales y sitios web de reseñas proporcionan información valiosa sobre la percepción del público respecto a productos, servicios y experiencias. Sin embargo, interpretar esta gran cantidad de datos de manera eficiente requiere herramientas avanzadas que permitan extraer patrones y comprender el verdadero significado detrás de cada comentario.\n",
        "\n",
        "\n",
        "\n",
        "**Contexto analitico** Este proyecto tiene como objetivo explorar el Análisis de Sentimientos a partir de un conjunto dea partir de un conjunto de datos de alta calidad, compuesto por aproximadamente 2,600 reseñas obtenidas de la plataforma Kaggle . A través del Procesamiento de Lenguaje Natural (PNL) , analizamos la estructura de los comentarios, identificando palabras clave, signos de puntuación y otros patrones lingüísticos que permiten clasificar los textos como positivos o negativos . Además, profundizaremos en las emociones subyacentes para obtener una visión más detallada de la experiencia del usuario.\n",
        "\n",
        "Para llevar este análisis un paso más allá, implementaremos una Red Neuronal Recurrente (RNN) , entrenada con los datos recopilados, con el fin de desarrollar un modelo predictivo capaz de determinar automáticamente el sentimiento de nuevos comentarios . Esta metodología nos permitirá no solo clasificar opiniones, sino también entender la influencia de distintos factores en la percepción de los usuarios.\n",
        "\n",
        "El presente estudio representa un esfuerzo por combinar técnicas avanzadas de PNL y aprendizaje profundo para extraer conocimiento útil a partir de datos textuales, con potenciales aplicaciones en áreas como marketing, atención al cliente y desarrollo de productos."
      ],
      "metadata": {
        "id": "HkEvw2y4l3fq"
      }
    },
    {
      "cell_type": "code",
      "execution_count": 1,
      "metadata": {
        "id": "eY8dg6Hc6e4m"
      },
      "outputs": [],
      "source": [
        "#librerias necesarias\n",
        "\n",
        "import os\n",
        "from collections import Counter\n",
        "\n",
        "import matplotlib.pyplot as plt\n",
        "import nltk\n",
        "import numpy as np\n",
        "import pandas as pd\n",
        "\n",
        "from pylab import rcParams\n",
        "from wordcloud import WordCloud\n",
        "from nltk import word_tokenize\n",
        "\n",
        "from sklearn.feature_extraction.text import CountVectorizer\n",
        "from sklearn.model_selection import train_test_split\n",
        "from sklearn.linear_model import LogisticRegression\n",
        "from sklearn.metrics import accuracy_score\n",
        "from sklearn.metrics import f1_score\n",
        "from sklearn.ensemble import RandomForestClassifier\n",
        "from sklearn.feature_extraction.text import TfidfVectorizer\n",
        "\n",
        "rcParams['figure.figsize'] = 5, 3\n",
        "%matplotlib inline"
      ]
    },
    {
      "cell_type": "markdown",
      "metadata": {
        "id": "hhEWNyxp7J9a"
      },
      "source": [
        "# Lectura de datos y analisis basico"
      ]
    },
    {
      "cell_type": "code",
      "execution_count": 2,
      "metadata": {
        "colab": {
          "base_uri": "https://localhost:8080/"
        },
        "id": "CQFxWy6n7Wda",
        "outputId": "a82e403f-d430-460b-bfff-f53cd449962c"
      },
      "outputs": [
        {
          "output_type": "stream",
          "name": "stdout",
          "text": [
            "Drive already mounted at /content/drive; to attempt to forcibly remount, call drive.mount(\"/content/drive\", force_remount=True).\n",
            "/content/drive/My Drive/DS III/Proyecto Final/Datasets\n",
            "/content/drive/My Drive/DS III/Proyecto Final/Datasets\n"
          ]
        }
      ],
      "source": [
        "from google.colab import drive\n",
        "drive.mount('/content/drive')\n",
        "%cd \"/content/drive/My Drive/DS III/Proyecto Final/Datasets\"\n",
        "import os\n",
        "print(os.getcwd())\n",
        "os.chdir(\"/content/drive/My Drive/DS III/Proyecto Final/Datasets\")"
      ]
    },
    {
      "cell_type": "code",
      "execution_count": 3,
      "metadata": {
        "colab": {
          "base_uri": "https://localhost:8080/",
          "height": 0
        },
        "id": "zp73tMGp6haN",
        "outputId": "be52daad-0135-4cf2-9691-de43c58b06f0"
      },
      "outputs": [
        {
          "output_type": "execute_result",
          "data": {
            "text/plain": [
              "             user                                               text  \\\n",
              "0      @erreborda               termine bien abrumado después de hoy   \n",
              "1    @shpiderduck                                 me siento abrumado   \n",
              "2     @Alex_R_art  Me siento un poco abrumado por la cantidad de ...   \n",
              "3   @anggelinaa97  Salvador la única persona que no la ha abrumad...   \n",
              "4  @diegoreyesvqz     Denme un helado o algo que ando full abrumado.   \n",
              "\n",
              "                         date      emotion sentiment  \n",
              "0   Jan 6, 2024 · 2:53 AM UTC  overwhelmed    scared  \n",
              "1   Jan 6, 2024 · 2:35 AM UTC  overwhelmed    scared  \n",
              "2  Jan 6, 2024 · 12:20 AM UTC  overwhelmed    scared  \n",
              "3  Jan 5, 2024 · 10:38 PM UTC  overwhelmed    scared  \n",
              "4   Jan 5, 2024 · 8:38 PM UTC  overwhelmed    scared  "
            ],
            "text/html": [
              "\n",
              "  <div id=\"df-c349f631-3b50-4367-a376-3fe32e8f1cf8\" class=\"colab-df-container\">\n",
              "    <div>\n",
              "<style scoped>\n",
              "    .dataframe tbody tr th:only-of-type {\n",
              "        vertical-align: middle;\n",
              "    }\n",
              "\n",
              "    .dataframe tbody tr th {\n",
              "        vertical-align: top;\n",
              "    }\n",
              "\n",
              "    .dataframe thead th {\n",
              "        text-align: right;\n",
              "    }\n",
              "</style>\n",
              "<table border=\"1\" class=\"dataframe\">\n",
              "  <thead>\n",
              "    <tr style=\"text-align: right;\">\n",
              "      <th></th>\n",
              "      <th>user</th>\n",
              "      <th>text</th>\n",
              "      <th>date</th>\n",
              "      <th>emotion</th>\n",
              "      <th>sentiment</th>\n",
              "    </tr>\n",
              "  </thead>\n",
              "  <tbody>\n",
              "    <tr>\n",
              "      <th>0</th>\n",
              "      <td>@erreborda</td>\n",
              "      <td>termine bien abrumado después de hoy</td>\n",
              "      <td>Jan 6, 2024 · 2:53 AM UTC</td>\n",
              "      <td>overwhelmed</td>\n",
              "      <td>scared</td>\n",
              "    </tr>\n",
              "    <tr>\n",
              "      <th>1</th>\n",
              "      <td>@shpiderduck</td>\n",
              "      <td>me siento abrumado</td>\n",
              "      <td>Jan 6, 2024 · 2:35 AM UTC</td>\n",
              "      <td>overwhelmed</td>\n",
              "      <td>scared</td>\n",
              "    </tr>\n",
              "    <tr>\n",
              "      <th>2</th>\n",
              "      <td>@Alex_R_art</td>\n",
              "      <td>Me siento un poco abrumado por la cantidad de ...</td>\n",
              "      <td>Jan 6, 2024 · 12:20 AM UTC</td>\n",
              "      <td>overwhelmed</td>\n",
              "      <td>scared</td>\n",
              "    </tr>\n",
              "    <tr>\n",
              "      <th>3</th>\n",
              "      <td>@anggelinaa97</td>\n",
              "      <td>Salvador la única persona que no la ha abrumad...</td>\n",
              "      <td>Jan 5, 2024 · 10:38 PM UTC</td>\n",
              "      <td>overwhelmed</td>\n",
              "      <td>scared</td>\n",
              "    </tr>\n",
              "    <tr>\n",
              "      <th>4</th>\n",
              "      <td>@diegoreyesvqz</td>\n",
              "      <td>Denme un helado o algo que ando full abrumado.</td>\n",
              "      <td>Jan 5, 2024 · 8:38 PM UTC</td>\n",
              "      <td>overwhelmed</td>\n",
              "      <td>scared</td>\n",
              "    </tr>\n",
              "  </tbody>\n",
              "</table>\n",
              "</div>\n",
              "    <div class=\"colab-df-buttons\">\n",
              "\n",
              "  <div class=\"colab-df-container\">\n",
              "    <button class=\"colab-df-convert\" onclick=\"convertToInteractive('df-c349f631-3b50-4367-a376-3fe32e8f1cf8')\"\n",
              "            title=\"Convert this dataframe to an interactive table.\"\n",
              "            style=\"display:none;\">\n",
              "\n",
              "  <svg xmlns=\"http://www.w3.org/2000/svg\" height=\"24px\" viewBox=\"0 -960 960 960\">\n",
              "    <path d=\"M120-120v-720h720v720H120Zm60-500h600v-160H180v160Zm220 220h160v-160H400v160Zm0 220h160v-160H400v160ZM180-400h160v-160H180v160Zm440 0h160v-160H620v160ZM180-180h160v-160H180v160Zm440 0h160v-160H620v160Z\"/>\n",
              "  </svg>\n",
              "    </button>\n",
              "\n",
              "  <style>\n",
              "    .colab-df-container {\n",
              "      display:flex;\n",
              "      gap: 12px;\n",
              "    }\n",
              "\n",
              "    .colab-df-convert {\n",
              "      background-color: #E8F0FE;\n",
              "      border: none;\n",
              "      border-radius: 50%;\n",
              "      cursor: pointer;\n",
              "      display: none;\n",
              "      fill: #1967D2;\n",
              "      height: 32px;\n",
              "      padding: 0 0 0 0;\n",
              "      width: 32px;\n",
              "    }\n",
              "\n",
              "    .colab-df-convert:hover {\n",
              "      background-color: #E2EBFA;\n",
              "      box-shadow: 0px 1px 2px rgba(60, 64, 67, 0.3), 0px 1px 3px 1px rgba(60, 64, 67, 0.15);\n",
              "      fill: #174EA6;\n",
              "    }\n",
              "\n",
              "    .colab-df-buttons div {\n",
              "      margin-bottom: 4px;\n",
              "    }\n",
              "\n",
              "    [theme=dark] .colab-df-convert {\n",
              "      background-color: #3B4455;\n",
              "      fill: #D2E3FC;\n",
              "    }\n",
              "\n",
              "    [theme=dark] .colab-df-convert:hover {\n",
              "      background-color: #434B5C;\n",
              "      box-shadow: 0px 1px 3px 1px rgba(0, 0, 0, 0.15);\n",
              "      filter: drop-shadow(0px 1px 2px rgba(0, 0, 0, 0.3));\n",
              "      fill: #FFFFFF;\n",
              "    }\n",
              "  </style>\n",
              "\n",
              "    <script>\n",
              "      const buttonEl =\n",
              "        document.querySelector('#df-c349f631-3b50-4367-a376-3fe32e8f1cf8 button.colab-df-convert');\n",
              "      buttonEl.style.display =\n",
              "        google.colab.kernel.accessAllowed ? 'block' : 'none';\n",
              "\n",
              "      async function convertToInteractive(key) {\n",
              "        const element = document.querySelector('#df-c349f631-3b50-4367-a376-3fe32e8f1cf8');\n",
              "        const dataTable =\n",
              "          await google.colab.kernel.invokeFunction('convertToInteractive',\n",
              "                                                    [key], {});\n",
              "        if (!dataTable) return;\n",
              "\n",
              "        const docLinkHtml = 'Like what you see? Visit the ' +\n",
              "          '<a target=\"_blank\" href=https://colab.research.google.com/notebooks/data_table.ipynb>data table notebook</a>'\n",
              "          + ' to learn more about interactive tables.';\n",
              "        element.innerHTML = '';\n",
              "        dataTable['output_type'] = 'display_data';\n",
              "        await google.colab.output.renderOutput(dataTable, element);\n",
              "        const docLink = document.createElement('div');\n",
              "        docLink.innerHTML = docLinkHtml;\n",
              "        element.appendChild(docLink);\n",
              "      }\n",
              "    </script>\n",
              "  </div>\n",
              "\n",
              "\n",
              "<div id=\"df-4ab0c1a5-da03-4154-bca7-160a75ab4cf1\">\n",
              "  <button class=\"colab-df-quickchart\" onclick=\"quickchart('df-4ab0c1a5-da03-4154-bca7-160a75ab4cf1')\"\n",
              "            title=\"Suggest charts\"\n",
              "            style=\"display:none;\">\n",
              "\n",
              "<svg xmlns=\"http://www.w3.org/2000/svg\" height=\"24px\"viewBox=\"0 0 24 24\"\n",
              "     width=\"24px\">\n",
              "    <g>\n",
              "        <path d=\"M19 3H5c-1.1 0-2 .9-2 2v14c0 1.1.9 2 2 2h14c1.1 0 2-.9 2-2V5c0-1.1-.9-2-2-2zM9 17H7v-7h2v7zm4 0h-2V7h2v10zm4 0h-2v-4h2v4z\"/>\n",
              "    </g>\n",
              "</svg>\n",
              "  </button>\n",
              "\n",
              "<style>\n",
              "  .colab-df-quickchart {\n",
              "      --bg-color: #E8F0FE;\n",
              "      --fill-color: #1967D2;\n",
              "      --hover-bg-color: #E2EBFA;\n",
              "      --hover-fill-color: #174EA6;\n",
              "      --disabled-fill-color: #AAA;\n",
              "      --disabled-bg-color: #DDD;\n",
              "  }\n",
              "\n",
              "  [theme=dark] .colab-df-quickchart {\n",
              "      --bg-color: #3B4455;\n",
              "      --fill-color: #D2E3FC;\n",
              "      --hover-bg-color: #434B5C;\n",
              "      --hover-fill-color: #FFFFFF;\n",
              "      --disabled-bg-color: #3B4455;\n",
              "      --disabled-fill-color: #666;\n",
              "  }\n",
              "\n",
              "  .colab-df-quickchart {\n",
              "    background-color: var(--bg-color);\n",
              "    border: none;\n",
              "    border-radius: 50%;\n",
              "    cursor: pointer;\n",
              "    display: none;\n",
              "    fill: var(--fill-color);\n",
              "    height: 32px;\n",
              "    padding: 0;\n",
              "    width: 32px;\n",
              "  }\n",
              "\n",
              "  .colab-df-quickchart:hover {\n",
              "    background-color: var(--hover-bg-color);\n",
              "    box-shadow: 0 1px 2px rgba(60, 64, 67, 0.3), 0 1px 3px 1px rgba(60, 64, 67, 0.15);\n",
              "    fill: var(--button-hover-fill-color);\n",
              "  }\n",
              "\n",
              "  .colab-df-quickchart-complete:disabled,\n",
              "  .colab-df-quickchart-complete:disabled:hover {\n",
              "    background-color: var(--disabled-bg-color);\n",
              "    fill: var(--disabled-fill-color);\n",
              "    box-shadow: none;\n",
              "  }\n",
              "\n",
              "  .colab-df-spinner {\n",
              "    border: 2px solid var(--fill-color);\n",
              "    border-color: transparent;\n",
              "    border-bottom-color: var(--fill-color);\n",
              "    animation:\n",
              "      spin 1s steps(1) infinite;\n",
              "  }\n",
              "\n",
              "  @keyframes spin {\n",
              "    0% {\n",
              "      border-color: transparent;\n",
              "      border-bottom-color: var(--fill-color);\n",
              "      border-left-color: var(--fill-color);\n",
              "    }\n",
              "    20% {\n",
              "      border-color: transparent;\n",
              "      border-left-color: var(--fill-color);\n",
              "      border-top-color: var(--fill-color);\n",
              "    }\n",
              "    30% {\n",
              "      border-color: transparent;\n",
              "      border-left-color: var(--fill-color);\n",
              "      border-top-color: var(--fill-color);\n",
              "      border-right-color: var(--fill-color);\n",
              "    }\n",
              "    40% {\n",
              "      border-color: transparent;\n",
              "      border-right-color: var(--fill-color);\n",
              "      border-top-color: var(--fill-color);\n",
              "    }\n",
              "    60% {\n",
              "      border-color: transparent;\n",
              "      border-right-color: var(--fill-color);\n",
              "    }\n",
              "    80% {\n",
              "      border-color: transparent;\n",
              "      border-right-color: var(--fill-color);\n",
              "      border-bottom-color: var(--fill-color);\n",
              "    }\n",
              "    90% {\n",
              "      border-color: transparent;\n",
              "      border-bottom-color: var(--fill-color);\n",
              "    }\n",
              "  }\n",
              "</style>\n",
              "\n",
              "  <script>\n",
              "    async function quickchart(key) {\n",
              "      const quickchartButtonEl =\n",
              "        document.querySelector('#' + key + ' button');\n",
              "      quickchartButtonEl.disabled = true;  // To prevent multiple clicks.\n",
              "      quickchartButtonEl.classList.add('colab-df-spinner');\n",
              "      try {\n",
              "        const charts = await google.colab.kernel.invokeFunction(\n",
              "            'suggestCharts', [key], {});\n",
              "      } catch (error) {\n",
              "        console.error('Error during call to suggestCharts:', error);\n",
              "      }\n",
              "      quickchartButtonEl.classList.remove('colab-df-spinner');\n",
              "      quickchartButtonEl.classList.add('colab-df-quickchart-complete');\n",
              "    }\n",
              "    (() => {\n",
              "      let quickchartButtonEl =\n",
              "        document.querySelector('#df-4ab0c1a5-da03-4154-bca7-160a75ab4cf1 button');\n",
              "      quickchartButtonEl.style.display =\n",
              "        google.colab.kernel.accessAllowed ? 'block' : 'none';\n",
              "    })();\n",
              "  </script>\n",
              "</div>\n",
              "\n",
              "    </div>\n",
              "  </div>\n"
            ],
            "application/vnd.google.colaboratory.intrinsic+json": {
              "type": "dataframe",
              "variable_name": "Twitter_1",
              "summary": "{\n  \"name\": \"Twitter_1\",\n  \"rows\": 2590,\n  \"fields\": [\n    {\n      \"column\": \"user\",\n      \"properties\": {\n        \"dtype\": \"string\",\n        \"num_unique_values\": 2083,\n        \"samples\": [\n          \"@ricardoveache\",\n          \"@diegomita777\",\n          \"@rochiii957\"\n        ],\n        \"semantic_type\": \"\",\n        \"description\": \"\"\n      }\n    },\n    {\n      \"column\": \"text\",\n      \"properties\": {\n        \"dtype\": \"string\",\n        \"num_unique_values\": 2191,\n        \"samples\": [\n          \"Si puedes contar una pel\\u00edcula para qu\\u00e9 hacerla? Se preguntaba Jafar Panahi exasperado en Esto no es una pel\\u00edcula . La experiencia vivida es una experiencia que pertenece al que la contempla, merece ser compartida Filmar es un acto de resistencia, pero sobre todo un acto de vida.\",\n          \"Yo me hab\\u00eda retirado, pero resucit\\u00e9.\",\n          \"Hoy me dijeron que yo era una ni\\u00f1a EXITOSA, y no me lo cre\\u00ed hasta que mire a mi alrededor y f\\u00edjate todo lo que he logrado solita \\ud83d\\ude4f\\ud83e\\udd29\"\n        ],\n        \"semantic_type\": \"\",\n        \"description\": \"\"\n      }\n    },\n    {\n      \"column\": \"date\",\n      \"properties\": {\n        \"dtype\": \"category\",\n        \"num_unique_values\": 949,\n        \"samples\": [\n          \"Dec 29, 2023 \\u00b7 8:29 PM UTC\",\n          \"Jan 5, 2024 \\u00b7 8:28 AM UTC\",\n          \"Jan 5, 2024 \\u00b7 7:45 PM UTC\"\n        ],\n        \"semantic_type\": \"\",\n        \"description\": \"\"\n      }\n    },\n    {\n      \"column\": \"emotion\",\n      \"properties\": {\n        \"dtype\": \"category\",\n        \"num_unique_values\": 20,\n        \"samples\": [\n          \"overwhelmed\",\n          \"playful\",\n          \"successful\"\n        ],\n        \"semantic_type\": \"\",\n        \"description\": \"\"\n      }\n    },\n    {\n      \"column\": \"sentiment\",\n      \"properties\": {\n        \"dtype\": \"category\",\n        \"num_unique_values\": 6,\n        \"samples\": [\n          \"scared\",\n          \"mad\",\n          \"joyful\"\n        ],\n        \"semantic_type\": \"\",\n        \"description\": \"\"\n      }\n    }\n  ]\n}"
            }
          },
          "metadata": {},
          "execution_count": 3
        }
      ],
      "source": [
        "import pandas as pd\n",
        "Twitter_1 = pd.read_csv('sentiment_analysis_dataset.csv')\n",
        "\n",
        "Twitter_1.head()"
      ]
    },
    {
      "cell_type": "code",
      "source": [
        "Twitter_1.info()"
      ],
      "metadata": {
        "colab": {
          "base_uri": "https://localhost:8080/"
        },
        "id": "U9JXnvjFi3T0",
        "outputId": "a34daae1-0ec4-401d-e390-e6b428ac512a"
      },
      "execution_count": 4,
      "outputs": [
        {
          "output_type": "stream",
          "name": "stdout",
          "text": [
            "<class 'pandas.core.frame.DataFrame'>\n",
            "RangeIndex: 2590 entries, 0 to 2589\n",
            "Data columns (total 5 columns):\n",
            " #   Column     Non-Null Count  Dtype \n",
            "---  ------     --------------  ----- \n",
            " 0   user       2590 non-null   object\n",
            " 1   text       2590 non-null   object\n",
            " 2   date       2590 non-null   object\n",
            " 3   emotion    2590 non-null   object\n",
            " 4   sentiment  2590 non-null   object\n",
            "dtypes: object(5)\n",
            "memory usage: 101.3+ KB\n"
          ]
        }
      ]
    },
    {
      "cell_type": "code",
      "source": [
        "Twitter_1['text'] = Twitter_1['text'].astype('string')"
      ],
      "metadata": {
        "id": "YFUGykE3imme"
      },
      "execution_count": 5,
      "outputs": []
    },
    {
      "cell_type": "code",
      "source": [
        "#Vemos que todos los campos estan en formato \"object\".\n",
        "#Transformaremos los campos con texto a formato \"string\", para poder trabajar mejor con herramientas de NLP.\n",
        "Twitter_1['user'] = Twitter_1['user'].astype('string')\n",
        "Twitter_1['text'] = Twitter_1['text'].astype('string')\n",
        "Twitter_1['emotion'] = Twitter_1['emotion'].astype('string')\n",
        "Twitter_1['sentiment'] = Twitter_1['sentiment'].astype('string')"
      ],
      "metadata": {
        "id": "xsuGSe-Fm7Up"
      },
      "execution_count": 6,
      "outputs": []
    },
    {
      "cell_type": "code",
      "source": [
        "Twitter_1.info()"
      ],
      "metadata": {
        "colab": {
          "base_uri": "https://localhost:8080/"
        },
        "id": "Bk5c9ahYnv7d",
        "outputId": "eaf8bc30-bb0d-490d-9e0e-e515f56b7f29"
      },
      "execution_count": 7,
      "outputs": [
        {
          "output_type": "stream",
          "name": "stdout",
          "text": [
            "<class 'pandas.core.frame.DataFrame'>\n",
            "RangeIndex: 2590 entries, 0 to 2589\n",
            "Data columns (total 5 columns):\n",
            " #   Column     Non-Null Count  Dtype \n",
            "---  ------     --------------  ----- \n",
            " 0   user       2590 non-null   string\n",
            " 1   text       2590 non-null   string\n",
            " 2   date       2590 non-null   object\n",
            " 3   emotion    2590 non-null   string\n",
            " 4   sentiment  2590 non-null   string\n",
            "dtypes: object(1), string(4)\n",
            "memory usage: 101.3+ KB\n"
          ]
        }
      ]
    },
    {
      "cell_type": "code",
      "execution_count": 8,
      "metadata": {
        "colab": {
          "base_uri": "https://localhost:8080/"
        },
        "id": "zJSLM18R0Ytm",
        "outputId": "a713933a-6e69-42ae-85f6-97c46bd18588"
      },
      "outputs": [
        {
          "output_type": "execute_result",
          "data": {
            "text/plain": [
              "(2590, 5)"
            ]
          },
          "metadata": {},
          "execution_count": 8
        }
      ],
      "source": [
        "Twitter_1.shape"
      ]
    },
    {
      "cell_type": "markdown",
      "metadata": {
        "id": "IsuNvQ957m-W"
      },
      "source": [
        "Columnas del dataset:\n",
        "\n",
        "- **user**: una referencia del usuario que dejo el review\n",
        "- **Text**: la revisión escrita por el usuario\n",
        "- **date**: fecha formato timestamp que indica cuando se creo la revision\n",
        "\n",
        "- **emocion**: una referencia la emocion del usuario\n",
        "- **sentimiento**: una referencia sobre el sentimiento del usuario\n"
      ]
    },
    {
      "cell_type": "markdown",
      "metadata": {
        "id": "dq6TigUN8Zxy"
      },
      "source": [
        "Miremos la distribucion del numero de palabras por review"
      ]
    },
    {
      "cell_type": "code",
      "execution_count": 9,
      "metadata": {
        "colab": {
          "base_uri": "https://localhost:8080/",
          "height": 0
        },
        "id": "FRoXoAfh8cUJ",
        "outputId": "6ee24056-5baf-40b8-843e-49ac6f0d04b9"
      },
      "outputs": [
        {
          "output_type": "execute_result",
          "data": {
            "text/plain": [
              "Text(0, 0.5, 'Frecuencia')"
            ]
          },
          "metadata": {},
          "execution_count": 9
        },
        {
          "output_type": "display_data",
          "data": {
            "text/plain": [
              "<Figure size 500x300 with 1 Axes>"
            ],
            "image/png": "[encoded data removed]"
          },
          "metadata": {}
        }
      ],
      "source": [
        "words_per_review = Twitter_1.text.apply(lambda x: len(x.split(\" \")))\n",
        "plt.figure(figsize=(5, 3))\n",
        "words_per_review.hist(bins = 100)\n",
        "plt.title('Numero de palabras por revision')\n",
        "plt.xlabel('Palabras')\n",
        "plt.ylabel('Frecuencia')"
      ]
    },
    {
      "cell_type": "code",
      "execution_count": 10,
      "metadata": {
        "colab": {
          "base_uri": "https://localhost:8080/"
        },
        "id": "7mcYXdhd8f1Z",
        "outputId": "e24bdc81-06c4-4602-c1bf-9511c33b759e"
      },
      "outputs": [
        {
          "output_type": "execute_result",
          "data": {
            "text/plain": [
              "23.853281853281853"
            ]
          },
          "metadata": {},
          "execution_count": 10
        }
      ],
      "source": [
        "words_per_review.mean()"
      ]
    },
    {
      "cell_type": "markdown",
      "source": [
        "Distribucion de los ratings"
      ],
      "metadata": {
        "id": "uw07Z86YxD2w"
      }
    },
    {
      "cell_type": "code",
      "source": [
        "Twitter_1.sentiment.value_counts()"
      ],
      "metadata": {
        "colab": {
          "base_uri": "https://localhost:8080/",
          "height": 0
        },
        "id": "XM9y_vj8xUbK",
        "outputId": "bc705a24-dab5-4926-d703-38aca97e0f9d"
      },
      "execution_count": 11,
      "outputs": [
        {
          "output_type": "execute_result",
          "data": {
            "text/plain": [
              "sentiment\n",
              "peaceful    660\n",
              "mad         530\n",
              "powerful    420\n",
              "sad         360\n",
              "joyful      350\n",
              "scared      270\n",
              "Name: count, dtype: Int64"
            ],
            "text/html": [
              "<div>\n",
              "<style scoped>\n",
              "    .dataframe tbody tr th:only-of-type {\n",
              "        vertical-align: middle;\n",
              "    }\n",
              "\n",
              "    .dataframe tbody tr th {\n",
              "        vertical-align: top;\n",
              "    }\n",
              "\n",
              "    .dataframe thead th {\n",
              "        text-align: right;\n",
              "    }\n",
              "</style>\n",
              "<table border=\"1\" class=\"dataframe\">\n",
              "  <thead>\n",
              "    <tr style=\"text-align: right;\">\n",
              "      <th></th>\n",
              "      <th>count</th>\n",
              "    </tr>\n",
              "    <tr>\n",
              "      <th>sentiment</th>\n",
              "      <th></th>\n",
              "    </tr>\n",
              "  </thead>\n",
              "  <tbody>\n",
              "    <tr>\n",
              "      <th>peaceful</th>\n",
              "      <td>660</td>\n",
              "    </tr>\n",
              "    <tr>\n",
              "      <th>mad</th>\n",
              "      <td>530</td>\n",
              "    </tr>\n",
              "    <tr>\n",
              "      <th>powerful</th>\n",
              "      <td>420</td>\n",
              "    </tr>\n",
              "    <tr>\n",
              "      <th>sad</th>\n",
              "      <td>360</td>\n",
              "    </tr>\n",
              "    <tr>\n",
              "      <th>joyful</th>\n",
              "      <td>350</td>\n",
              "    </tr>\n",
              "    <tr>\n",
              "      <th>scared</th>\n",
              "      <td>270</td>\n",
              "    </tr>\n",
              "  </tbody>\n",
              "</table>\n",
              "</div><br><label><b>dtype:</b> Int64</label>"
            ]
          },
          "metadata": {},
          "execution_count": 11
        }
      ]
    },
    {
      "cell_type": "code",
      "source": [
        "percent_val = 100 * Twitter_1.sentiment.value_counts()/Twitter_1.shape[0]\n",
        "percent_val"
      ],
      "metadata": {
        "colab": {
          "base_uri": "https://localhost:8080/",
          "height": 0
        },
        "id": "KQp2jQyixi_d",
        "outputId": "698d00b2-1ae8-43db-a0a4-082591c8c24e"
      },
      "execution_count": 12,
      "outputs": [
        {
          "output_type": "execute_result",
          "data": {
            "text/plain": [
              "sentiment\n",
              "peaceful    25.482625\n",
              "mad          20.46332\n",
              "powerful    16.216216\n",
              "sad         13.899614\n",
              "joyful      13.513514\n",
              "scared       10.42471\n",
              "Name: count, dtype: Float64"
            ],
            "text/html": [
              "<div>\n",
              "<style scoped>\n",
              "    .dataframe tbody tr th:only-of-type {\n",
              "        vertical-align: middle;\n",
              "    }\n",
              "\n",
              "    .dataframe tbody tr th {\n",
              "        vertical-align: top;\n",
              "    }\n",
              "\n",
              "    .dataframe thead th {\n",
              "        text-align: right;\n",
              "    }\n",
              "</style>\n",
              "<table border=\"1\" class=\"dataframe\">\n",
              "  <thead>\n",
              "    <tr style=\"text-align: right;\">\n",
              "      <th></th>\n",
              "      <th>count</th>\n",
              "    </tr>\n",
              "    <tr>\n",
              "      <th>sentiment</th>\n",
              "      <th></th>\n",
              "    </tr>\n",
              "  </thead>\n",
              "  <tbody>\n",
              "    <tr>\n",
              "      <th>peaceful</th>\n",
              "      <td>25.482625</td>\n",
              "    </tr>\n",
              "    <tr>\n",
              "      <th>mad</th>\n",
              "      <td>20.46332</td>\n",
              "    </tr>\n",
              "    <tr>\n",
              "      <th>powerful</th>\n",
              "      <td>16.216216</td>\n",
              "    </tr>\n",
              "    <tr>\n",
              "      <th>sad</th>\n",
              "      <td>13.899614</td>\n",
              "    </tr>\n",
              "    <tr>\n",
              "      <th>joyful</th>\n",
              "      <td>13.513514</td>\n",
              "    </tr>\n",
              "    <tr>\n",
              "      <th>scared</th>\n",
              "      <td>10.42471</td>\n",
              "    </tr>\n",
              "  </tbody>\n",
              "</table>\n",
              "</div><br><label><b>dtype:</b> Float64</label>"
            ]
          },
          "metadata": {},
          "execution_count": 12
        }
      ]
    },
    {
      "cell_type": "code",
      "source": [
        "plt.figure(figsize=(5, 3))\n",
        "percent_val.plot.bar()\n",
        "plt.title('Revisiones por scores')\n",
        "plt.xlabel('Score')\n",
        "plt.ylabel('Porcentaje (%)')"
      ],
      "metadata": {
        "colab": {
          "base_uri": "https://localhost:8080/",
          "height": 0
        },
        "id": "ZJASeBBExx9T",
        "outputId": "bdf211ad-b79a-4e72-81c3-87bd0b9ac9b3"
      },
      "execution_count": 13,
      "outputs": [
        {
          "output_type": "execute_result",
          "data": {
            "text/plain": [
              "Text(0, 0.5, 'Porcentaje (%)')"
            ]
          },
          "metadata": {},
          "execution_count": 13
        },
        {
          "output_type": "display_data",
          "data": {
            "text/plain": [
              "<Figure size 500x300 with 1 Axes>"
            ],
            "image/png": "[encoded data removed]"
          },
          "metadata": {}
        }
      ]
    },
    {
      "cell_type": "markdown",
      "metadata": {
        "id": "z6JfoGI18uT2"
      },
      "source": [
        "# Wordcloud"
      ]
    },
    {
      "cell_type": "code",
      "source": [
        "Twitter_1.text\n",
        "Twitter_1['text']"
      ],
      "metadata": {
        "id": "up7614eceT7J",
        "colab": {
          "base_uri": "https://localhost:8080/",
          "height": 0
        },
        "outputId": "94baa681-6685-4aa2-edf3-04dd442e52af"
      },
      "execution_count": 14,
      "outputs": [
        {
          "output_type": "execute_result",
          "data": {
            "text/plain": [
              "0                    termine bien abrumado después de hoy\n",
              "1                                      me siento abrumado\n",
              "2       Me siento un poco abrumado por la cantidad de ...\n",
              "3       Salvador la única persona que no la ha abrumad...\n",
              "4          Denme un helado o algo que ando full abrumado.\n",
              "                              ...                        \n",
              "2585    No podemos vivir con miedo:   ¡Manejen borrach...\n",
              "2586       La vida es un constante, SIN MIEDO AL ÉXITO 💅🏼\n",
              "2587    Esquizofrenia = mente dividida: Miedo a las re...\n",
              "2588    \"Lo que más miedo me da, es ver cómo desaparec...\n",
              "2589    Saltando de apoco ala pile sin agua xd sin mie...\n",
              "Name: text, Length: 2590, dtype: string"
            ],
            "text/html": [
              "<div>\n",
              "<style scoped>\n",
              "    .dataframe tbody tr th:only-of-type {\n",
              "        vertical-align: middle;\n",
              "    }\n",
              "\n",
              "    .dataframe tbody tr th {\n",
              "        vertical-align: top;\n",
              "    }\n",
              "\n",
              "    .dataframe thead th {\n",
              "        text-align: right;\n",
              "    }\n",
              "</style>\n",
              "<table border=\"1\" class=\"dataframe\">\n",
              "  <thead>\n",
              "    <tr style=\"text-align: right;\">\n",
              "      <th></th>\n",
              "      <th>text</th>\n",
              "    </tr>\n",
              "  </thead>\n",
              "  <tbody>\n",
              "    <tr>\n",
              "      <th>0</th>\n",
              "      <td>termine bien abrumado después de hoy</td>\n",
              "    </tr>\n",
              "    <tr>\n",
              "      <th>1</th>\n",
              "      <td>me siento abrumado</td>\n",
              "    </tr>\n",
              "    <tr>\n",
              "      <th>2</th>\n",
              "      <td>Me siento un poco abrumado por la cantidad de ...</td>\n",
              "    </tr>\n",
              "    <tr>\n",
              "      <th>3</th>\n",
              "      <td>Salvador la única persona que no la ha abrumad...</td>\n",
              "    </tr>\n",
              "    <tr>\n",
              "      <th>4</th>\n",
              "      <td>Denme un helado o algo que ando full abrumado.</td>\n",
              "    </tr>\n",
              "    <tr>\n",
              "      <th>...</th>\n",
              "      <td>...</td>\n",
              "    </tr>\n",
              "    <tr>\n",
              "      <th>2585</th>\n",
              "      <td>No podemos vivir con miedo:   ¡Manejen borrach...</td>\n",
              "    </tr>\n",
              "    <tr>\n",
              "      <th>2586</th>\n",
              "      <td>La vida es un constante, SIN MIEDO AL ÉXITO 💅🏼</td>\n",
              "    </tr>\n",
              "    <tr>\n",
              "      <th>2587</th>\n",
              "      <td>Esquizofrenia = mente dividida: Miedo a las re...</td>\n",
              "    </tr>\n",
              "    <tr>\n",
              "      <th>2588</th>\n",
              "      <td>\"Lo que más miedo me da, es ver cómo desaparec...</td>\n",
              "    </tr>\n",
              "    <tr>\n",
              "      <th>2589</th>\n",
              "      <td>Saltando de apoco ala pile sin agua xd sin mie...</td>\n",
              "    </tr>\n",
              "  </tbody>\n",
              "</table>\n",
              "<p>2590 rows × 1 columns</p>\n",
              "</div><br><label><b>dtype:</b> string</label>"
            ]
          },
          "metadata": {},
          "execution_count": 14
        }
      ]
    },
    {
      "cell_type": "code",
      "execution_count": 15,
      "metadata": {
        "colab": {
          "base_uri": "https://localhost:8080/",
          "height": 0
        },
        "id": "p4T2z4H-8vat",
        "outputId": "26cb1147-6adc-4bdd-8e6c-f5090b278dd5"
      },
      "outputs": [
        {
          "output_type": "stream",
          "name": "stdout",
          "text": [
            "344593\n"
          ]
        },
        {
          "output_type": "display_data",
          "data": {
            "text/plain": [
              "<Figure size 1200x600 with 1 Axes>"
            ],
            "image/png": "[encoded data removed]"
          },
          "metadata": {}
        }
      ],
      "source": [
        "word_cloud_text = ''.join(Twitter_1.text)\n",
        "print(len(word_cloud_text))\n",
        "\n",
        "wordcloud = WordCloud(\n",
        "    max_font_size=100,\n",
        "    max_words=100,\n",
        "    background_color=\"white\",\n",
        "    scale=10,\n",
        "    width=800,\n",
        "    height=400\n",
        ").generate(word_cloud_text)\n",
        "\n",
        "plt.figure(figsize=(12,6))\n",
        "plt.imshow(wordcloud, interpolation=\"bilinear\")\n",
        "plt.axis(\"off\")\n",
        "plt.show()"
      ]
    },
    {
      "cell_type": "markdown",
      "metadata": {
        "id": "qQK8Ykur80AZ"
      },
      "source": [
        "El wordcloud muestra que las palabras que aparecen con mas frecuencia (de mayor tamaño) son palabras que podrian considerarse como stopwords. Lo cual sera un issue a tener en cuenta a la hora de realizar el preprosesamiento de datos.\n"
      ]
    },
    {
      "cell_type": "markdown",
      "metadata": {
        "id": "oCIjwyvX9DnC"
      },
      "source": [
        "# Estandarizacion binaria para analisis de sentimiento"
      ]
    },
    {
      "cell_type": "markdown",
      "metadata": {
        "id": "CFpvV3IP9HPt"
      },
      "source": [
        "Para propositos del analisis de sentimiento convertiremos todos los sentimientos en valores binarios con las siguientes reglas:\n",
        "- sentimeintos \"joyfull\", \"pacefull\" y \"powerfull\"  seran convertidos a 1 (positivo)\n",
        "- sentimientos \"scared\", \"mad\" y \"sad\" seran convertidos a 0 (negativo)\n"
      ]
    },
    {
      "cell_type": "code",
      "execution_count": 16,
      "metadata": {
        "colab": {
          "base_uri": "https://localhost:8080/",
          "height": 0
        },
        "id": "XE3s2uHi9W0t",
        "outputId": "a64e4f8b-c49a-4f84-f58b-ff2111ca26c5"
      },
      "outputs": [
        {
          "output_type": "execute_result",
          "data": {
            "text/plain": [
              "Sentiment_rating\n",
              "1    1430\n",
              "0    1160\n",
              "Name: count, dtype: int64"
            ],
            "text/html": [
              "<div>\n",
              "<style scoped>\n",
              "    .dataframe tbody tr th:only-of-type {\n",
              "        vertical-align: middle;\n",
              "    }\n",
              "\n",
              "    .dataframe tbody tr th {\n",
              "        vertical-align: top;\n",
              "    }\n",
              "\n",
              "    .dataframe thead th {\n",
              "        text-align: right;\n",
              "    }\n",
              "</style>\n",
              "<table border=\"1\" class=\"dataframe\">\n",
              "  <thead>\n",
              "    <tr style=\"text-align: right;\">\n",
              "      <th></th>\n",
              "      <th>count</th>\n",
              "    </tr>\n",
              "    <tr>\n",
              "      <th>Sentiment_rating</th>\n",
              "      <th></th>\n",
              "    </tr>\n",
              "  </thead>\n",
              "  <tbody>\n",
              "    <tr>\n",
              "      <th>1</th>\n",
              "      <td>1430</td>\n",
              "    </tr>\n",
              "    <tr>\n",
              "      <th>0</th>\n",
              "      <td>1160</td>\n",
              "    </tr>\n",
              "  </tbody>\n",
              "</table>\n",
              "</div><br><label><b>dtype:</b> int64</label>"
            ]
          },
          "metadata": {},
          "execution_count": 16
        }
      ],
      "source": [
        "Twitter_1['Sentiment_rating'] = np.where(\n",
        "    Twitter_1['sentiment'].isin([\"peaceful\", \"powerful\", \"joyful\"]), 1, 0\n",
        ")\n",
        "\n",
        "\n",
        "Twitter_1['Sentiment_rating'].value_counts()"
      ]
    },
    {
      "cell_type": "code",
      "execution_count": 17,
      "metadata": {
        "colab": {
          "base_uri": "https://localhost:8080/",
          "height": 0
        },
        "id": "7EFLK3p69ajb",
        "outputId": "d5edb17b-756c-476f-c18e-1d7e15ec9a4b"
      },
      "outputs": [
        {
          "output_type": "execute_result",
          "data": {
            "text/plain": [
              "Text(0, 0.5, 'Frecuencia')"
            ]
          },
          "metadata": {},
          "execution_count": 17
        },
        {
          "output_type": "display_data",
          "data": {
            "text/plain": [
              "<Figure size 500x300 with 1 Axes>"
            ],
            "image/png": "[encoded data removed]"
          },
          "metadata": {}
        }
      ],
      "source": [
        "\n",
        "plt.figure(figsize=(5, 3))\n",
        "Twitter_1.Sentiment_rating.value_counts().plot.bar()\n",
        "plt.title('Scores luego de estandarizacion')\n",
        "plt.xlabel('Score')\n",
        "plt.ylabel('Frecuencia')"
      ]
    },
    {
      "cell_type": "markdown",
      "metadata": {
        "id": "yQHkuA0Y9e2q"
      },
      "source": [
        "# Preprocesamiento"
      ]
    },
    {
      "cell_type": "markdown",
      "metadata": {
        "id": "DqxWLz1PAfer"
      },
      "source": [
        "En este paso vamos a:\n",
        "1. Convertir palabras a minusculas\n",
        "2. remover caracteres especiales\n",
        "3. remover stopwords y palabras de alta frecuencia\n",
        "4. Stemming y lemantizacion\n",
        "\n",
        "Procedamos con la primera fase"
      ]
    },
    {
      "cell_type": "code",
      "execution_count": 18,
      "metadata": {
        "id": "nqPMAWzaAzWk"
      },
      "outputs": [],
      "source": [
        "Twitter_1['reviews_text_new'] = Twitter_1.text.apply(lambda x: x.lower())"
      ]
    },
    {
      "cell_type": "markdown",
      "metadata": {
        "id": "417Vf1C4A1oI"
      },
      "source": [
        "Las siguientes fases:"
      ]
    },
    {
      "cell_type": "code",
      "execution_count": 19,
      "metadata": {
        "colab": {
          "base_uri": "https://localhost:8080/"
        },
        "id": "zC_-ZELYA3Iz",
        "outputId": "b10b463a-c108-4afd-e3a2-a49b8b39a642"
      },
      "outputs": [
        {
          "output_type": "stream",
          "name": "stderr",
          "text": [
            "[nltk_data] Downloading package punkt_tab to /root/nltk_data...\n",
            "[nltk_data]   Package punkt_tab is already up-to-date!\n"
          ]
        },
        {
          "output_type": "stream",
          "name": "stdout",
          "text": [
            "Numero de tokens unicos antes:  12463\n",
            "Numero de tokens unicos nuevos:  11241\n"
          ]
        }
      ],
      "source": [
        "from nltk import word_tokenize\n",
        "import nltk\n",
        "\n",
        "nltk.download('punkt_tab')\n",
        "\n",
        "token_lists = [word_tokenize(each) for each in Twitter_1.text]\n",
        "tokens = [item for sublist in token_lists for item in sublist]\n",
        "print(\"Numero de tokens unicos antes: \", len(set(tokens)))\n",
        "\n",
        "token_lists_lower = [word_tokenize(each) for each in Twitter_1.reviews_text_new]\n",
        "tokens_lower = [item for sublist in token_lists_lower for item in sublist]\n",
        "print(\"Numero de tokens unicos nuevos: \", len(set(tokens_lower)))\n",
        "\n"
      ]
    },
    {
      "cell_type": "markdown",
      "source": [],
      "metadata": {
        "id": "LHOa-7i97MjV"
      }
    },
    {
      "cell_type": "code",
      "execution_count": 20,
      "metadata": {
        "colab": {
          "base_uri": "https://localhost:8080/"
        },
        "id": "2Ixj5AbQBFaN",
        "outputId": "8aa636de-8ab3-4a94-e323-9efd4f613143"
      },
      "outputs": [
        {
          "output_type": "execute_result",
          "data": {
            "text/plain": [
              "0.09805022867688358"
            ]
          },
          "metadata": {},
          "execution_count": 20
        }
      ],
      "source": [
        "(12463-11241)/12463"
      ]
    },
    {
      "cell_type": "markdown",
      "metadata": {
        "id": "EQBzVKWlA_-0"
      },
      "source": [
        "El numero de tokens han bajado en cerca del 10% con la normalizacion"
      ]
    },
    {
      "cell_type": "markdown",
      "metadata": {
        "id": "8SnPc7g6BV9N"
      },
      "source": [
        "Eliminar caracteres especiales es una decisión compleja, especialmente en casos de analisis de sentimiento, la presencia de signos de exclamación puede indicar claramente algo sobre el sentimiento subyacente, por lo que eliminarlos puede no ser una buena idea.\n",
        "\n",
        "Por otro lado, eliminar la puntuación sin carga emocional, como las comas, los puntos y el punto y coma, reducen diemencionalidad y no restan valor al modelo.\n",
        "\n",
        "En aras de la simplicidad, procederemos eliminando todos los caracteres especiales; sin embargo, vale la pena tener en cuenta que esto es algo para revisar dependiendo de los resultados que obtengamos más adelante. Lo siguiente da una lista de todos los caracteres especiales en nuestro conjunto de datos"
      ]
    },
    {
      "cell_type": "code",
      "execution_count": 21,
      "metadata": {
        "colab": {
          "base_uri": "https://localhost:8080/"
        },
        "id": "33IALa4i9gB8",
        "outputId": "14fc335c-ea42-4ee7-a869-d294ea6aede9"
      },
      "outputs": [
        {
          "output_type": "stream",
          "name": "stdout",
          "text": [
            "{'🤒', '👏', '⚡', '🫠', '🙁', '●', '☕', '♎', '🤦', '😛', '🤷', '\\xa0', '🥱', '🇱', '😋', '○', ']', '🚙', '/', '🔓', '💚', '━', '🎀', '🇵', '🚬', '◉', '💥', '🇺', '🌟', '❞', '🥶', '😘', '🤩', '🤭', '♀', '🌩', '\\u200d', '¿', '💋', '💙', '💨', '🥴', '#', '\\U0001fa75', '🇻', '🦌', '🇲', '🚌', '🎂', '🥀', '😆', '?', '💜', '🧵', '⃣', '☺', '‘', '😂', '😳', '👉', '🥹', '🇽', '🧠', '🏔', '✌', '&', '🧡', '🔱', '🕐', '🫤', '❓', '😻', '🥵', '🌈', '_', '–', '~', '•', '☹', '🦒', '🌚', '😌', '❌', '🚗', '>', '💔', '🇷', '🔥', '♂', '🥰', '✨', '🧑', '🍃', '🤢', '😔', '🐷', '💩', '🛐', '🤣', '🫵', '🛠', '😭', '🌊', '❤', '🍾', '😾', '🎵', '🏖', '😿', '🌌', '🇯', '💅', '🍳', '🌺', '🤪', '😣', '➖', '🐊', '⚙', '🕵', '\"', '🥳', '🎸', '👍', '😮', '%', '°', '💛', '🫣', '📲', '🤡', '♒', '⏳', '🦸', '👊', '💭', '👁', '😬', '🎶', '🔋', '🙄', '💘', '💸', ')', '☠', '😊', '😍', '’', '🏳', '💖', '🚨', '🌹', '😉', '=', '🤍', '🤨', '🇭', '🪄', '🤠', '🇹', '👼', '💓', '✊', '👑', '➡', ',', '😩', '💁', '😓', '🥲', '🥃', '😒', '💊', '😈', '🪨', '͟', '😥', '😏', '💀', '😖', '😞', '⚠', '🖤', '😵', '🦕', '💕', '✅', '💗', '👣', '.', '🏿', '🫡', '-', '🐽', '🤗', '🎄', '(', '😃', '😕', '😨', '🤝', '🙌', '🫶', '⠀', '😷', '🦲', '🏆', '💣', '»', '[', '…', '🇪', '😪', '⚾', '💫', '📈', '😎', '💪', '⚧', '🏾', '🦁', '👽', '✍', '💧', '⚽', '🙃', '›', '🙂', '😅', '😡', '🕰', '$', '😹', '🇮', '🏃', '︎', '”', '🐋', '🇸', '☝', '🔴', '«', '|', '🐯', '🕊', '😑', '!', '🏼', '💆', '@', '😟', '\\U0001fabd', '😶', '💡', '🍂', '“', '🥺', '🛸', '😇', '🎁', '<', '🩹', '🌧', '👀', '🏽', '☁', '⸻', '😢', ':', '🇨', '😲', '♥', ';', '🤔', '🤧', '+', '🍒', '🤞', '🦆', '🍀', '¡', '👌', '*', '😜', '—', '〞', '🇴', '❝', '🌍', '⏱', '🤓', \"'\", '💼', '🙊', '🐶', '😐', '💵', '👇', '\\U0001fa77', '⬇', '🗨', '😝', '〝', '🤖', '🇦', '🙏', '🤯', '🫂', '😫', '🔒', '🚩', '─', '😴', '🚀', '🤬', '🇳', '️', '♡', '😤', '☘', '🔟', '€', '\\U0001fae8', '🕯', '🏻', '🔼'}\n"
          ]
        }
      ],
      "source": [
        "# Seleccionando los caracteres no alfa numericos que no son espacios\n",
        "special_chars = Twitter_1.reviews_text_new.apply(lambda x: [each for each in list(x) if not each.isalnum() and each != ' '])\n",
        "\n",
        "# obtener una lista de listas\n",
        "flat_list = [item for sublist in special_chars for item in sublist]\n",
        "\n",
        "# caracteres especiales unicos\n",
        "print(set(flat_list))"
      ]
    },
    {
      "cell_type": "markdown",
      "metadata": {
        "id": "kJeTZCmfBrX8"
      },
      "source": [
        "Ahora removamos los caracteres especiales de los reviews"
      ]
    },
    {
      "cell_type": "code",
      "execution_count": 22,
      "metadata": {
        "id": "tI1Zh8MiBuZw"
      },
      "outputs": [],
      "source": [
        "import re\n",
        "review_backup = Twitter_1.reviews_text_new.copy()\n",
        "Twitter_1.reviews_text_new = Twitter_1.reviews_text_new.apply(\n",
        "    lambda x: re.sub('[^A-Za-z0-9 ]+', ' ', x)\n",
        ")"
      ]
    },
    {
      "cell_type": "markdown",
      "metadata": {
        "id": "btC5RULGBxLX"
      },
      "source": [
        "Miremos como se ven algunos de los resultados luego de remover esto"
      ]
    },
    {
      "cell_type": "code",
      "execution_count": 23,
      "metadata": {
        "colab": {
          "base_uri": "https://localhost:8080/",
          "height": 0
        },
        "id": "wITFs61CB0cx",
        "outputId": "4189322e-be08-46d3-e6f2-d54ff5f63eee"
      },
      "outputs": [
        {
          "output_type": "stream",
          "name": "stdout",
          "text": [
            "Review anterior:\n"
          ]
        },
        {
          "output_type": "execute_result",
          "data": {
            "text/plain": [
              "'oh, las vacaciones. tesoros inciertos, venideros y preciados para cualquier trabajador abrumado por la sobreexplotación. un sueño fugaz en el que el dinero parecía no importar, a cambio de un breve respiro de placer, diversión y alivio.  su tesoro perdido, ahora convertido'"
            ],
            "application/vnd.google.colaboratory.intrinsic+json": {
              "type": "string"
            }
          },
          "metadata": {},
          "execution_count": 23
        }
      ],
      "source": [
        "print(\"Review anterior:\")\n",
        "review_backup.values[7]"
      ]
    },
    {
      "cell_type": "code",
      "execution_count": 24,
      "metadata": {
        "colab": {
          "base_uri": "https://localhost:8080/",
          "height": 0
        },
        "id": "E8K8haC9B29Y",
        "outputId": "5be94776-77b5-43bf-b4c5-68f4c4cca317"
      },
      "outputs": [
        {
          "output_type": "stream",
          "name": "stdout",
          "text": [
            "Review nuevo:\n"
          ]
        },
        {
          "output_type": "execute_result",
          "data": {
            "text/plain": [
              "'oh  las vacaciones  tesoros inciertos  venideros y preciados para cualquier trabajador abrumado por la sobreexplotaci n  un sue o fugaz en el que el dinero parec a no importar  a cambio de un breve respiro de placer  diversi n y alivio   su tesoro perdido  ahora convertido'"
            ],
            "application/vnd.google.colaboratory.intrinsic+json": {
              "type": "string"
            }
          },
          "metadata": {},
          "execution_count": 24
        }
      ],
      "source": [
        "print(\"Review nuevo:\")\n",
        "Twitter_1.reviews_text_new[7]"
      ]
    },
    {
      "cell_type": "markdown",
      "metadata": {
        "id": "viiMJcdXB9fA"
      },
      "source": [
        "El numero de tokens unicos que se han borrado son"
      ]
    },
    {
      "cell_type": "code",
      "execution_count": 25,
      "metadata": {
        "id": "HkwuWkWZB8oz",
        "colab": {
          "base_uri": "https://localhost:8080/"
        },
        "outputId": "6ff34963-69b1-4df6-968d-e7456a3e72d7"
      },
      "outputs": [
        {
          "output_type": "stream",
          "name": "stdout",
          "text": [
            "Numero de token unicos antes:  12463\n",
            "Numero de tokens unicos despues:  10205\n"
          ]
        }
      ],
      "source": [
        "token_lists = [word_tokenize(each) for each in Twitter_1.text]\n",
        "tokens = [item for sublist in token_lists for item in sublist]\n",
        "print(\"Numero de token unicos antes: \", len(set(tokens)))\n",
        "\n",
        "token_lists = [word_tokenize(each) for each in Twitter_1.reviews_text_new]\n",
        "tokens = [item for sublist in token_lists for item in sublist]\n",
        "print(\"Numero de tokens unicos despues: \", len(set(tokens)))"
      ]
    },
    {
      "cell_type": "markdown",
      "metadata": {
        "id": "-EKO6f24CIbg"
      },
      "source": [
        "## stopwords y palabras de alta/baja frecuencia\n",
        "\n",
        "Vamos a remover estas palabras"
      ]
    },
    {
      "cell_type": "code",
      "execution_count": 26,
      "metadata": {
        "id": "Z6uhTzzVCPB2",
        "colab": {
          "base_uri": "https://localhost:8080/"
        },
        "outputId": "4e1d617f-f144-416b-ad87-3b8fccaa9348"
      },
      "outputs": [
        {
          "output_type": "stream",
          "name": "stdout",
          "text": [
            "313\n"
          ]
        },
        {
          "output_type": "stream",
          "name": "stderr",
          "text": [
            "[nltk_data] Downloading package stopwords to /root/nltk_data...\n",
            "[nltk_data]   Package stopwords is already up-to-date!\n"
          ]
        },
        {
          "output_type": "execute_result",
          "data": {
            "text/plain": [
              "['de',\n",
              " 'la',\n",
              " 'que',\n",
              " 'el',\n",
              " 'en',\n",
              " 'y',\n",
              " 'a',\n",
              " 'los',\n",
              " 'del',\n",
              " 'se',\n",
              " 'las',\n",
              " 'por',\n",
              " 'un',\n",
              " 'para',\n",
              " 'con',\n",
              " 'no',\n",
              " 'una',\n",
              " 'su',\n",
              " 'al',\n",
              " 'lo',\n",
              " 'como',\n",
              " 'más',\n",
              " 'pero',\n",
              " 'sus',\n",
              " 'le',\n",
              " 'ya',\n",
              " 'o',\n",
              " 'este',\n",
              " 'sí',\n",
              " 'porque',\n",
              " 'esta',\n",
              " 'entre',\n",
              " 'cuando',\n",
              " 'muy',\n",
              " 'sin',\n",
              " 'sobre',\n",
              " 'también',\n",
              " 'me',\n",
              " 'hasta',\n",
              " 'hay',\n",
              " 'donde',\n",
              " 'quien',\n",
              " 'desde',\n",
              " 'todo',\n",
              " 'nos',\n",
              " 'durante',\n",
              " 'todos',\n",
              " 'uno',\n",
              " 'les',\n",
              " 'ni',\n",
              " 'contra',\n",
              " 'otros',\n",
              " 'ese',\n",
              " 'eso',\n",
              " 'ante',\n",
              " 'ellos',\n",
              " 'e',\n",
              " 'esto',\n",
              " 'mí',\n",
              " 'antes',\n",
              " 'algunos',\n",
              " 'qué',\n",
              " 'unos',\n",
              " 'yo',\n",
              " 'otro',\n",
              " 'otras',\n",
              " 'otra',\n",
              " 'él',\n",
              " 'tanto',\n",
              " 'esa',\n",
              " 'estos',\n",
              " 'mucho',\n",
              " 'quienes',\n",
              " 'nada',\n",
              " 'muchos',\n",
              " 'cual',\n",
              " 'poco',\n",
              " 'ella',\n",
              " 'estar',\n",
              " 'estas',\n",
              " 'algunas',\n",
              " 'algo',\n",
              " 'nosotros',\n",
              " 'mi',\n",
              " 'mis',\n",
              " 'tú',\n",
              " 'te',\n",
              " 'ti',\n",
              " 'tu',\n",
              " 'tus',\n",
              " 'ellas',\n",
              " 'nosotras',\n",
              " 'vosotros',\n",
              " 'vosotras',\n",
              " 'os',\n",
              " 'mío',\n",
              " 'mía',\n",
              " 'míos',\n",
              " 'mías',\n",
              " 'tuyo',\n",
              " 'tuya',\n",
              " 'tuyos',\n",
              " 'tuyas',\n",
              " 'suyo',\n",
              " 'suya',\n",
              " 'suyos',\n",
              " 'suyas',\n",
              " 'nuestro',\n",
              " 'nuestra',\n",
              " 'nuestros',\n",
              " 'nuestras',\n",
              " 'vuestro',\n",
              " 'vuestra',\n",
              " 'vuestros',\n",
              " 'vuestras',\n",
              " 'esos',\n",
              " 'esas',\n",
              " 'estoy',\n",
              " 'estás',\n",
              " 'está',\n",
              " 'estamos',\n",
              " 'estáis',\n",
              " 'están',\n",
              " 'esté',\n",
              " 'estés',\n",
              " 'estemos',\n",
              " 'estéis',\n",
              " 'estén',\n",
              " 'estaré',\n",
              " 'estarás',\n",
              " 'estará',\n",
              " 'estaremos',\n",
              " 'estaréis',\n",
              " 'estarán',\n",
              " 'estaría',\n",
              " 'estarías',\n",
              " 'estaríamos',\n",
              " 'estaríais',\n",
              " 'estarían',\n",
              " 'estaba',\n",
              " 'estabas',\n",
              " 'estábamos',\n",
              " 'estabais',\n",
              " 'estaban',\n",
              " 'estuve',\n",
              " 'estuviste',\n",
              " 'estuvo',\n",
              " 'estuvimos',\n",
              " 'estuvisteis',\n",
              " 'estuvieron',\n",
              " 'estuviera',\n",
              " 'estuvieras',\n",
              " 'estuviéramos',\n",
              " 'estuvierais',\n",
              " 'estuvieran',\n",
              " 'estuviese',\n",
              " 'estuvieses',\n",
              " 'estuviésemos',\n",
              " 'estuvieseis',\n",
              " 'estuviesen',\n",
              " 'estando',\n",
              " 'estado',\n",
              " 'estada',\n",
              " 'estados',\n",
              " 'estadas',\n",
              " 'estad',\n",
              " 'he',\n",
              " 'has',\n",
              " 'ha',\n",
              " 'hemos',\n",
              " 'habéis',\n",
              " 'han',\n",
              " 'haya',\n",
              " 'hayas',\n",
              " 'hayamos',\n",
              " 'hayáis',\n",
              " 'hayan',\n",
              " 'habré',\n",
              " 'habrás',\n",
              " 'habrá',\n",
              " 'habremos',\n",
              " 'habréis',\n",
              " 'habrán',\n",
              " 'habría',\n",
              " 'habrías',\n",
              " 'habríamos',\n",
              " 'habríais',\n",
              " 'habrían',\n",
              " 'había',\n",
              " 'habías',\n",
              " 'habíamos',\n",
              " 'habíais',\n",
              " 'habían',\n",
              " 'hube',\n",
              " 'hubiste',\n",
              " 'hubo',\n",
              " 'hubimos',\n",
              " 'hubisteis',\n",
              " 'hubieron',\n",
              " 'hubiera',\n",
              " 'hubieras',\n",
              " 'hubiéramos',\n",
              " 'hubierais',\n",
              " 'hubieran',\n",
              " 'hubiese',\n",
              " 'hubieses',\n",
              " 'hubiésemos',\n",
              " 'hubieseis',\n",
              " 'hubiesen',\n",
              " 'habiendo',\n",
              " 'habido',\n",
              " 'habida',\n",
              " 'habidos',\n",
              " 'habidas',\n",
              " 'soy',\n",
              " 'eres',\n",
              " 'es',\n",
              " 'somos',\n",
              " 'sois',\n",
              " 'son',\n",
              " 'sea',\n",
              " 'seas',\n",
              " 'seamos',\n",
              " 'seáis',\n",
              " 'sean',\n",
              " 'seré',\n",
              " 'serás',\n",
              " 'será',\n",
              " 'seremos',\n",
              " 'seréis',\n",
              " 'serán',\n",
              " 'sería',\n",
              " 'serías',\n",
              " 'seríamos',\n",
              " 'seríais',\n",
              " 'serían',\n",
              " 'era',\n",
              " 'eras',\n",
              " 'éramos',\n",
              " 'erais',\n",
              " 'eran',\n",
              " 'fui',\n",
              " 'fuiste',\n",
              " 'fue',\n",
              " 'fuimos',\n",
              " 'fuisteis',\n",
              " 'fueron',\n",
              " 'fuera',\n",
              " 'fueras',\n",
              " 'fuéramos',\n",
              " 'fuerais',\n",
              " 'fueran',\n",
              " 'fuese',\n",
              " 'fueses',\n",
              " 'fuésemos',\n",
              " 'fueseis',\n",
              " 'fuesen',\n",
              " 'sintiendo',\n",
              " 'sentido',\n",
              " 'sentida',\n",
              " 'sentidos',\n",
              " 'sentidas',\n",
              " 'siente',\n",
              " 'sentid',\n",
              " 'tengo',\n",
              " 'tienes',\n",
              " 'tiene',\n",
              " 'tenemos',\n",
              " 'tenéis',\n",
              " 'tienen',\n",
              " 'tenga',\n",
              " 'tengas',\n",
              " 'tengamos',\n",
              " 'tengáis',\n",
              " 'tengan',\n",
              " 'tendré',\n",
              " 'tendrás',\n",
              " 'tendrá',\n",
              " 'tendremos',\n",
              " 'tendréis',\n",
              " 'tendrán',\n",
              " 'tendría',\n",
              " 'tendrías',\n",
              " 'tendríamos',\n",
              " 'tendríais',\n",
              " 'tendrían',\n",
              " 'tenía',\n",
              " 'tenías',\n",
              " 'teníamos',\n",
              " 'teníais',\n",
              " 'tenían',\n",
              " 'tuve',\n",
              " 'tuviste',\n",
              " 'tuvo',\n",
              " 'tuvimos',\n",
              " 'tuvisteis',\n",
              " 'tuvieron',\n",
              " 'tuviera',\n",
              " 'tuvieras',\n",
              " 'tuviéramos',\n",
              " 'tuvierais',\n",
              " 'tuvieran',\n",
              " 'tuviese',\n",
              " 'tuvieses',\n",
              " 'tuviésemos',\n",
              " 'tuvieseis',\n",
              " 'tuviesen',\n",
              " 'teniendo',\n",
              " 'tenido',\n",
              " 'tenida',\n",
              " 'tenidos',\n",
              " 'tenidas',\n",
              " 'tened']"
            ]
          },
          "metadata": {},
          "execution_count": 26
        }
      ],
      "source": [
        "import nltk\n",
        "nltk.download('stopwords')\n",
        "\n",
        "noise_words = []\n",
        "stopwords_corpus = nltk.corpus.stopwords\n",
        "es_stop_words = stopwords_corpus.words('spanish')\n",
        "noise_words.extend(es_stop_words)\n",
        "print(len(noise_words))\n",
        "noise_words"
      ]
    },
    {
      "cell_type": "markdown",
      "metadata": {
        "id": "oonZd40DCRnt"
      },
      "source": [
        "Encontremos las palabras de alta y baja frecuencia, que definiremos como el 1 % de las palabras que aparecen con más frecuencia en las reseñas, así como el 1 % de las palabras que aparecen con menos frecuencia en las reseñas (después de ajustar por mayúsculas y minúsculas y caracteres especiales)."
      ]
    },
    {
      "cell_type": "code",
      "execution_count": 27,
      "metadata": {
        "id": "phySUXSpCb7N",
        "colab": {
          "base_uri": "https://localhost:8080/"
        },
        "outputId": "03716a91-7856-4c3c-8ebb-d9c8435eedb3"
      },
      "outputs": [
        {
          "output_type": "execute_result",
          "data": {
            "text/plain": [
              "[('de', 2515),\n",
              " ('que', 2145),\n",
              " ('a', 1973),\n",
              " ('y', 1778),\n",
              " ('la', 1481),\n",
              " ('el', 1310),\n",
              " ('no', 1114),\n",
              " ('en', 1082),\n",
              " ('me', 880),\n",
              " ('un', 825)]"
            ]
          },
          "metadata": {},
          "execution_count": 27
        }
      ],
      "source": [
        "one_percentile = int(len(set(tokens)) * 0.01)\n",
        "top_1_percentile = Counter(tokens).most_common(one_percentile)\n",
        "top_1_percentile[:10]"
      ]
    },
    {
      "cell_type": "code",
      "execution_count": 28,
      "metadata": {
        "id": "cIogh--ct3CJ",
        "colab": {
          "base_uri": "https://localhost:8080/",
          "height": 0
        },
        "outputId": "6386f941-7d50-4058-f603-3b830969bc6e"
      },
      "outputs": [
        {
          "output_type": "execute_result",
          "data": {
            "text/plain": [
              "Text(0, 0.5, 'Frecuencia')"
            ]
          },
          "metadata": {},
          "execution_count": 28
        },
        {
          "output_type": "display_data",
          "data": {
            "text/plain": [
              "<Figure size 500x300 with 1 Axes>"
            ],
            "image/png": "[encoded data removed]"
          },
          "metadata": {}
        }
      ],
      "source": [
        "pd.DataFrame(top_1_percentile[:10], columns=['Palabras','Frecuencia']).set_index('Palabras').plot(kind='bar')\n",
        "plt.title('Percentil 1 de palabras mas frecuentes')\n",
        "plt.xlabel('Palabras')\n",
        "plt.ylabel('Frecuencia')"
      ]
    },
    {
      "cell_type": "code",
      "execution_count": 29,
      "metadata": {
        "id": "lnFGqSCTCdU5",
        "colab": {
          "base_uri": "https://localhost:8080/"
        },
        "outputId": "22df3846-e8d9-45c9-f1e0-3defa40a8689"
      },
      "outputs": [
        {
          "output_type": "execute_result",
          "data": {
            "text/plain": [
              "[('propicio', 1),\n",
              " ('cifrar', 1),\n",
              " ('obrar', 1),\n",
              " ('justamente', 1),\n",
              " ('aurelio', 1),\n",
              " ('cimen', 1),\n",
              " ('ptico', 1),\n",
              " ('capcioso', 1),\n",
              " ('posee', 1),\n",
              " ('extraordinaria', 1)]"
            ]
          },
          "metadata": {},
          "execution_count": 29
        }
      ],
      "source": [
        "bottom_1_percentile = Counter(tokens).most_common()[-one_percentile:]\n",
        "bottom_1_percentile[:10]"
      ]
    },
    {
      "cell_type": "code",
      "execution_count": 30,
      "metadata": {
        "id": "g-A1HtiWCfH2"
      },
      "outputs": [],
      "source": [
        "noise_words.extend([word for word,val in top_1_percentile])\n",
        "noise_words.extend([word for word,val in bottom_1_percentile])"
      ]
    },
    {
      "cell_type": "markdown",
      "metadata": {
        "id": "n51bDGhkCiQF"
      },
      "source": [
        "Las stopwords y las palabras de alta/baja frecuencia ahora se han agregado a noise_words, que se eliminarán de las revisiones antes de entrenar los modelos de aprendizaje automático.\n",
        "\n",
        "Es poco probable que las stopwords sean tan útiles, ya que esperamos que aparezcan con la misma frecuencia en las críticas positivas y negativas. Las palabras poco comunes pueden ser más significativas y, en teoría, podrían indicar el sentimiento de la revisión"
      ]
    },
    {
      "cell_type": "markdown",
      "metadata": {
        "id": "EKYImfc-DSu4"
      },
      "source": [
        "# Creacion de modelo de ML"
      ]
    },
    {
      "cell_type": "code",
      "execution_count": 31,
      "metadata": {
        "id": "fdRlAQcWDWEf",
        "colab": {
          "base_uri": "https://localhost:8080/",
          "height": 0
        },
        "outputId": "5ace59e9-b87c-4615-aad5-4c229407d71a"
      },
      "outputs": [
        {
          "output_type": "execute_result",
          "data": {
            "text/plain": [
              "                                                text sentiment  \\\n",
              "0               termine bien abrumado después de hoy    scared   \n",
              "1                                 me siento abrumado    scared   \n",
              "2  Me siento un poco abrumado por la cantidad de ...    scared   \n",
              "3  Salvador la única persona que no la ha abrumad...    scared   \n",
              "4     Denme un helado o algo que ando full abrumado.    scared   \n",
              "\n",
              "   Sentiment_rating  \n",
              "0                 0  \n",
              "1                 0  \n",
              "2                 0  \n",
              "3                 0  \n",
              "4                 0  "
            ],
            "text/html": [
              "\n",
              "  <div id=\"df-0939f8a8-39ba-4536-bf5e-6c98ca1e4258\" class=\"colab-df-container\">\n",
              "    <div>\n",
              "<style scoped>\n",
              "    .dataframe tbody tr th:only-of-type {\n",
              "        vertical-align: middle;\n",
              "    }\n",
              "\n",
              "    .dataframe tbody tr th {\n",
              "        vertical-align: top;\n",
              "    }\n",
              "\n",
              "    .dataframe thead th {\n",
              "        text-align: right;\n",
              "    }\n",
              "</style>\n",
              "<table border=\"1\" class=\"dataframe\">\n",
              "  <thead>\n",
              "    <tr style=\"text-align: right;\">\n",
              "      <th></th>\n",
              "      <th>text</th>\n",
              "      <th>sentiment</th>\n",
              "      <th>Sentiment_rating</th>\n",
              "    </tr>\n",
              "  </thead>\n",
              "  <tbody>\n",
              "    <tr>\n",
              "      <th>0</th>\n",
              "      <td>termine bien abrumado después de hoy</td>\n",
              "      <td>scared</td>\n",
              "      <td>0</td>\n",
              "    </tr>\n",
              "    <tr>\n",
              "      <th>1</th>\n",
              "      <td>me siento abrumado</td>\n",
              "      <td>scared</td>\n",
              "      <td>0</td>\n",
              "    </tr>\n",
              "    <tr>\n",
              "      <th>2</th>\n",
              "      <td>Me siento un poco abrumado por la cantidad de ...</td>\n",
              "      <td>scared</td>\n",
              "      <td>0</td>\n",
              "    </tr>\n",
              "    <tr>\n",
              "      <th>3</th>\n",
              "      <td>Salvador la única persona que no la ha abrumad...</td>\n",
              "      <td>scared</td>\n",
              "      <td>0</td>\n",
              "    </tr>\n",
              "    <tr>\n",
              "      <th>4</th>\n",
              "      <td>Denme un helado o algo que ando full abrumado.</td>\n",
              "      <td>scared</td>\n",
              "      <td>0</td>\n",
              "    </tr>\n",
              "  </tbody>\n",
              "</table>\n",
              "</div>\n",
              "    <div class=\"colab-df-buttons\">\n",
              "\n",
              "  <div class=\"colab-df-container\">\n",
              "    <button class=\"colab-df-convert\" onclick=\"convertToInteractive('df-0939f8a8-39ba-4536-bf5e-6c98ca1e4258')\"\n",
              "            title=\"Convert this dataframe to an interactive table.\"\n",
              "            style=\"display:none;\">\n",
              "\n",
              "  <svg xmlns=\"http://www.w3.org/2000/svg\" height=\"24px\" viewBox=\"0 -960 960 960\">\n",
              "    <path d=\"M120-120v-720h720v720H120Zm60-500h600v-160H180v160Zm220 220h160v-160H400v160Zm0 220h160v-160H400v160ZM180-400h160v-160H180v160Zm440 0h160v-160H620v160ZM180-180h160v-160H180v160Zm440 0h160v-160H620v160Z\"/>\n",
              "  </svg>\n",
              "    </button>\n",
              "\n",
              "  <style>\n",
              "    .colab-df-container {\n",
              "      display:flex;\n",
              "      gap: 12px;\n",
              "    }\n",
              "\n",
              "    .colab-df-convert {\n",
              "      background-color: #E8F0FE;\n",
              "      border: none;\n",
              "      border-radius: 50%;\n",
              "      cursor: pointer;\n",
              "      display: none;\n",
              "      fill: #1967D2;\n",
              "      height: 32px;\n",
              "      padding: 0 0 0 0;\n",
              "      width: 32px;\n",
              "    }\n",
              "\n",
              "    .colab-df-convert:hover {\n",
              "      background-color: #E2EBFA;\n",
              "      box-shadow: 0px 1px 2px rgba(60, 64, 67, 0.3), 0px 1px 3px 1px rgba(60, 64, 67, 0.15);\n",
              "      fill: #174EA6;\n",
              "    }\n",
              "\n",
              "    .colab-df-buttons div {\n",
              "      margin-bottom: 4px;\n",
              "    }\n",
              "\n",
              "    [theme=dark] .colab-df-convert {\n",
              "      background-color: #3B4455;\n",
              "      fill: #D2E3FC;\n",
              "    }\n",
              "\n",
              "    [theme=dark] .colab-df-convert:hover {\n",
              "      background-color: #434B5C;\n",
              "      box-shadow: 0px 1px 3px 1px rgba(0, 0, 0, 0.15);\n",
              "      filter: drop-shadow(0px 1px 2px rgba(0, 0, 0, 0.3));\n",
              "      fill: #FFFFFF;\n",
              "    }\n",
              "  </style>\n",
              "\n",
              "    <script>\n",
              "      const buttonEl =\n",
              "        document.querySelector('#df-0939f8a8-39ba-4536-bf5e-6c98ca1e4258 button.colab-df-convert');\n",
              "      buttonEl.style.display =\n",
              "        google.colab.kernel.accessAllowed ? 'block' : 'none';\n",
              "\n",
              "      async function convertToInteractive(key) {\n",
              "        const element = document.querySelector('#df-0939f8a8-39ba-4536-bf5e-6c98ca1e4258');\n",
              "        const dataTable =\n",
              "          await google.colab.kernel.invokeFunction('convertToInteractive',\n",
              "                                                    [key], {});\n",
              "        if (!dataTable) return;\n",
              "\n",
              "        const docLinkHtml = 'Like what you see? Visit the ' +\n",
              "          '<a target=\"_blank\" href=https://colab.research.google.com/notebooks/data_table.ipynb>data table notebook</a>'\n",
              "          + ' to learn more about interactive tables.';\n",
              "        element.innerHTML = '';\n",
              "        dataTable['output_type'] = 'display_data';\n",
              "        await google.colab.output.renderOutput(dataTable, element);\n",
              "        const docLink = document.createElement('div');\n",
              "        docLink.innerHTML = docLinkHtml;\n",
              "        element.appendChild(docLink);\n",
              "      }\n",
              "    </script>\n",
              "  </div>\n",
              "\n",
              "\n",
              "<div id=\"df-197a67e2-3b87-4d85-8453-aa38c1187566\">\n",
              "  <button class=\"colab-df-quickchart\" onclick=\"quickchart('df-197a67e2-3b87-4d85-8453-aa38c1187566')\"\n",
              "            title=\"Suggest charts\"\n",
              "            style=\"display:none;\">\n",
              "\n",
              "<svg xmlns=\"http://www.w3.org/2000/svg\" height=\"24px\"viewBox=\"0 0 24 24\"\n",
              "     width=\"24px\">\n",
              "    <g>\n",
              "        <path d=\"M19 3H5c-1.1 0-2 .9-2 2v14c0 1.1.9 2 2 2h14c1.1 0 2-.9 2-2V5c0-1.1-.9-2-2-2zM9 17H7v-7h2v7zm4 0h-2V7h2v10zm4 0h-2v-4h2v4z\"/>\n",
              "    </g>\n",
              "</svg>\n",
              "  </button>\n",
              "\n",
              "<style>\n",
              "  .colab-df-quickchart {\n",
              "      --bg-color: #E8F0FE;\n",
              "      --fill-color: #1967D2;\n",
              "      --hover-bg-color: #E2EBFA;\n",
              "      --hover-fill-color: #174EA6;\n",
              "      --disabled-fill-color: #AAA;\n",
              "      --disabled-bg-color: #DDD;\n",
              "  }\n",
              "\n",
              "  [theme=dark] .colab-df-quickchart {\n",
              "      --bg-color: #3B4455;\n",
              "      --fill-color: #D2E3FC;\n",
              "      --hover-bg-color: #434B5C;\n",
              "      --hover-fill-color: #FFFFFF;\n",
              "      --disabled-bg-color: #3B4455;\n",
              "      --disabled-fill-color: #666;\n",
              "  }\n",
              "\n",
              "  .colab-df-quickchart {\n",
              "    background-color: var(--bg-color);\n",
              "    border: none;\n",
              "    border-radius: 50%;\n",
              "    cursor: pointer;\n",
              "    display: none;\n",
              "    fill: var(--fill-color);\n",
              "    height: 32px;\n",
              "    padding: 0;\n",
              "    width: 32px;\n",
              "  }\n",
              "\n",
              "  .colab-df-quickchart:hover {\n",
              "    background-color: var(--hover-bg-color);\n",
              "    box-shadow: 0 1px 2px rgba(60, 64, 67, 0.3), 0 1px 3px 1px rgba(60, 64, 67, 0.15);\n",
              "    fill: var(--button-hover-fill-color);\n",
              "  }\n",
              "\n",
              "  .colab-df-quickchart-complete:disabled,\n",
              "  .colab-df-quickchart-complete:disabled:hover {\n",
              "    background-color: var(--disabled-bg-color);\n",
              "    fill: var(--disabled-fill-color);\n",
              "    box-shadow: none;\n",
              "  }\n",
              "\n",
              "  .colab-df-spinner {\n",
              "    border: 2px solid var(--fill-color);\n",
              "    border-color: transparent;\n",
              "    border-bottom-color: var(--fill-color);\n",
              "    animation:\n",
              "      spin 1s steps(1) infinite;\n",
              "  }\n",
              "\n",
              "  @keyframes spin {\n",
              "    0% {\n",
              "      border-color: transparent;\n",
              "      border-bottom-color: var(--fill-color);\n",
              "      border-left-color: var(--fill-color);\n",
              "    }\n",
              "    20% {\n",
              "      border-color: transparent;\n",
              "      border-left-color: var(--fill-color);\n",
              "      border-top-color: var(--fill-color);\n",
              "    }\n",
              "    30% {\n",
              "      border-color: transparent;\n",
              "      border-left-color: var(--fill-color);\n",
              "      border-top-color: var(--fill-color);\n",
              "      border-right-color: var(--fill-color);\n",
              "    }\n",
              "    40% {\n",
              "      border-color: transparent;\n",
              "      border-right-color: var(--fill-color);\n",
              "      border-top-color: var(--fill-color);\n",
              "    }\n",
              "    60% {\n",
              "      border-color: transparent;\n",
              "      border-right-color: var(--fill-color);\n",
              "    }\n",
              "    80% {\n",
              "      border-color: transparent;\n",
              "      border-right-color: var(--fill-color);\n",
              "      border-bottom-color: var(--fill-color);\n",
              "    }\n",
              "    90% {\n",
              "      border-color: transparent;\n",
              "      border-bottom-color: var(--fill-color);\n",
              "    }\n",
              "  }\n",
              "</style>\n",
              "\n",
              "  <script>\n",
              "    async function quickchart(key) {\n",
              "      const quickchartButtonEl =\n",
              "        document.querySelector('#' + key + ' button');\n",
              "      quickchartButtonEl.disabled = true;  // To prevent multiple clicks.\n",
              "      quickchartButtonEl.classList.add('colab-df-spinner');\n",
              "      try {\n",
              "        const charts = await google.colab.kernel.invokeFunction(\n",
              "            'suggestCharts', [key], {});\n",
              "      } catch (error) {\n",
              "        console.error('Error during call to suggestCharts:', error);\n",
              "      }\n",
              "      quickchartButtonEl.classList.remove('colab-df-spinner');\n",
              "      quickchartButtonEl.classList.add('colab-df-quickchart-complete');\n",
              "    }\n",
              "    (() => {\n",
              "      let quickchartButtonEl =\n",
              "        document.querySelector('#df-197a67e2-3b87-4d85-8453-aa38c1187566 button');\n",
              "      quickchartButtonEl.style.display =\n",
              "        google.colab.kernel.accessAllowed ? 'block' : 'none';\n",
              "    })();\n",
              "  </script>\n",
              "</div>\n",
              "\n",
              "    </div>\n",
              "  </div>\n"
            ],
            "application/vnd.google.colaboratory.intrinsic+json": {
              "type": "dataframe",
              "summary": "{\n  \"name\": \"Twitter_1[['text','sentiment','Sentiment_rating']]\",\n  \"rows\": 5,\n  \"fields\": [\n    {\n      \"column\": \"text\",\n      \"properties\": {\n        \"dtype\": \"string\",\n        \"num_unique_values\": 5,\n        \"samples\": [\n          \"me siento abrumado\",\n          \"Denme un helado o algo que ando full abrumado.\",\n          \"Me siento un poco abrumado por la cantidad de cosas que quiero dibujar, ver, jugar y leer. Odio esta sensaci\\u00f3n xdddd\"\n        ],\n        \"semantic_type\": \"\",\n        \"description\": \"\"\n      }\n    },\n    {\n      \"column\": \"sentiment\",\n      \"properties\": {\n        \"dtype\": \"string\",\n        \"num_unique_values\": 1,\n        \"samples\": [\n          \"scared\"\n        ],\n        \"semantic_type\": \"\",\n        \"description\": \"\"\n      }\n    },\n    {\n      \"column\": \"Sentiment_rating\",\n      \"properties\": {\n        \"dtype\": \"number\",\n        \"std\": 0,\n        \"min\": 0,\n        \"max\": 0,\n        \"num_unique_values\": 1,\n        \"samples\": [\n          0\n        ],\n        \"semantic_type\": \"\",\n        \"description\": \"\"\n      }\n    }\n  ]\n}"
            }
          },
          "metadata": {},
          "execution_count": 31
        }
      ],
      "source": [
        "Twitter_1[['text','sentiment','Sentiment_rating']].head(5)"
      ]
    },
    {
      "cell_type": "markdown",
      "metadata": {
        "id": "I-0HWHdbDYwZ"
      },
      "source": [
        "Las variables independientes o características del modelo se derivan del texto de revisión. Usaremos **n-grams** para crear características, y específicamente la bolsa de palabras como la interpretación más simple de estos n-gramas, sin tener en cuenta el orden y el contexto por completo y solo enfocándonos en la frecuencia/recuento. Usaremos eso como punto de partida."
      ]
    },
    {
      "cell_type": "markdown",
      "metadata": {
        "id": "qENuMxTvDen5"
      },
      "source": [
        "# 1.- Bag of words\n",
        "\n",
        "CountVectorizer es una clase de Python que da cuenta automáticamente de ciertos pasos de preprocesamiento, como la eliminación de palabras vacías, la derivación, la creación de n-gramas y la tokenización de palabras:"
      ]
    },
    {
      "cell_type": "code",
      "execution_count": 32,
      "metadata": {
        "id": "esyrY_TqDdst"
      },
      "outputs": [],
      "source": [
        "# Creacion de metodo para stemming\n",
        "from nltk.stem import PorterStemmer\n",
        "\n",
        "stemmer = PorterStemmer()\n",
        "analyzer = CountVectorizer().build_analyzer()\n",
        "\n",
        "def stemmed_words(doc):\n",
        "    return (stemmer.stem(w) for w in analyzer(doc))"
      ]
    },
    {
      "cell_type": "markdown",
      "metadata": {
        "id": "8OHClEiJDr9_"
      },
      "source": [
        "Usemos esto para crear una bolsa de palabras de los twits, excluyendo las palabras irrelevantes que identificamos anteriormente. Para empezar usaremos ngrama (1,1):"
      ]
    },
    {
      "cell_type": "code",
      "execution_count": 33,
      "metadata": {
        "id": "7wV6wAd8DupW"
      },
      "outputs": [],
      "source": [
        "# Creacion de un objeto tipo CountVectorizer\n",
        "bow_counts = CountVectorizer(\n",
        "    tokenizer=word_tokenize,\n",
        "    stop_words=noise_words,\n",
        "    ngram_range=(1, 1)\n",
        ")"
      ]
    },
    {
      "cell_type": "markdown",
      "metadata": {
        "id": "0I--fC0SDz3o"
      },
      "source": [
        "Una vez que se prepara la bolsa de palabras, el conjunto de datos debe dividirse en conjuntos de entrenamiento y de prueba. También podríamos dividir los datos después de vectorizarlos, pero es útil dividir los datos lo antes posible en el proceso. Esto significa que una vez que hemos generado nuestras predicciones, podemos compararlas más fácilmente con los textos originales, antes de que hayan sido preprocesadas y vectorizadas."
      ]
    },
    {
      "cell_type": "code",
      "execution_count": 34,
      "metadata": {
        "id": "3-D0n379D5_G"
      },
      "outputs": [],
      "source": [
        "reviews_train, reviews_test = train_test_split(Twitter_1, test_size=0.2, random_state=0)"
      ]
    },
    {
      "cell_type": "code",
      "execution_count": 35,
      "metadata": {
        "id": "3EkmtCUeD7Tu",
        "colab": {
          "base_uri": "https://localhost:8080/"
        },
        "outputId": "a2f092a9-760f-461e-ffc5-684b9f04d607"
      },
      "outputs": [
        {
          "output_type": "stream",
          "name": "stderr",
          "text": [
            "/usr/local/lib/python3.11/dist-packages/sklearn/feature_extraction/text.py:517: UserWarning: The parameter 'token_pattern' will not be used since 'tokenizer' is not None'\n",
            "  warnings.warn(\n"
          ]
        }
      ],
      "source": [
        "X_train_bow = bow_counts.fit_transform(reviews_train.reviews_text_new)\n",
        "X_test_bow = bow_counts.transform(reviews_test.reviews_text_new)"
      ]
    },
    {
      "cell_type": "markdown",
      "metadata": {
        "id": "8q-tk94fD_Vu"
      },
      "source": [
        "Llamamos a ```fit_transform``` para vectorizar nuestro conjunto de entrenamiento y ```transform``` para vectorizar nuestro conjunto de prueba. Esto genera las asignaciones de vectorización solo en los datos del conjunto de entrenamiento, que es una restricción a la que nos enfrentaremos.\n",
        "\n",
        "Por lo tanto, puede haber algunas palabras en el conjunto de prueba que no sabemos cómo vectorizar y se omitirán."
      ]
    },
    {
      "cell_type": "code",
      "execution_count": 36,
      "metadata": {
        "id": "mu-ClINID76n"
      },
      "outputs": [],
      "source": [
        "y_train_bow = reviews_train['Sentiment_rating']\n",
        "y_test_bow = reviews_test['Sentiment_rating']"
      ]
    },
    {
      "cell_type": "code",
      "execution_count": 37,
      "metadata": {
        "id": "KE-P_hwcEJzc",
        "colab": {
          "base_uri": "https://localhost:8080/",
          "height": 0
        },
        "outputId": "9bdb3a58-70fb-4491-eb2e-de540f406431"
      },
      "outputs": [
        {
          "output_type": "execute_result",
          "data": {
            "text/plain": [
              "Sentiment_rating\n",
              "1    0.542471\n",
              "0    0.457529\n",
              "Name: count, dtype: float64"
            ],
            "text/html": [
              "<div>\n",
              "<style scoped>\n",
              "    .dataframe tbody tr th:only-of-type {\n",
              "        vertical-align: middle;\n",
              "    }\n",
              "\n",
              "    .dataframe tbody tr th {\n",
              "        vertical-align: top;\n",
              "    }\n",
              "\n",
              "    .dataframe thead th {\n",
              "        text-align: right;\n",
              "    }\n",
              "</style>\n",
              "<table border=\"1\" class=\"dataframe\">\n",
              "  <thead>\n",
              "    <tr style=\"text-align: right;\">\n",
              "      <th></th>\n",
              "      <th>count</th>\n",
              "    </tr>\n",
              "    <tr>\n",
              "      <th>Sentiment_rating</th>\n",
              "      <th></th>\n",
              "    </tr>\n",
              "  </thead>\n",
              "  <tbody>\n",
              "    <tr>\n",
              "      <th>1</th>\n",
              "      <td>0.542471</td>\n",
              "    </tr>\n",
              "    <tr>\n",
              "      <th>0</th>\n",
              "      <td>0.457529</td>\n",
              "    </tr>\n",
              "  </tbody>\n",
              "</table>\n",
              "</div><br><label><b>dtype:</b> float64</label>"
            ]
          },
          "metadata": {},
          "execution_count": 37
        }
      ],
      "source": [
        "y_test_bow.value_counts() / y_test_bow.shape[0]"
      ]
    },
    {
      "cell_type": "markdown",
      "metadata": {
        "id": "i3RSbM62ENeq"
      },
      "source": [
        "Los datos de prueba contienen 54% de comentarios con sentimientos positivos. En este caso, dicho modelo obtendría un 54 % de precisión, por lo que podemos considerarlo como una puntuación de referencia que nuestro modelo de aprendizaje automático debe superar."
      ]
    },
    {
      "cell_type": "markdown",
      "metadata": {
        "id": "b5GGWWW3EYyR"
      },
      "source": [
        "## Modelo de regresion logistica"
      ]
    },
    {
      "cell_type": "code",
      "execution_count": 38,
      "metadata": {
        "id": "_H_xrYMjEcBs",
        "colab": {
          "base_uri": "https://localhost:8080/"
        },
        "outputId": "39d07816-12da-4f7b-bca8-b2ccea3e62a7"
      },
      "outputs": [
        {
          "output_type": "stream",
          "name": "stdout",
          "text": [
            "F1 score:  0.928695652173913\n",
            "Accuracy:  92.08494208494209\n"
          ]
        }
      ],
      "source": [
        "# Entrenar el modelo\n",
        "lr_model_all = LogisticRegression(C=1, solver=\"liblinear\")\n",
        "lr_model_all.fit(X_train_bow, y_train_bow)\n",
        "\n",
        "# Predecir el output\n",
        "test_pred_lr_prob = lr_model_all.predict_proba(X_test_bow)\n",
        "test_pred_lr_all = lr_model_all.predict(X_test_bow)\n",
        "\n",
        "print(\"F1 score: \", f1_score(y_test_bow, test_pred_lr_all))\n",
        "print(\"Accuracy: \", accuracy_score(y_test_bow, test_pred_lr_all) * 100)"
      ]
    },
    {
      "cell_type": "code",
      "execution_count": 39,
      "metadata": {
        "id": "B9g9Z2AFEijY",
        "colab": {
          "base_uri": "https://localhost:8080/"
        },
        "outputId": "63011365-f189-4a0d-8272-82bd2e7a4564"
      },
      "outputs": [
        {
          "output_type": "execute_result",
          "data": {
            "text/plain": [
              "array([[0.24704043, 0.75295957],\n",
              "       [0.5534366 , 0.4465634 ],\n",
              "       [0.18188769, 0.81811231],\n",
              "       ...,\n",
              "       [0.34695208, 0.65304792],\n",
              "       [0.20609842, 0.79390158],\n",
              "       [0.26351319, 0.73648681]])"
            ]
          },
          "metadata": {},
          "execution_count": 39
        }
      ],
      "source": [
        "test_pred_lr_prob"
      ]
    },
    {
      "cell_type": "code",
      "execution_count": 40,
      "metadata": {
        "id": "c3pDuetkEmfq"
      },
      "outputs": [],
      "source": [
        "probabilities = [each[1] for each in test_pred_lr_prob]"
      ]
    },
    {
      "cell_type": "code",
      "execution_count": 41,
      "metadata": {
        "id": "yhK1q_skEoqv"
      },
      "outputs": [],
      "source": [
        "predictions = pd.DataFrame()\n",
        "predictions['text'] = reviews_test['text']\n",
        "predictions['Actual_Score'] = reviews_test['sentiment']\n",
        "predictions['Sentiment_rating'] = reviews_test['Sentiment_rating']\n",
        "predictions['Predicted_sentiment'] = test_pred_lr_all\n",
        "predictions['Predicted_probability'] = probabilities"
      ]
    },
    {
      "cell_type": "code",
      "execution_count": 42,
      "metadata": {
        "id": "tk36qT2QEruF",
        "colab": {
          "base_uri": "https://localhost:8080/",
          "height": 0
        },
        "outputId": "f7b606e9-c82e-45cd-ca5b-4e5167a6c040"
      },
      "outputs": [
        {
          "output_type": "execute_result",
          "data": {
            "text/plain": [
              "                                                   text Actual_Score  \\\n",
              "2401  Aunque me genere incertidumbre el futuro, sé q...       joyful   \n",
              "812   Escribo tweets a lo pendejo jajaja nobody care...          sad   \n",
              "2528  3ro. Abres el 9no con Jermaine Palacios dando ...       joyful   \n",
              "443   Permitid q haya espacios en vuestra unión Deja...          mad   \n",
              "1857  e decidido cambiarme de user en mi priv…..solo...     powerful   \n",
              "\n",
              "      Sentiment_rating  Predicted_sentiment  Predicted_probability  \n",
              "2401                 1                    1               0.752960  \n",
              "812                  0                    0               0.446563  \n",
              "2528                 1                    1               0.818112  \n",
              "443                  0                    1               0.601674  \n",
              "1857                 1                    1               0.834462  "
            ],
            "text/html": [
              "\n",
              "  <div id=\"df-b1c68b4b-a4c6-4655-84fe-3f4a051e671e\" class=\"colab-df-container\">\n",
              "    <div>\n",
              "<style scoped>\n",
              "    .dataframe tbody tr th:only-of-type {\n",
              "        vertical-align: middle;\n",
              "    }\n",
              "\n",
              "    .dataframe tbody tr th {\n",
              "        vertical-align: top;\n",
              "    }\n",
              "\n",
              "    .dataframe thead th {\n",
              "        text-align: right;\n",
              "    }\n",
              "</style>\n",
              "<table border=\"1\" class=\"dataframe\">\n",
              "  <thead>\n",
              "    <tr style=\"text-align: right;\">\n",
              "      <th></th>\n",
              "      <th>text</th>\n",
              "      <th>Actual_Score</th>\n",
              "      <th>Sentiment_rating</th>\n",
              "      <th>Predicted_sentiment</th>\n",
              "      <th>Predicted_probability</th>\n",
              "    </tr>\n",
              "  </thead>\n",
              "  <tbody>\n",
              "    <tr>\n",
              "      <th>2401</th>\n",
              "      <td>Aunque me genere incertidumbre el futuro, sé q...</td>\n",
              "      <td>joyful</td>\n",
              "      <td>1</td>\n",
              "      <td>1</td>\n",
              "      <td>0.752960</td>\n",
              "    </tr>\n",
              "    <tr>\n",
              "      <th>812</th>\n",
              "      <td>Escribo tweets a lo pendejo jajaja nobody care...</td>\n",
              "      <td>sad</td>\n",
              "      <td>0</td>\n",
              "      <td>0</td>\n",
              "      <td>0.446563</td>\n",
              "    </tr>\n",
              "    <tr>\n",
              "      <th>2528</th>\n",
              "      <td>3ro. Abres el 9no con Jermaine Palacios dando ...</td>\n",
              "      <td>joyful</td>\n",
              "      <td>1</td>\n",
              "      <td>1</td>\n",
              "      <td>0.818112</td>\n",
              "    </tr>\n",
              "    <tr>\n",
              "      <th>443</th>\n",
              "      <td>Permitid q haya espacios en vuestra unión Deja...</td>\n",
              "      <td>mad</td>\n",
              "      <td>0</td>\n",
              "      <td>1</td>\n",
              "      <td>0.601674</td>\n",
              "    </tr>\n",
              "    <tr>\n",
              "      <th>1857</th>\n",
              "      <td>e decidido cambiarme de user en mi priv…..solo...</td>\n",
              "      <td>powerful</td>\n",
              "      <td>1</td>\n",
              "      <td>1</td>\n",
              "      <td>0.834462</td>\n",
              "    </tr>\n",
              "  </tbody>\n",
              "</table>\n",
              "</div>\n",
              "    <div class=\"colab-df-buttons\">\n",
              "\n",
              "  <div class=\"colab-df-container\">\n",
              "    <button class=\"colab-df-convert\" onclick=\"convertToInteractive('df-b1c68b4b-a4c6-4655-84fe-3f4a051e671e')\"\n",
              "            title=\"Convert this dataframe to an interactive table.\"\n",
              "            style=\"display:none;\">\n",
              "\n",
              "  <svg xmlns=\"http://www.w3.org/2000/svg\" height=\"24px\" viewBox=\"0 -960 960 960\">\n",
              "    <path d=\"M120-120v-720h720v720H120Zm60-500h600v-160H180v160Zm220 220h160v-160H400v160Zm0 220h160v-160H400v160ZM180-400h160v-160H180v160Zm440 0h160v-160H620v160ZM180-180h160v-160H180v160Zm440 0h160v-160H620v160Z\"/>\n",
              "  </svg>\n",
              "    </button>\n",
              "\n",
              "  <style>\n",
              "    .colab-df-container {\n",
              "      display:flex;\n",
              "      gap: 12px;\n",
              "    }\n",
              "\n",
              "    .colab-df-convert {\n",
              "      background-color: #E8F0FE;\n",
              "      border: none;\n",
              "      border-radius: 50%;\n",
              "      cursor: pointer;\n",
              "      display: none;\n",
              "      fill: #1967D2;\n",
              "      height: 32px;\n",
              "      padding: 0 0 0 0;\n",
              "      width: 32px;\n",
              "    }\n",
              "\n",
              "    .colab-df-convert:hover {\n",
              "      background-color: #E2EBFA;\n",
              "      box-shadow: 0px 1px 2px rgba(60, 64, 67, 0.3), 0px 1px 3px 1px rgba(60, 64, 67, 0.15);\n",
              "      fill: #174EA6;\n",
              "    }\n",
              "\n",
              "    .colab-df-buttons div {\n",
              "      margin-bottom: 4px;\n",
              "    }\n",
              "\n",
              "    [theme=dark] .colab-df-convert {\n",
              "      background-color: #3B4455;\n",
              "      fill: #D2E3FC;\n",
              "    }\n",
              "\n",
              "    [theme=dark] .colab-df-convert:hover {\n",
              "      background-color: #434B5C;\n",
              "      box-shadow: 0px 1px 3px 1px rgba(0, 0, 0, 0.15);\n",
              "      filter: drop-shadow(0px 1px 2px rgba(0, 0, 0, 0.3));\n",
              "      fill: #FFFFFF;\n",
              "    }\n",
              "  </style>\n",
              "\n",
              "    <script>\n",
              "      const buttonEl =\n",
              "        document.querySelector('#df-b1c68b4b-a4c6-4655-84fe-3f4a051e671e button.colab-df-convert');\n",
              "      buttonEl.style.display =\n",
              "        google.colab.kernel.accessAllowed ? 'block' : 'none';\n",
              "\n",
              "      async function convertToInteractive(key) {\n",
              "        const element = document.querySelector('#df-b1c68b4b-a4c6-4655-84fe-3f4a051e671e');\n",
              "        const dataTable =\n",
              "          await google.colab.kernel.invokeFunction('convertToInteractive',\n",
              "                                                    [key], {});\n",
              "        if (!dataTable) return;\n",
              "\n",
              "        const docLinkHtml = 'Like what you see? Visit the ' +\n",
              "          '<a target=\"_blank\" href=https://colab.research.google.com/notebooks/data_table.ipynb>data table notebook</a>'\n",
              "          + ' to learn more about interactive tables.';\n",
              "        element.innerHTML = '';\n",
              "        dataTable['output_type'] = 'display_data';\n",
              "        await google.colab.output.renderOutput(dataTable, element);\n",
              "        const docLink = document.createElement('div');\n",
              "        docLink.innerHTML = docLinkHtml;\n",
              "        element.appendChild(docLink);\n",
              "      }\n",
              "    </script>\n",
              "  </div>\n",
              "\n",
              "\n",
              "<div id=\"df-5e83ac7b-8b61-42cd-a8ea-c4fc48a5354e\">\n",
              "  <button class=\"colab-df-quickchart\" onclick=\"quickchart('df-5e83ac7b-8b61-42cd-a8ea-c4fc48a5354e')\"\n",
              "            title=\"Suggest charts\"\n",
              "            style=\"display:none;\">\n",
              "\n",
              "<svg xmlns=\"http://www.w3.org/2000/svg\" height=\"24px\"viewBox=\"0 0 24 24\"\n",
              "     width=\"24px\">\n",
              "    <g>\n",
              "        <path d=\"M19 3H5c-1.1 0-2 .9-2 2v14c0 1.1.9 2 2 2h14c1.1 0 2-.9 2-2V5c0-1.1-.9-2-2-2zM9 17H7v-7h2v7zm4 0h-2V7h2v10zm4 0h-2v-4h2v4z\"/>\n",
              "    </g>\n",
              "</svg>\n",
              "  </button>\n",
              "\n",
              "<style>\n",
              "  .colab-df-quickchart {\n",
              "      --bg-color: #E8F0FE;\n",
              "      --fill-color: #1967D2;\n",
              "      --hover-bg-color: #E2EBFA;\n",
              "      --hover-fill-color: #174EA6;\n",
              "      --disabled-fill-color: #AAA;\n",
              "      --disabled-bg-color: #DDD;\n",
              "  }\n",
              "\n",
              "  [theme=dark] .colab-df-quickchart {\n",
              "      --bg-color: #3B4455;\n",
              "      --fill-color: #D2E3FC;\n",
              "      --hover-bg-color: #434B5C;\n",
              "      --hover-fill-color: #FFFFFF;\n",
              "      --disabled-bg-color: #3B4455;\n",
              "      --disabled-fill-color: #666;\n",
              "  }\n",
              "\n",
              "  .colab-df-quickchart {\n",
              "    background-color: var(--bg-color);\n",
              "    border: none;\n",
              "    border-radius: 50%;\n",
              "    cursor: pointer;\n",
              "    display: none;\n",
              "    fill: var(--fill-color);\n",
              "    height: 32px;\n",
              "    padding: 0;\n",
              "    width: 32px;\n",
              "  }\n",
              "\n",
              "  .colab-df-quickchart:hover {\n",
              "    background-color: var(--hover-bg-color);\n",
              "    box-shadow: 0 1px 2px rgba(60, 64, 67, 0.3), 0 1px 3px 1px rgba(60, 64, 67, 0.15);\n",
              "    fill: var(--button-hover-fill-color);\n",
              "  }\n",
              "\n",
              "  .colab-df-quickchart-complete:disabled,\n",
              "  .colab-df-quickchart-complete:disabled:hover {\n",
              "    background-color: var(--disabled-bg-color);\n",
              "    fill: var(--disabled-fill-color);\n",
              "    box-shadow: none;\n",
              "  }\n",
              "\n",
              "  .colab-df-spinner {\n",
              "    border: 2px solid var(--fill-color);\n",
              "    border-color: transparent;\n",
              "    border-bottom-color: var(--fill-color);\n",
              "    animation:\n",
              "      spin 1s steps(1) infinite;\n",
              "  }\n",
              "\n",
              "  @keyframes spin {\n",
              "    0% {\n",
              "      border-color: transparent;\n",
              "      border-bottom-color: var(--fill-color);\n",
              "      border-left-color: var(--fill-color);\n",
              "    }\n",
              "    20% {\n",
              "      border-color: transparent;\n",
              "      border-left-color: var(--fill-color);\n",
              "      border-top-color: var(--fill-color);\n",
              "    }\n",
              "    30% {\n",
              "      border-color: transparent;\n",
              "      border-left-color: var(--fill-color);\n",
              "      border-top-color: var(--fill-color);\n",
              "      border-right-color: var(--fill-color);\n",
              "    }\n",
              "    40% {\n",
              "      border-color: transparent;\n",
              "      border-right-color: var(--fill-color);\n",
              "      border-top-color: var(--fill-color);\n",
              "    }\n",
              "    60% {\n",
              "      border-color: transparent;\n",
              "      border-right-color: var(--fill-color);\n",
              "    }\n",
              "    80% {\n",
              "      border-color: transparent;\n",
              "      border-right-color: var(--fill-color);\n",
              "      border-bottom-color: var(--fill-color);\n",
              "    }\n",
              "    90% {\n",
              "      border-color: transparent;\n",
              "      border-bottom-color: var(--fill-color);\n",
              "    }\n",
              "  }\n",
              "</style>\n",
              "\n",
              "  <script>\n",
              "    async function quickchart(key) {\n",
              "      const quickchartButtonEl =\n",
              "        document.querySelector('#' + key + ' button');\n",
              "      quickchartButtonEl.disabled = true;  // To prevent multiple clicks.\n",
              "      quickchartButtonEl.classList.add('colab-df-spinner');\n",
              "      try {\n",
              "        const charts = await google.colab.kernel.invokeFunction(\n",
              "            'suggestCharts', [key], {});\n",
              "      } catch (error) {\n",
              "        console.error('Error during call to suggestCharts:', error);\n",
              "      }\n",
              "      quickchartButtonEl.classList.remove('colab-df-spinner');\n",
              "      quickchartButtonEl.classList.add('colab-df-quickchart-complete');\n",
              "    }\n",
              "    (() => {\n",
              "      let quickchartButtonEl =\n",
              "        document.querySelector('#df-5e83ac7b-8b61-42cd-a8ea-c4fc48a5354e button');\n",
              "      quickchartButtonEl.style.display =\n",
              "        google.colab.kernel.accessAllowed ? 'block' : 'none';\n",
              "    })();\n",
              "  </script>\n",
              "</div>\n",
              "\n",
              "    </div>\n",
              "  </div>\n"
            ],
            "application/vnd.google.colaboratory.intrinsic+json": {
              "type": "dataframe",
              "variable_name": "predictions",
              "summary": "{\n  \"name\": \"predictions\",\n  \"rows\": 518,\n  \"fields\": [\n    {\n      \"column\": \"text\",\n      \"properties\": {\n        \"dtype\": \"string\",\n        \"num_unique_values\": 493,\n        \"samples\": [\n          \"Pese a todo a m\\u00ed me parece constructivo que tengan esas crisis de identidad como artistas, cada cual por algo distinto. La industria y sobre todo ellxs mismxs se conocen m\\u00e1s y cuando salgan les van a dar las herramientas que necesita cada unx de forma personalizada.  #OTDirecto5E\",\n          \"Primer sixpack rechazado \\ud83e\\udee1\\ud83d\\udc4d\\ud83c\\udffb\",\n          \"Adem\\u00e1s de su visi\\u00f3n como empresario, la generosidad y sentido del humor  de @carlosbremerg era inspiradora.  Un caballero afable y humilde a pesar de la gran responsabilidad que ten\\u00eda. Se va un grande al que se le debe recordar con cari\\u00f1o.\"\n        ],\n        \"semantic_type\": \"\",\n        \"description\": \"\"\n      }\n    },\n    {\n      \"column\": \"Actual_Score\",\n      \"properties\": {\n        \"dtype\": \"string\",\n        \"num_unique_values\": 6,\n        \"samples\": [\n          \"joyful\",\n          \"sad\",\n          \"scared\"\n        ],\n        \"semantic_type\": \"\",\n        \"description\": \"\"\n      }\n    },\n    {\n      \"column\": \"Sentiment_rating\",\n      \"properties\": {\n        \"dtype\": \"number\",\n        \"std\": 0,\n        \"min\": 0,\n        \"max\": 1,\n        \"num_unique_values\": 2,\n        \"samples\": [\n          0,\n          1\n        ],\n        \"semantic_type\": \"\",\n        \"description\": \"\"\n      }\n    },\n    {\n      \"column\": \"Predicted_sentiment\",\n      \"properties\": {\n        \"dtype\": \"number\",\n        \"std\": 0,\n        \"min\": 0,\n        \"max\": 1,\n        \"num_unique_values\": 2,\n        \"samples\": [\n          0,\n          1\n        ],\n        \"semantic_type\": \"\",\n        \"description\": \"\"\n      }\n    },\n    {\n      \"column\": \"Predicted_probability\",\n      \"properties\": {\n        \"dtype\": \"number\",\n        \"std\": 0.294939326539595,\n        \"min\": 0.0004998445596178532,\n        \"max\": 0.9987611487534929,\n        \"num_unique_values\": 487,\n        \"samples\": [\n          0.1726832395886383,\n          0.34598416294872314\n        ],\n        \"semantic_type\": \"\",\n        \"description\": \"\"\n      }\n    }\n  ]\n}"
            }
          },
          "metadata": {},
          "execution_count": 42
        }
      ],
      "source": [
        "predictions.head(5)"
      ]
    },
    {
      "cell_type": "code",
      "execution_count": 43,
      "metadata": {
        "id": "yOp3mDlXEuJA",
        "colab": {
          "base_uri": "https://localhost:8080/"
        },
        "outputId": "d6e7e44c-3cba-41eb-eb16-5b20a027a4dc"
      },
      "outputs": [
        {
          "output_type": "execute_result",
          "data": {
            "text/plain": [
              "0.9208494208494209"
            ]
          },
          "metadata": {},
          "execution_count": 43
        }
      ],
      "source": [
        "accuracy_score(predictions['Sentiment_rating'], predictions['Predicted_sentiment'])"
      ]
    },
    {
      "cell_type": "markdown",
      "metadata": {
        "id": "OBKZYoZtF4qw"
      },
      "source": [
        "En la columna ```Predicted_probability```, se puede ver la confianza que tiene el modelo en sus predicciones, siendo las probabilidades muy cercanas a 0 predicciones de sentimientos negativos muy confiables y las probabilidades muy cercanas a 1, predicciones de sentimientos positivos muy confiables.\n",
        "\n",
        "Inferimos que con la utilizacion de ngrama (1,1) y la supresion de palabras irrelevantes el modelo predice con un accuracy de 92%, lo que podria estar indicando overfitting."
      ]
    },
    {
      "cell_type": "code",
      "execution_count": 44,
      "metadata": {
        "id": "VN0O6ei8GuOS",
        "colab": {
          "base_uri": "https://localhost:8080/",
          "height": 0
        },
        "outputId": "b87a7b3c-30ac-4d2d-d887-e6570f887c04"
      },
      "outputs": [
        {
          "output_type": "execute_result",
          "data": {
            "text/plain": [
              "                                                   text Actual_Score  \\\n",
              "2554  Aiga sido, como haiga sido, el gober quiere al...       joyful   \n",
              "2551  ¿Por qué no pedí perdón? si ya me es indiferen...       joyful   \n",
              "1961  Hoy murió Carlos Bremer empresario Mexicano ex...     powerful   \n",
              "\n",
              "      Sentiment_rating  Predicted_sentiment  Predicted_probability  \n",
              "2554                 1                    0               0.068541  \n",
              "2551                 1                    0               0.112382  \n",
              "1961                 1                    0               0.135340  "
            ],
            "text/html": [
              "\n",
              "  <div id=\"df-656280fe-21b1-4b67-bbb2-0707c804fc74\" class=\"colab-df-container\">\n",
              "    <div>\n",
              "<style scoped>\n",
              "    .dataframe tbody tr th:only-of-type {\n",
              "        vertical-align: middle;\n",
              "    }\n",
              "\n",
              "    .dataframe tbody tr th {\n",
              "        vertical-align: top;\n",
              "    }\n",
              "\n",
              "    .dataframe thead th {\n",
              "        text-align: right;\n",
              "    }\n",
              "</style>\n",
              "<table border=\"1\" class=\"dataframe\">\n",
              "  <thead>\n",
              "    <tr style=\"text-align: right;\">\n",
              "      <th></th>\n",
              "      <th>text</th>\n",
              "      <th>Actual_Score</th>\n",
              "      <th>Sentiment_rating</th>\n",
              "      <th>Predicted_sentiment</th>\n",
              "      <th>Predicted_probability</th>\n",
              "    </tr>\n",
              "  </thead>\n",
              "  <tbody>\n",
              "    <tr>\n",
              "      <th>2554</th>\n",
              "      <td>Aiga sido, como haiga sido, el gober quiere al...</td>\n",
              "      <td>joyful</td>\n",
              "      <td>1</td>\n",
              "      <td>0</td>\n",
              "      <td>0.068541</td>\n",
              "    </tr>\n",
              "    <tr>\n",
              "      <th>2551</th>\n",
              "      <td>¿Por qué no pedí perdón? si ya me es indiferen...</td>\n",
              "      <td>joyful</td>\n",
              "      <td>1</td>\n",
              "      <td>0</td>\n",
              "      <td>0.112382</td>\n",
              "    </tr>\n",
              "    <tr>\n",
              "      <th>1961</th>\n",
              "      <td>Hoy murió Carlos Bremer empresario Mexicano ex...</td>\n",
              "      <td>powerful</td>\n",
              "      <td>1</td>\n",
              "      <td>0</td>\n",
              "      <td>0.135340</td>\n",
              "    </tr>\n",
              "  </tbody>\n",
              "</table>\n",
              "</div>\n",
              "    <div class=\"colab-df-buttons\">\n",
              "\n",
              "  <div class=\"colab-df-container\">\n",
              "    <button class=\"colab-df-convert\" onclick=\"convertToInteractive('df-656280fe-21b1-4b67-bbb2-0707c804fc74')\"\n",
              "            title=\"Convert this dataframe to an interactive table.\"\n",
              "            style=\"display:none;\">\n",
              "\n",
              "  <svg xmlns=\"http://www.w3.org/2000/svg\" height=\"24px\" viewBox=\"0 -960 960 960\">\n",
              "    <path d=\"M120-120v-720h720v720H120Zm60-500h600v-160H180v160Zm220 220h160v-160H400v160Zm0 220h160v-160H400v160ZM180-400h160v-160H180v160Zm440 0h160v-160H620v160ZM180-180h160v-160H180v160Zm440 0h160v-160H620v160Z\"/>\n",
              "  </svg>\n",
              "    </button>\n",
              "\n",
              "  <style>\n",
              "    .colab-df-container {\n",
              "      display:flex;\n",
              "      gap: 12px;\n",
              "    }\n",
              "\n",
              "    .colab-df-convert {\n",
              "      background-color: #E8F0FE;\n",
              "      border: none;\n",
              "      border-radius: 50%;\n",
              "      cursor: pointer;\n",
              "      display: none;\n",
              "      fill: #1967D2;\n",
              "      height: 32px;\n",
              "      padding: 0 0 0 0;\n",
              "      width: 32px;\n",
              "    }\n",
              "\n",
              "    .colab-df-convert:hover {\n",
              "      background-color: #E2EBFA;\n",
              "      box-shadow: 0px 1px 2px rgba(60, 64, 67, 0.3), 0px 1px 3px 1px rgba(60, 64, 67, 0.15);\n",
              "      fill: #174EA6;\n",
              "    }\n",
              "\n",
              "    .colab-df-buttons div {\n",
              "      margin-bottom: 4px;\n",
              "    }\n",
              "\n",
              "    [theme=dark] .colab-df-convert {\n",
              "      background-color: #3B4455;\n",
              "      fill: #D2E3FC;\n",
              "    }\n",
              "\n",
              "    [theme=dark] .colab-df-convert:hover {\n",
              "      background-color: #434B5C;\n",
              "      box-shadow: 0px 1px 3px 1px rgba(0, 0, 0, 0.15);\n",
              "      filter: drop-shadow(0px 1px 2px rgba(0, 0, 0, 0.3));\n",
              "      fill: #FFFFFF;\n",
              "    }\n",
              "  </style>\n",
              "\n",
              "    <script>\n",
              "      const buttonEl =\n",
              "        document.querySelector('#df-656280fe-21b1-4b67-bbb2-0707c804fc74 button.colab-df-convert');\n",
              "      buttonEl.style.display =\n",
              "        google.colab.kernel.accessAllowed ? 'block' : 'none';\n",
              "\n",
              "      async function convertToInteractive(key) {\n",
              "        const element = document.querySelector('#df-656280fe-21b1-4b67-bbb2-0707c804fc74');\n",
              "        const dataTable =\n",
              "          await google.colab.kernel.invokeFunction('convertToInteractive',\n",
              "                                                    [key], {});\n",
              "        if (!dataTable) return;\n",
              "\n",
              "        const docLinkHtml = 'Like what you see? Visit the ' +\n",
              "          '<a target=\"_blank\" href=https://colab.research.google.com/notebooks/data_table.ipynb>data table notebook</a>'\n",
              "          + ' to learn more about interactive tables.';\n",
              "        element.innerHTML = '';\n",
              "        dataTable['output_type'] = 'display_data';\n",
              "        await google.colab.output.renderOutput(dataTable, element);\n",
              "        const docLink = document.createElement('div');\n",
              "        docLink.innerHTML = docLinkHtml;\n",
              "        element.appendChild(docLink);\n",
              "      }\n",
              "    </script>\n",
              "  </div>\n",
              "\n",
              "\n",
              "<div id=\"df-9be8e321-f5d3-49ad-8159-c731f8853568\">\n",
              "  <button class=\"colab-df-quickchart\" onclick=\"quickchart('df-9be8e321-f5d3-49ad-8159-c731f8853568')\"\n",
              "            title=\"Suggest charts\"\n",
              "            style=\"display:none;\">\n",
              "\n",
              "<svg xmlns=\"http://www.w3.org/2000/svg\" height=\"24px\"viewBox=\"0 0 24 24\"\n",
              "     width=\"24px\">\n",
              "    <g>\n",
              "        <path d=\"M19 3H5c-1.1 0-2 .9-2 2v14c0 1.1.9 2 2 2h14c1.1 0 2-.9 2-2V5c0-1.1-.9-2-2-2zM9 17H7v-7h2v7zm4 0h-2V7h2v10zm4 0h-2v-4h2v4z\"/>\n",
              "    </g>\n",
              "</svg>\n",
              "  </button>\n",
              "\n",
              "<style>\n",
              "  .colab-df-quickchart {\n",
              "      --bg-color: #E8F0FE;\n",
              "      --fill-color: #1967D2;\n",
              "      --hover-bg-color: #E2EBFA;\n",
              "      --hover-fill-color: #174EA6;\n",
              "      --disabled-fill-color: #AAA;\n",
              "      --disabled-bg-color: #DDD;\n",
              "  }\n",
              "\n",
              "  [theme=dark] .colab-df-quickchart {\n",
              "      --bg-color: #3B4455;\n",
              "      --fill-color: #D2E3FC;\n",
              "      --hover-bg-color: #434B5C;\n",
              "      --hover-fill-color: #FFFFFF;\n",
              "      --disabled-bg-color: #3B4455;\n",
              "      --disabled-fill-color: #666;\n",
              "  }\n",
              "\n",
              "  .colab-df-quickchart {\n",
              "    background-color: var(--bg-color);\n",
              "    border: none;\n",
              "    border-radius: 50%;\n",
              "    cursor: pointer;\n",
              "    display: none;\n",
              "    fill: var(--fill-color);\n",
              "    height: 32px;\n",
              "    padding: 0;\n",
              "    width: 32px;\n",
              "  }\n",
              "\n",
              "  .colab-df-quickchart:hover {\n",
              "    background-color: var(--hover-bg-color);\n",
              "    box-shadow: 0 1px 2px rgba(60, 64, 67, 0.3), 0 1px 3px 1px rgba(60, 64, 67, 0.15);\n",
              "    fill: var(--button-hover-fill-color);\n",
              "  }\n",
              "\n",
              "  .colab-df-quickchart-complete:disabled,\n",
              "  .colab-df-quickchart-complete:disabled:hover {\n",
              "    background-color: var(--disabled-bg-color);\n",
              "    fill: var(--disabled-fill-color);\n",
              "    box-shadow: none;\n",
              "  }\n",
              "\n",
              "  .colab-df-spinner {\n",
              "    border: 2px solid var(--fill-color);\n",
              "    border-color: transparent;\n",
              "    border-bottom-color: var(--fill-color);\n",
              "    animation:\n",
              "      spin 1s steps(1) infinite;\n",
              "  }\n",
              "\n",
              "  @keyframes spin {\n",
              "    0% {\n",
              "      border-color: transparent;\n",
              "      border-bottom-color: var(--fill-color);\n",
              "      border-left-color: var(--fill-color);\n",
              "    }\n",
              "    20% {\n",
              "      border-color: transparent;\n",
              "      border-left-color: var(--fill-color);\n",
              "      border-top-color: var(--fill-color);\n",
              "    }\n",
              "    30% {\n",
              "      border-color: transparent;\n",
              "      border-left-color: var(--fill-color);\n",
              "      border-top-color: var(--fill-color);\n",
              "      border-right-color: var(--fill-color);\n",
              "    }\n",
              "    40% {\n",
              "      border-color: transparent;\n",
              "      border-right-color: var(--fill-color);\n",
              "      border-top-color: var(--fill-color);\n",
              "    }\n",
              "    60% {\n",
              "      border-color: transparent;\n",
              "      border-right-color: var(--fill-color);\n",
              "    }\n",
              "    80% {\n",
              "      border-color: transparent;\n",
              "      border-right-color: var(--fill-color);\n",
              "      border-bottom-color: var(--fill-color);\n",
              "    }\n",
              "    90% {\n",
              "      border-color: transparent;\n",
              "      border-bottom-color: var(--fill-color);\n",
              "    }\n",
              "  }\n",
              "</style>\n",
              "\n",
              "  <script>\n",
              "    async function quickchart(key) {\n",
              "      const quickchartButtonEl =\n",
              "        document.querySelector('#' + key + ' button');\n",
              "      quickchartButtonEl.disabled = true;  // To prevent multiple clicks.\n",
              "      quickchartButtonEl.classList.add('colab-df-spinner');\n",
              "      try {\n",
              "        const charts = await google.colab.kernel.invokeFunction(\n",
              "            'suggestCharts', [key], {});\n",
              "      } catch (error) {\n",
              "        console.error('Error during call to suggestCharts:', error);\n",
              "      }\n",
              "      quickchartButtonEl.classList.remove('colab-df-spinner');\n",
              "      quickchartButtonEl.classList.add('colab-df-quickchart-complete');\n",
              "    }\n",
              "    (() => {\n",
              "      let quickchartButtonEl =\n",
              "        document.querySelector('#df-9be8e321-f5d3-49ad-8159-c731f8853568 button');\n",
              "      quickchartButtonEl.style.display =\n",
              "        google.colab.kernel.accessAllowed ? 'block' : 'none';\n",
              "    })();\n",
              "  </script>\n",
              "</div>\n",
              "\n",
              "    </div>\n",
              "  </div>\n"
            ],
            "application/vnd.google.colaboratory.intrinsic+json": {
              "type": "dataframe",
              "summary": "{\n  \"name\": \"]\",\n  \"rows\": 3,\n  \"fields\": [\n    {\n      \"column\": \"text\",\n      \"properties\": {\n        \"dtype\": \"string\",\n        \"num_unique_values\": 3,\n        \"samples\": [\n          \"Aiga sido, como haiga sido, el gober quiere al se\\u00f1or de apellido de tienda comercial como candidato. Lo que no s\\u00e9, es que lo quiera  de Presidente Municipal,  pues parece que el de la \\\"oposici\\u00f3n\\\" no le es  indiferente.   \\u00a1No tengo pruebas, pero NO TENGO DUDAS!  \\u00a1JA!\",\n          \"\\u00bfPor qu\\u00e9 no ped\\u00ed perd\\u00f3n? si ya me es indiferente quien se qued\\u00f3 con la raz\\u00f3n. Yo te digo abiertamente que M\\u00e9xico duele cabr\\u00f3n, la Roma ya no se siente igual desde que t\\u00fa est\\u00e1s con otra gente.\",\n          \"Hoy muri\\u00f3 Carlos Bremer empresario Mexicano exitoso y visionario, siendo un ejemplo de lo que debe ser y  hacer un empresario, preocupado y apoyando a su personal y emprendiendo m\\u00e1s negocios en conjunto con due\\u00f1os de MiPYMES. M\\u00e9xico necesita empresarios c\\u00f3mo \\u00e9l y no explotadores.\"\n        ],\n        \"semantic_type\": \"\",\n        \"description\": \"\"\n      }\n    },\n    {\n      \"column\": \"Actual_Score\",\n      \"properties\": {\n        \"dtype\": \"string\",\n        \"num_unique_values\": 2,\n        \"samples\": [\n          \"powerful\",\n          \"joyful\"\n        ],\n        \"semantic_type\": \"\",\n        \"description\": \"\"\n      }\n    },\n    {\n      \"column\": \"Sentiment_rating\",\n      \"properties\": {\n        \"dtype\": \"number\",\n        \"std\": 0,\n        \"min\": 1,\n        \"max\": 1,\n        \"num_unique_values\": 1,\n        \"samples\": [\n          1\n        ],\n        \"semantic_type\": \"\",\n        \"description\": \"\"\n      }\n    },\n    {\n      \"column\": \"Predicted_sentiment\",\n      \"properties\": {\n        \"dtype\": \"number\",\n        \"std\": 0,\n        \"min\": 0,\n        \"max\": 0,\n        \"num_unique_values\": 1,\n        \"samples\": [\n          0\n        ],\n        \"semantic_type\": \"\",\n        \"description\": \"\"\n      }\n    },\n    {\n      \"column\": \"Predicted_probability\",\n      \"properties\": {\n        \"dtype\": \"number\",\n        \"std\": 0.03393879012422657,\n        \"min\": 0.06854147626673368,\n        \"max\": 0.13533970917053278,\n        \"num_unique_values\": 3,\n        \"samples\": [\n          0.06854147626673368\n        ],\n        \"semantic_type\": \"\",\n        \"description\": \"\"\n      }\n    }\n  ]\n}"
            }
          },
          "metadata": {},
          "execution_count": 44
        }
      ],
      "source": [
        "predictions[\n",
        "    predictions['Predicted_sentiment'] != predictions['Sentiment_rating']\n",
        "].sort_values(by=[\"Predicted_probability\"]).head(3)"
      ]
    },
    {
      "cell_type": "code",
      "execution_count": 45,
      "metadata": {
        "id": "S-G3sENDGu_i",
        "colab": {
          "base_uri": "https://localhost:8080/"
        },
        "outputId": "784a5896-5d77-4ec1-a5ef-0e79156ec07e"
      },
      "outputs": [
        {
          "output_type": "execute_result",
          "data": {
            "text/plain": [
              "array(['Hoy murió Carlos Bremer empresario Mexicano exitoso y visionario, siendo un ejemplo de lo que debe ser y  hacer un empresario, preocupado y apoyando a su personal y emprendiendo más negocios en conjunto con dueños de MiPYMES. México necesita empresarios cómo él y no explotadores.',\n",
              "       'powerful', 1, 0, 0.13533970917053278], dtype=object)"
            ]
          },
          "metadata": {},
          "execution_count": 45
        }
      ],
      "source": [
        "predictions.loc[1961].values"
      ]
    },
    {
      "cell_type": "code",
      "source": [],
      "metadata": {
        "id": "HorGIJ33P42r"
      },
      "execution_count": 45,
      "outputs": []
    },
    {
      "cell_type": "markdown",
      "metadata": {
        "id": "3zbOLxXOGxk_"
      },
      "source": [
        "Podemos ver que la reseña tiene un tono muy negativo, dado que empieza anunciando una muerte (generalmente relacionado con trizteza). Sin embargo, despues de anunciar su muertem hace un homenaje, diciendo que es un \"ejemplo\" y que se necesitan \"empresarios como el\". Sin embargo esto no es lo suficientemente fuerte como para contrarrestar el aspecto negativos del inicio de la reseña, Esto nos da un indicio de que quizas los encabezados o primeras palabras son las que mas pesan en el modelo a la hora de predecir sentimientos."
      ]
    },
    {
      "cell_type": "markdown",
      "metadata": {
        "id": "uq3urjaaHMV0"
      },
      "source": [
        "Modificaremos el conjunto de características en el modelo para incluir bigramas, trigramas y 4-grams, sin eliminar las palabras irrelevantes definidas anteriormente antes de presentarlas. (ngram_range=(1,4).)\n",
        "\n",
        "Al mismo tiempo, ajsutaremos hiperparámetros.  (clasificador de regresión logística a 0,9.)"
      ]
    },
    {
      "cell_type": "code",
      "execution_count": 46,
      "metadata": {
        "id": "kEqVP5IuHSKk",
        "colab": {
          "base_uri": "https://localhost:8080/"
        },
        "outputId": "be58b253-eceb-416e-9961-2525c2e80a56"
      },
      "outputs": [
        {
          "output_type": "stream",
          "name": "stderr",
          "text": [
            "/usr/local/lib/python3.11/dist-packages/sklearn/feature_extraction/text.py:517: UserWarning: The parameter 'token_pattern' will not be used since 'tokenizer' is not None'\n",
            "  warnings.warn(\n"
          ]
        }
      ],
      "source": [
        "# Cambios con respecto al código anterior\n",
        "# 1. Aumentar los n-gramas de solo tener 1 gramo a (1 gramo, 2 gramos, 3 gramos y 4 gramos)\n",
        "# 2. Incluir las palabras vacías en las características de la bolsa de palabras\n",
        "bow_counts = CountVectorizer(\n",
        "    tokenizer=word_tokenize,\n",
        "    ngram_range=(1,4)\n",
        ")\n",
        "\n",
        "X_train_bow = bow_counts.fit_transform(reviews_train.reviews_text_new)\n",
        "X_test_bow = bow_counts.transform(reviews_test.reviews_text_new)"
      ]
    },
    {
      "cell_type": "code",
      "execution_count": 47,
      "metadata": {
        "id": "8IPlWx1OHYKg",
        "colab": {
          "base_uri": "https://localhost:8080/"
        },
        "outputId": "5b8e761f-3ad0-4d3c-f5a2-ceea2a1773c3"
      },
      "outputs": [
        {
          "output_type": "execute_result",
          "data": {
            "text/plain": [
              "<2072x114285 sparse matrix of type '<class 'numpy.int64'>'\n",
              "\twith 182511 stored elements in Compressed Sparse Row format>"
            ]
          },
          "metadata": {},
          "execution_count": 47
        }
      ],
      "source": [
        "# Observamos el aumento de funciones con la inclusión de palabras vacías\n",
        "X_train_bow"
      ]
    },
    {
      "cell_type": "code",
      "execution_count": 48,
      "metadata": {
        "id": "GatU304PHdRw"
      },
      "outputs": [],
      "source": [
        "# Cambios en la regresión logística\n",
        "# Cambio de la sanción de regularización por defecto de l2 a l1\n",
        "# Cambiando el parámetro de costo C a 0.9\n",
        "lr_model_all_new = LogisticRegression(C=0.9, solver=\"liblinear\")"
      ]
    },
    {
      "cell_type": "code",
      "execution_count": 49,
      "metadata": {
        "id": "t-9RjVU3HjeM",
        "colab": {
          "base_uri": "https://localhost:8080/"
        },
        "outputId": "2a8f974e-5c9b-402e-ac9f-d6e1b8d19233"
      },
      "outputs": [
        {
          "output_type": "stream",
          "name": "stdout",
          "text": [
            "F1 score:  0.831973898858075\n",
            "Accuracy:  80.11583011583011\n"
          ]
        }
      ],
      "source": [
        "# Entrenar el modelo\n",
        "lr_model_all_new.fit(X_train_bow, y_train_bow)\n",
        "\n",
        "# Predecir resultados\n",
        "test_pred_lr_prob = lr_model_all_new.predict_proba(X_test_bow)\n",
        "test_pred_lr_all = lr_model_all_new.predict(X_test_bow)\n",
        "\n",
        "print(\"F1 score: \", f1_score(y_test_bow, test_pred_lr_all))\n",
        "print(\"Accuracy: \", accuracy_score(y_test_bow, test_pred_lr_all) * 100)"
      ]
    },
    {
      "cell_type": "markdown",
      "metadata": {
        "id": "AU11TtV5Hp3J"
      },
      "source": [
        "La precisión ha saltado del 92% al 80%. Parametros mas razonables considerando que implementamos ngramas (1,4)."
      ]
    },
    {
      "cell_type": "code",
      "source": [
        "lr_weights = pd.DataFrame(list(\n",
        "    zip(\n",
        "        bow_counts.get_feature_names_out(),\n",
        "        lr_model_all_new.coef_[0])\n",
        "    ),\n",
        "    columns=['words','weights']\n",
        ")\n",
        "\n",
        "lr_weights.sort_values(['weights'],ascending = False)[:15]"
      ],
      "metadata": {
        "colab": {
          "base_uri": "https://localhost:8080/",
          "height": 0
        },
        "id": "WAitOxEutSna",
        "outputId": "2863f1af-8dda-4db6-bb80-4d4ff160e160"
      },
      "execution_count": 50,
      "outputs": [
        {
          "output_type": "execute_result",
          "data": {
            "text/plain": [
              "              words   weights\n",
              "8526      anonadado  0.771507\n",
              "7836            amo  0.698311\n",
              "45006         grato  0.667494\n",
              "12629         bueno  0.636296\n",
              "94064      sensible  0.633323\n",
              "18436      confiado  0.610668\n",
              "93884        seguro  0.609710\n",
              "10369      atrevido  0.591721\n",
              "44951  gratificante  0.581850\n",
              "13516      caloroso  0.578517\n",
              "88382      reactivo  0.554274\n",
              "7922           amor  0.541159\n",
              "89696      resuelto  0.534766\n",
              "9944      asegurado  0.531591\n",
              "8891     apasionado  0.528368"
            ],
            "text/html": [
              "\n",
              "  <div id=\"df-037d44fc-e35b-41cf-991b-24274a8fbe8c\" class=\"colab-df-container\">\n",
              "    <div>\n",
              "<style scoped>\n",
              "    .dataframe tbody tr th:only-of-type {\n",
              "        vertical-align: middle;\n",
              "    }\n",
              "\n",
              "    .dataframe tbody tr th {\n",
              "        vertical-align: top;\n",
              "    }\n",
              "\n",
              "    .dataframe thead th {\n",
              "        text-align: right;\n",
              "    }\n",
              "</style>\n",
              "<table border=\"1\" class=\"dataframe\">\n",
              "  <thead>\n",
              "    <tr style=\"text-align: right;\">\n",
              "      <th></th>\n",
              "      <th>words</th>\n",
              "      <th>weights</th>\n",
              "    </tr>\n",
              "  </thead>\n",
              "  <tbody>\n",
              "    <tr>\n",
              "      <th>8526</th>\n",
              "      <td>anonadado</td>\n",
              "      <td>0.771507</td>\n",
              "    </tr>\n",
              "    <tr>\n",
              "      <th>7836</th>\n",
              "      <td>amo</td>\n",
              "      <td>0.698311</td>\n",
              "    </tr>\n",
              "    <tr>\n",
              "      <th>45006</th>\n",
              "      <td>grato</td>\n",
              "      <td>0.667494</td>\n",
              "    </tr>\n",
              "    <tr>\n",
              "      <th>12629</th>\n",
              "      <td>bueno</td>\n",
              "      <td>0.636296</td>\n",
              "    </tr>\n",
              "    <tr>\n",
              "      <th>94064</th>\n",
              "      <td>sensible</td>\n",
              "      <td>0.633323</td>\n",
              "    </tr>\n",
              "    <tr>\n",
              "      <th>18436</th>\n",
              "      <td>confiado</td>\n",
              "      <td>0.610668</td>\n",
              "    </tr>\n",
              "    <tr>\n",
              "      <th>93884</th>\n",
              "      <td>seguro</td>\n",
              "      <td>0.609710</td>\n",
              "    </tr>\n",
              "    <tr>\n",
              "      <th>10369</th>\n",
              "      <td>atrevido</td>\n",
              "      <td>0.591721</td>\n",
              "    </tr>\n",
              "    <tr>\n",
              "      <th>44951</th>\n",
              "      <td>gratificante</td>\n",
              "      <td>0.581850</td>\n",
              "    </tr>\n",
              "    <tr>\n",
              "      <th>13516</th>\n",
              "      <td>caloroso</td>\n",
              "      <td>0.578517</td>\n",
              "    </tr>\n",
              "    <tr>\n",
              "      <th>88382</th>\n",
              "      <td>reactivo</td>\n",
              "      <td>0.554274</td>\n",
              "    </tr>\n",
              "    <tr>\n",
              "      <th>7922</th>\n",
              "      <td>amor</td>\n",
              "      <td>0.541159</td>\n",
              "    </tr>\n",
              "    <tr>\n",
              "      <th>89696</th>\n",
              "      <td>resuelto</td>\n",
              "      <td>0.534766</td>\n",
              "    </tr>\n",
              "    <tr>\n",
              "      <th>9944</th>\n",
              "      <td>asegurado</td>\n",
              "      <td>0.531591</td>\n",
              "    </tr>\n",
              "    <tr>\n",
              "      <th>8891</th>\n",
              "      <td>apasionado</td>\n",
              "      <td>0.528368</td>\n",
              "    </tr>\n",
              "  </tbody>\n",
              "</table>\n",
              "</div>\n",
              "    <div class=\"colab-df-buttons\">\n",
              "\n",
              "  <div class=\"colab-df-container\">\n",
              "    <button class=\"colab-df-convert\" onclick=\"convertToInteractive('df-037d44fc-e35b-41cf-991b-24274a8fbe8c')\"\n",
              "            title=\"Convert this dataframe to an interactive table.\"\n",
              "            style=\"display:none;\">\n",
              "\n",
              "  <svg xmlns=\"http://www.w3.org/2000/svg\" height=\"24px\" viewBox=\"0 -960 960 960\">\n",
              "    <path d=\"M120-120v-720h720v720H120Zm60-500h600v-160H180v160Zm220 220h160v-160H400v160Zm0 220h160v-160H400v160ZM180-400h160v-160H180v160Zm440 0h160v-160H620v160ZM180-180h160v-160H180v160Zm440 0h160v-160H620v160Z\"/>\n",
              "  </svg>\n",
              "    </button>\n",
              "\n",
              "  <style>\n",
              "    .colab-df-container {\n",
              "      display:flex;\n",
              "      gap: 12px;\n",
              "    }\n",
              "\n",
              "    .colab-df-convert {\n",
              "      background-color: #E8F0FE;\n",
              "      border: none;\n",
              "      border-radius: 50%;\n",
              "      cursor: pointer;\n",
              "      display: none;\n",
              "      fill: #1967D2;\n",
              "      height: 32px;\n",
              "      padding: 0 0 0 0;\n",
              "      width: 32px;\n",
              "    }\n",
              "\n",
              "    .colab-df-convert:hover {\n",
              "      background-color: #E2EBFA;\n",
              "      box-shadow: 0px 1px 2px rgba(60, 64, 67, 0.3), 0px 1px 3px 1px rgba(60, 64, 67, 0.15);\n",
              "      fill: #174EA6;\n",
              "    }\n",
              "\n",
              "    .colab-df-buttons div {\n",
              "      margin-bottom: 4px;\n",
              "    }\n",
              "\n",
              "    [theme=dark] .colab-df-convert {\n",
              "      background-color: #3B4455;\n",
              "      fill: #D2E3FC;\n",
              "    }\n",
              "\n",
              "    [theme=dark] .colab-df-convert:hover {\n",
              "      background-color: #434B5C;\n",
              "      box-shadow: 0px 1px 3px 1px rgba(0, 0, 0, 0.15);\n",
              "      filter: drop-shadow(0px 1px 2px rgba(0, 0, 0, 0.3));\n",
              "      fill: #FFFFFF;\n",
              "    }\n",
              "  </style>\n",
              "\n",
              "    <script>\n",
              "      const buttonEl =\n",
              "        document.querySelector('#df-037d44fc-e35b-41cf-991b-24274a8fbe8c button.colab-df-convert');\n",
              "      buttonEl.style.display =\n",
              "        google.colab.kernel.accessAllowed ? 'block' : 'none';\n",
              "\n",
              "      async function convertToInteractive(key) {\n",
              "        const element = document.querySelector('#df-037d44fc-e35b-41cf-991b-24274a8fbe8c');\n",
              "        const dataTable =\n",
              "          await google.colab.kernel.invokeFunction('convertToInteractive',\n",
              "                                                    [key], {});\n",
              "        if (!dataTable) return;\n",
              "\n",
              "        const docLinkHtml = 'Like what you see? Visit the ' +\n",
              "          '<a target=\"_blank\" href=https://colab.research.google.com/notebooks/data_table.ipynb>data table notebook</a>'\n",
              "          + ' to learn more about interactive tables.';\n",
              "        element.innerHTML = '';\n",
              "        dataTable['output_type'] = 'display_data';\n",
              "        await google.colab.output.renderOutput(dataTable, element);\n",
              "        const docLink = document.createElement('div');\n",
              "        docLink.innerHTML = docLinkHtml;\n",
              "        element.appendChild(docLink);\n",
              "      }\n",
              "    </script>\n",
              "  </div>\n",
              "\n",
              "\n",
              "<div id=\"df-0fc23bb2-b0a9-4a33-b299-3131dbc65c22\">\n",
              "  <button class=\"colab-df-quickchart\" onclick=\"quickchart('df-0fc23bb2-b0a9-4a33-b299-3131dbc65c22')\"\n",
              "            title=\"Suggest charts\"\n",
              "            style=\"display:none;\">\n",
              "\n",
              "<svg xmlns=\"http://www.w3.org/2000/svg\" height=\"24px\"viewBox=\"0 0 24 24\"\n",
              "     width=\"24px\">\n",
              "    <g>\n",
              "        <path d=\"M19 3H5c-1.1 0-2 .9-2 2v14c0 1.1.9 2 2 2h14c1.1 0 2-.9 2-2V5c0-1.1-.9-2-2-2zM9 17H7v-7h2v7zm4 0h-2V7h2v10zm4 0h-2v-4h2v4z\"/>\n",
              "    </g>\n",
              "</svg>\n",
              "  </button>\n",
              "\n",
              "<style>\n",
              "  .colab-df-quickchart {\n",
              "      --bg-color: #E8F0FE;\n",
              "      --fill-color: #1967D2;\n",
              "      --hover-bg-color: #E2EBFA;\n",
              "      --hover-fill-color: #174EA6;\n",
              "      --disabled-fill-color: #AAA;\n",
              "      --disabled-bg-color: #DDD;\n",
              "  }\n",
              "\n",
              "  [theme=dark] .colab-df-quickchart {\n",
              "      --bg-color: #3B4455;\n",
              "      --fill-color: #D2E3FC;\n",
              "      --hover-bg-color: #434B5C;\n",
              "      --hover-fill-color: #FFFFFF;\n",
              "      --disabled-bg-color: #3B4455;\n",
              "      --disabled-fill-color: #666;\n",
              "  }\n",
              "\n",
              "  .colab-df-quickchart {\n",
              "    background-color: var(--bg-color);\n",
              "    border: none;\n",
              "    border-radius: 50%;\n",
              "    cursor: pointer;\n",
              "    display: none;\n",
              "    fill: var(--fill-color);\n",
              "    height: 32px;\n",
              "    padding: 0;\n",
              "    width: 32px;\n",
              "  }\n",
              "\n",
              "  .colab-df-quickchart:hover {\n",
              "    background-color: var(--hover-bg-color);\n",
              "    box-shadow: 0 1px 2px rgba(60, 64, 67, 0.3), 0 1px 3px 1px rgba(60, 64, 67, 0.15);\n",
              "    fill: var(--button-hover-fill-color);\n",
              "  }\n",
              "\n",
              "  .colab-df-quickchart-complete:disabled,\n",
              "  .colab-df-quickchart-complete:disabled:hover {\n",
              "    background-color: var(--disabled-bg-color);\n",
              "    fill: var(--disabled-fill-color);\n",
              "    box-shadow: none;\n",
              "  }\n",
              "\n",
              "  .colab-df-spinner {\n",
              "    border: 2px solid var(--fill-color);\n",
              "    border-color: transparent;\n",
              "    border-bottom-color: var(--fill-color);\n",
              "    animation:\n",
              "      spin 1s steps(1) infinite;\n",
              "  }\n",
              "\n",
              "  @keyframes spin {\n",
              "    0% {\n",
              "      border-color: transparent;\n",
              "      border-bottom-color: var(--fill-color);\n",
              "      border-left-color: var(--fill-color);\n",
              "    }\n",
              "    20% {\n",
              "      border-color: transparent;\n",
              "      border-left-color: var(--fill-color);\n",
              "      border-top-color: var(--fill-color);\n",
              "    }\n",
              "    30% {\n",
              "      border-color: transparent;\n",
              "      border-left-color: var(--fill-color);\n",
              "      border-top-color: var(--fill-color);\n",
              "      border-right-color: var(--fill-color);\n",
              "    }\n",
              "    40% {\n",
              "      border-color: transparent;\n",
              "      border-right-color: var(--fill-color);\n",
              "      border-top-color: var(--fill-color);\n",
              "    }\n",
              "    60% {\n",
              "      border-color: transparent;\n",
              "      border-right-color: var(--fill-color);\n",
              "    }\n",
              "    80% {\n",
              "      border-color: transparent;\n",
              "      border-right-color: var(--fill-color);\n",
              "      border-bottom-color: var(--fill-color);\n",
              "    }\n",
              "    90% {\n",
              "      border-color: transparent;\n",
              "      border-bottom-color: var(--fill-color);\n",
              "    }\n",
              "  }\n",
              "</style>\n",
              "\n",
              "  <script>\n",
              "    async function quickchart(key) {\n",
              "      const quickchartButtonEl =\n",
              "        document.querySelector('#' + key + ' button');\n",
              "      quickchartButtonEl.disabled = true;  // To prevent multiple clicks.\n",
              "      quickchartButtonEl.classList.add('colab-df-spinner');\n",
              "      try {\n",
              "        const charts = await google.colab.kernel.invokeFunction(\n",
              "            'suggestCharts', [key], {});\n",
              "      } catch (error) {\n",
              "        console.error('Error during call to suggestCharts:', error);\n",
              "      }\n",
              "      quickchartButtonEl.classList.remove('colab-df-spinner');\n",
              "      quickchartButtonEl.classList.add('colab-df-quickchart-complete');\n",
              "    }\n",
              "    (() => {\n",
              "      let quickchartButtonEl =\n",
              "        document.querySelector('#df-0fc23bb2-b0a9-4a33-b299-3131dbc65c22 button');\n",
              "      quickchartButtonEl.style.display =\n",
              "        google.colab.kernel.accessAllowed ? 'block' : 'none';\n",
              "    })();\n",
              "  </script>\n",
              "</div>\n",
              "\n",
              "    </div>\n",
              "  </div>\n"
            ],
            "application/vnd.google.colaboratory.intrinsic+json": {
              "type": "dataframe",
              "summary": "{\n  \"name\": \"lr_weights\",\n  \"rows\": 15,\n  \"fields\": [\n    {\n      \"column\": \"words\",\n      \"properties\": {\n        \"dtype\": \"string\",\n        \"num_unique_values\": 15,\n        \"samples\": [\n          \"caloroso\",\n          \"amor\",\n          \"anonadado\"\n        ],\n        \"semantic_type\": \"\",\n        \"description\": \"\"\n      }\n    },\n    {\n      \"column\": \"weights\",\n      \"properties\": {\n        \"dtype\": \"number\",\n        \"std\": 0.06888271500610886,\n        \"min\": 0.5283675641015209,\n        \"max\": 0.7715071201033372,\n        \"num_unique_values\": 15,\n        \"samples\": [\n          0.5785170794538319,\n          0.5411594929630384,\n          0.7715071201033372\n        ],\n        \"semantic_type\": \"\",\n        \"description\": \"\"\n      }\n    }\n  ]\n}"
            }
          },
          "metadata": {},
          "execution_count": 50
        }
      ]
    },
    {
      "cell_type": "code",
      "source": [
        "lr_weights.sort_values(['weights'],ascending = False)[-15:]"
      ],
      "metadata": {
        "colab": {
          "base_uri": "https://localhost:8080/",
          "height": 0
        },
        "id": "gMdGXOP7te1S",
        "outputId": "4641e048-aaf4-4124-f82a-59ee856102bc"
      },
      "execution_count": 51,
      "outputs": [
        {
          "output_type": "execute_result",
          "data": {
            "text/plain": [
              "               words   weights\n",
              "97500        soltero -0.598701\n",
              "62975      me siento -0.626338\n",
              "66084        molesto -0.647908\n",
              "43251      frustrado -0.649363\n",
              "28629  desilusionado -0.672690\n",
              "14852         celoso -0.673099\n",
              "40612          estoy -0.689220\n",
              "97751      sonrojado -0.699379\n",
              "77653        perdido -0.721319\n",
              "49612      impotente -0.730422\n",
              "49361     impaciente -0.741817\n",
              "97236      solitario -0.780764\n",
              "28152     desbordado -0.818932\n",
              "4580        abrumado -0.859841\n",
              "13889        cansado -1.203812"
            ],
            "text/html": [
              "\n",
              "  <div id=\"df-dec0f258-86ff-4833-83a4-0af0a533f259\" class=\"colab-df-container\">\n",
              "    <div>\n",
              "<style scoped>\n",
              "    .dataframe tbody tr th:only-of-type {\n",
              "        vertical-align: middle;\n",
              "    }\n",
              "\n",
              "    .dataframe tbody tr th {\n",
              "        vertical-align: top;\n",
              "    }\n",
              "\n",
              "    .dataframe thead th {\n",
              "        text-align: right;\n",
              "    }\n",
              "</style>\n",
              "<table border=\"1\" class=\"dataframe\">\n",
              "  <thead>\n",
              "    <tr style=\"text-align: right;\">\n",
              "      <th></th>\n",
              "      <th>words</th>\n",
              "      <th>weights</th>\n",
              "    </tr>\n",
              "  </thead>\n",
              "  <tbody>\n",
              "    <tr>\n",
              "      <th>97500</th>\n",
              "      <td>soltero</td>\n",
              "      <td>-0.598701</td>\n",
              "    </tr>\n",
              "    <tr>\n",
              "      <th>62975</th>\n",
              "      <td>me siento</td>\n",
              "      <td>-0.626338</td>\n",
              "    </tr>\n",
              "    <tr>\n",
              "      <th>66084</th>\n",
              "      <td>molesto</td>\n",
              "      <td>-0.647908</td>\n",
              "    </tr>\n",
              "    <tr>\n",
              "      <th>43251</th>\n",
              "      <td>frustrado</td>\n",
              "      <td>-0.649363</td>\n",
              "    </tr>\n",
              "    <tr>\n",
              "      <th>28629</th>\n",
              "      <td>desilusionado</td>\n",
              "      <td>-0.672690</td>\n",
              "    </tr>\n",
              "    <tr>\n",
              "      <th>14852</th>\n",
              "      <td>celoso</td>\n",
              "      <td>-0.673099</td>\n",
              "    </tr>\n",
              "    <tr>\n",
              "      <th>40612</th>\n",
              "      <td>estoy</td>\n",
              "      <td>-0.689220</td>\n",
              "    </tr>\n",
              "    <tr>\n",
              "      <th>97751</th>\n",
              "      <td>sonrojado</td>\n",
              "      <td>-0.699379</td>\n",
              "    </tr>\n",
              "    <tr>\n",
              "      <th>77653</th>\n",
              "      <td>perdido</td>\n",
              "      <td>-0.721319</td>\n",
              "    </tr>\n",
              "    <tr>\n",
              "      <th>49612</th>\n",
              "      <td>impotente</td>\n",
              "      <td>-0.730422</td>\n",
              "    </tr>\n",
              "    <tr>\n",
              "      <th>49361</th>\n",
              "      <td>impaciente</td>\n",
              "      <td>-0.741817</td>\n",
              "    </tr>\n",
              "    <tr>\n",
              "      <th>97236</th>\n",
              "      <td>solitario</td>\n",
              "      <td>-0.780764</td>\n",
              "    </tr>\n",
              "    <tr>\n",
              "      <th>28152</th>\n",
              "      <td>desbordado</td>\n",
              "      <td>-0.818932</td>\n",
              "    </tr>\n",
              "    <tr>\n",
              "      <th>4580</th>\n",
              "      <td>abrumado</td>\n",
              "      <td>-0.859841</td>\n",
              "    </tr>\n",
              "    <tr>\n",
              "      <th>13889</th>\n",
              "      <td>cansado</td>\n",
              "      <td>-1.203812</td>\n",
              "    </tr>\n",
              "  </tbody>\n",
              "</table>\n",
              "</div>\n",
              "    <div class=\"colab-df-buttons\">\n",
              "\n",
              "  <div class=\"colab-df-container\">\n",
              "    <button class=\"colab-df-convert\" onclick=\"convertToInteractive('df-dec0f258-86ff-4833-83a4-0af0a533f259')\"\n",
              "            title=\"Convert this dataframe to an interactive table.\"\n",
              "            style=\"display:none;\">\n",
              "\n",
              "  <svg xmlns=\"http://www.w3.org/2000/svg\" height=\"24px\" viewBox=\"0 -960 960 960\">\n",
              "    <path d=\"M120-120v-720h720v720H120Zm60-500h600v-160H180v160Zm220 220h160v-160H400v160Zm0 220h160v-160H400v160ZM180-400h160v-160H180v160Zm440 0h160v-160H620v160ZM180-180h160v-160H180v160Zm440 0h160v-160H620v160Z\"/>\n",
              "  </svg>\n",
              "    </button>\n",
              "\n",
              "  <style>\n",
              "    .colab-df-container {\n",
              "      display:flex;\n",
              "      gap: 12px;\n",
              "    }\n",
              "\n",
              "    .colab-df-convert {\n",
              "      background-color: #E8F0FE;\n",
              "      border: none;\n",
              "      border-radius: 50%;\n",
              "      cursor: pointer;\n",
              "      display: none;\n",
              "      fill: #1967D2;\n",
              "      height: 32px;\n",
              "      padding: 0 0 0 0;\n",
              "      width: 32px;\n",
              "    }\n",
              "\n",
              "    .colab-df-convert:hover {\n",
              "      background-color: #E2EBFA;\n",
              "      box-shadow: 0px 1px 2px rgba(60, 64, 67, 0.3), 0px 1px 3px 1px rgba(60, 64, 67, 0.15);\n",
              "      fill: #174EA6;\n",
              "    }\n",
              "\n",
              "    .colab-df-buttons div {\n",
              "      margin-bottom: 4px;\n",
              "    }\n",
              "\n",
              "    [theme=dark] .colab-df-convert {\n",
              "      background-color: #3B4455;\n",
              "      fill: #D2E3FC;\n",
              "    }\n",
              "\n",
              "    [theme=dark] .colab-df-convert:hover {\n",
              "      background-color: #434B5C;\n",
              "      box-shadow: 0px 1px 3px 1px rgba(0, 0, 0, 0.15);\n",
              "      filter: drop-shadow(0px 1px 2px rgba(0, 0, 0, 0.3));\n",
              "      fill: #FFFFFF;\n",
              "    }\n",
              "  </style>\n",
              "\n",
              "    <script>\n",
              "      const buttonEl =\n",
              "        document.querySelector('#df-dec0f258-86ff-4833-83a4-0af0a533f259 button.colab-df-convert');\n",
              "      buttonEl.style.display =\n",
              "        google.colab.kernel.accessAllowed ? 'block' : 'none';\n",
              "\n",
              "      async function convertToInteractive(key) {\n",
              "        const element = document.querySelector('#df-dec0f258-86ff-4833-83a4-0af0a533f259');\n",
              "        const dataTable =\n",
              "          await google.colab.kernel.invokeFunction('convertToInteractive',\n",
              "                                                    [key], {});\n",
              "        if (!dataTable) return;\n",
              "\n",
              "        const docLinkHtml = 'Like what you see? Visit the ' +\n",
              "          '<a target=\"_blank\" href=https://colab.research.google.com/notebooks/data_table.ipynb>data table notebook</a>'\n",
              "          + ' to learn more about interactive tables.';\n",
              "        element.innerHTML = '';\n",
              "        dataTable['output_type'] = 'display_data';\n",
              "        await google.colab.output.renderOutput(dataTable, element);\n",
              "        const docLink = document.createElement('div');\n",
              "        docLink.innerHTML = docLinkHtml;\n",
              "        element.appendChild(docLink);\n",
              "      }\n",
              "    </script>\n",
              "  </div>\n",
              "\n",
              "\n",
              "<div id=\"df-1ec81557-bfa4-422e-9a78-766cbf466802\">\n",
              "  <button class=\"colab-df-quickchart\" onclick=\"quickchart('df-1ec81557-bfa4-422e-9a78-766cbf466802')\"\n",
              "            title=\"Suggest charts\"\n",
              "            style=\"display:none;\">\n",
              "\n",
              "<svg xmlns=\"http://www.w3.org/2000/svg\" height=\"24px\"viewBox=\"0 0 24 24\"\n",
              "     width=\"24px\">\n",
              "    <g>\n",
              "        <path d=\"M19 3H5c-1.1 0-2 .9-2 2v14c0 1.1.9 2 2 2h14c1.1 0 2-.9 2-2V5c0-1.1-.9-2-2-2zM9 17H7v-7h2v7zm4 0h-2V7h2v10zm4 0h-2v-4h2v4z\"/>\n",
              "    </g>\n",
              "</svg>\n",
              "  </button>\n",
              "\n",
              "<style>\n",
              "  .colab-df-quickchart {\n",
              "      --bg-color: #E8F0FE;\n",
              "      --fill-color: #1967D2;\n",
              "      --hover-bg-color: #E2EBFA;\n",
              "      --hover-fill-color: #174EA6;\n",
              "      --disabled-fill-color: #AAA;\n",
              "      --disabled-bg-color: #DDD;\n",
              "  }\n",
              "\n",
              "  [theme=dark] .colab-df-quickchart {\n",
              "      --bg-color: #3B4455;\n",
              "      --fill-color: #D2E3FC;\n",
              "      --hover-bg-color: #434B5C;\n",
              "      --hover-fill-color: #FFFFFF;\n",
              "      --disabled-bg-color: #3B4455;\n",
              "      --disabled-fill-color: #666;\n",
              "  }\n",
              "\n",
              "  .colab-df-quickchart {\n",
              "    background-color: var(--bg-color);\n",
              "    border: none;\n",
              "    border-radius: 50%;\n",
              "    cursor: pointer;\n",
              "    display: none;\n",
              "    fill: var(--fill-color);\n",
              "    height: 32px;\n",
              "    padding: 0;\n",
              "    width: 32px;\n",
              "  }\n",
              "\n",
              "  .colab-df-quickchart:hover {\n",
              "    background-color: var(--hover-bg-color);\n",
              "    box-shadow: 0 1px 2px rgba(60, 64, 67, 0.3), 0 1px 3px 1px rgba(60, 64, 67, 0.15);\n",
              "    fill: var(--button-hover-fill-color);\n",
              "  }\n",
              "\n",
              "  .colab-df-quickchart-complete:disabled,\n",
              "  .colab-df-quickchart-complete:disabled:hover {\n",
              "    background-color: var(--disabled-bg-color);\n",
              "    fill: var(--disabled-fill-color);\n",
              "    box-shadow: none;\n",
              "  }\n",
              "\n",
              "  .colab-df-spinner {\n",
              "    border: 2px solid var(--fill-color);\n",
              "    border-color: transparent;\n",
              "    border-bottom-color: var(--fill-color);\n",
              "    animation:\n",
              "      spin 1s steps(1) infinite;\n",
              "  }\n",
              "\n",
              "  @keyframes spin {\n",
              "    0% {\n",
              "      border-color: transparent;\n",
              "      border-bottom-color: var(--fill-color);\n",
              "      border-left-color: var(--fill-color);\n",
              "    }\n",
              "    20% {\n",
              "      border-color: transparent;\n",
              "      border-left-color: var(--fill-color);\n",
              "      border-top-color: var(--fill-color);\n",
              "    }\n",
              "    30% {\n",
              "      border-color: transparent;\n",
              "      border-left-color: var(--fill-color);\n",
              "      border-top-color: var(--fill-color);\n",
              "      border-right-color: var(--fill-color);\n",
              "    }\n",
              "    40% {\n",
              "      border-color: transparent;\n",
              "      border-right-color: var(--fill-color);\n",
              "      border-top-color: var(--fill-color);\n",
              "    }\n",
              "    60% {\n",
              "      border-color: transparent;\n",
              "      border-right-color: var(--fill-color);\n",
              "    }\n",
              "    80% {\n",
              "      border-color: transparent;\n",
              "      border-right-color: var(--fill-color);\n",
              "      border-bottom-color: var(--fill-color);\n",
              "    }\n",
              "    90% {\n",
              "      border-color: transparent;\n",
              "      border-bottom-color: var(--fill-color);\n",
              "    }\n",
              "  }\n",
              "</style>\n",
              "\n",
              "  <script>\n",
              "    async function quickchart(key) {\n",
              "      const quickchartButtonEl =\n",
              "        document.querySelector('#' + key + ' button');\n",
              "      quickchartButtonEl.disabled = true;  // To prevent multiple clicks.\n",
              "      quickchartButtonEl.classList.add('colab-df-spinner');\n",
              "      try {\n",
              "        const charts = await google.colab.kernel.invokeFunction(\n",
              "            'suggestCharts', [key], {});\n",
              "      } catch (error) {\n",
              "        console.error('Error during call to suggestCharts:', error);\n",
              "      }\n",
              "      quickchartButtonEl.classList.remove('colab-df-spinner');\n",
              "      quickchartButtonEl.classList.add('colab-df-quickchart-complete');\n",
              "    }\n",
              "    (() => {\n",
              "      let quickchartButtonEl =\n",
              "        document.querySelector('#df-1ec81557-bfa4-422e-9a78-766cbf466802 button');\n",
              "      quickchartButtonEl.style.display =\n",
              "        google.colab.kernel.accessAllowed ? 'block' : 'none';\n",
              "    })();\n",
              "  </script>\n",
              "</div>\n",
              "\n",
              "    </div>\n",
              "  </div>\n"
            ],
            "application/vnd.google.colaboratory.intrinsic+json": {
              "type": "dataframe",
              "summary": "{\n  \"name\": \"lr_weights\",\n  \"rows\": 15,\n  \"fields\": [\n    {\n      \"column\": \"words\",\n      \"properties\": {\n        \"dtype\": \"string\",\n        \"num_unique_values\": 15,\n        \"samples\": [\n          \"impotente\",\n          \"solitario\",\n          \"soltero\"\n        ],\n        \"semantic_type\": \"\",\n        \"description\": \"\"\n      }\n    },\n    {\n      \"column\": \"weights\",\n      \"properties\": {\n        \"dtype\": \"number\",\n        \"std\": 0.14653691215928982,\n        \"min\": -1.2038124892679398,\n        \"max\": -0.5987013561297007,\n        \"num_unique_values\": 15,\n        \"samples\": [\n          -0.7304221628291712,\n          -0.7807641982761558,\n          -0.5987013561297007\n        ],\n        \"semantic_type\": \"\",\n        \"description\": \"\"\n      }\n    }\n  ]\n}"
            }
          },
          "metadata": {},
          "execution_count": 51
        }
      ]
    },
    {
      "cell_type": "markdown",
      "metadata": {
        "id": "2jl8v2WlIDHs"
      },
      "source": [
        "# 2.- Modelo TF-IDF\n",
        "\n",
        "Por supuesto, la bolsa de palabras no es la única forma de caracterizar el texto. Otro método, que mencionamos brevemente antes, es el método TF-IDF. Esto evalúa qué tan importante es una palabra para un documento dentro de una gran colección de documentos (es decir, corpus). La importancia aumenta proporcionalmente en función del número de veces que aparece una palabra en el documento, pero se compensa con la frecuencia de la palabra en el corpus.\n",
        "\n",
        "La TF-IDF es el producto de dos términos. El primero calcula la frecuencia de término normalizada (TF); es decir, el número de veces que aparece una palabra en un documento dividido por el número total de palabras en ese documento. El segundo término es la Frecuencia Inversa de Documentos (IDF), calculada como el logaritmo del número de documentos en el corpus dividido por el número de documentos"
      ]
    },
    {
      "cell_type": "markdown",
      "metadata": {
        "id": "iaDByDseIdYq"
      },
      "source": [
        "Menos formalmente, ¿qué significa esto?\n",
        "\n",
        "- Si una palabra aparece con mucha frecuencia en un documento específico, es probable que sea significativa.\n",
        "- Si una palabra aparece con mucha frecuencia en casi todos los documentos del corpus, es poco probable que sea significativa.\n",
        "- Por tanto, una palabra que aparece a menudo en un documento pero rara vez en el resto del corpus merece especial atención.\n",
        "\n",
        "TF-IDF no solo cuenta cada palabra, sino que aplica una ponderación para que las palabras comunes reciban menos atención y las palabras raras reciban más.\n",
        "\n",
        "Volvamos a presentar nuestro conjunto original de revisiones basado en TF-IDF y dividamos las funciones resultantes en conjuntos de entrenamiento y prueba:"
      ]
    },
    {
      "cell_type": "code",
      "execution_count": 52,
      "metadata": {
        "id": "Qy27CGjZInLg",
        "colab": {
          "base_uri": "https://localhost:8080/"
        },
        "outputId": "f8b04cb6-b4be-4105-ae65-0f6640db2983"
      },
      "outputs": [
        {
          "output_type": "stream",
          "name": "stderr",
          "text": [
            "/usr/local/lib/python3.11/dist-packages/sklearn/feature_extraction/text.py:517: UserWarning: The parameter 'token_pattern' will not be used since 'tokenizer' is not None'\n",
            "  warnings.warn(\n"
          ]
        }
      ],
      "source": [
        "# Cree un vectorizador: aún alimentamos nuestras stopwords, aunque\n",
        "# estos son menos relevantes ahora ya que TF-IDF los ponderaría menos\n",
        "# de todas formas.\n",
        "tfidf_counts = TfidfVectorizer(\n",
        "    tokenizer=word_tokenize,\n",
        "    stop_words=noise_words,\n",
        "    ngram_range=(1,1)\n",
        ")\n",
        "\n",
        "X_train_tfidf = tfidf_counts.fit_transform(reviews_train.reviews_text_new)\n",
        "X_test_tfidf = tfidf_counts.transform(reviews_test.reviews_text_new)"
      ]
    },
    {
      "cell_type": "markdown",
      "metadata": {
        "id": "2mcp31kGIuN4"
      },
      "source": [
        "## Regresion logistica con TF-IDF"
      ]
    },
    {
      "cell_type": "code",
      "execution_count": 53,
      "metadata": {
        "id": "h2fKRigVIxBs",
        "colab": {
          "base_uri": "https://localhost:8080/"
        },
        "outputId": "1faaaf7c-1ee7-4664-9812-edba581232cf"
      },
      "outputs": [
        {
          "output_type": "stream",
          "name": "stdout",
          "text": [
            "F1 score:  0.8816855753646677\n",
            "Accuracy:  85.9073359073359\n"
          ]
        }
      ],
      "source": [
        "# Crear el clasificador\n",
        "lr_model_tf_idf = LogisticRegression(solver=\"liblinear\")\n",
        "\n",
        "# Entrenar\n",
        "lr_model_tf_idf.fit(X_train_tfidf, y_train_bow)\n",
        "\n",
        "# Predecir\n",
        "test_pred_lr_prob = lr_model_tf_idf.predict_proba(X_test_tfidf)\n",
        "test_pred_lr_all = lr_model_tf_idf.predict(X_test_tfidf)\n",
        "\n",
        "## Evaluar el modelo\n",
        "print(\"F1 score: \",f1_score(y_test_bow, test_pred_lr_all))\n",
        "print(\"Accuracy: \", accuracy_score(y_test_bow, test_pred_lr_all) * 100)"
      ]
    },
    {
      "cell_type": "markdown",
      "metadata": {
        "id": "A4uMiNZmI4Db"
      },
      "source": [
        "Aquí hemos logrado una precisión del 85 % con TF-IDF en comparación con el 92 % con 1-gram. Es difícil saber exactamente por qué este algoritmo de vectorización más sofisticado conduce a peores resultados, pero podría ser que penalizar palabras que son comunes en todo el corpus genere una desventaja para este conjunto de datos en particular. TF-IDF suele ser útil cuando los datos de prueba son muy diferentes de los datos de entrenamiento, lo que permite que se desprioricen las palabras que solo son comunes en el conjunto de entrenamiento."
      ]
    },
    {
      "cell_type": "markdown",
      "metadata": {
        "id": "SCsby16EJBGA"
      },
      "source": [
        "Trataremos de aumentar la precisión del modelo por\n",
        "\n",
        "- configurando ```ngram_range=(1,4)``` en el Vectorizador\n",
        "- no eliminar las palabras irrelevantes de antemano en el Vectorizador\n",
        "- configurando C=10 en el clasificador LogisticRegression\n",
        "- estableciendo penalización=\"l1\" en el clasificador LogisticRegression"
      ]
    },
    {
      "cell_type": "code",
      "execution_count": 54,
      "metadata": {
        "id": "5UlnsuRcJKwQ",
        "colab": {
          "base_uri": "https://localhost:8080/"
        },
        "outputId": "c35959d7-950f-47e8-95d1-5d99476f1dcc"
      },
      "outputs": [
        {
          "output_type": "stream",
          "name": "stderr",
          "text": [
            "/usr/local/lib/python3.11/dist-packages/sklearn/feature_extraction/text.py:517: UserWarning: The parameter 'token_pattern' will not be used since 'tokenizer' is not None'\n",
            "  warnings.warn(\n"
          ]
        }
      ],
      "source": [
        "tfidf_counts = TfidfVectorizer(\n",
        "    tokenizer=word_tokenize,\n",
        "    ngram_range=(1,4)\n",
        ")\n",
        "\n",
        "X_train_tfidf = tfidf_counts.fit_transform(reviews_train.reviews_text_new)\n",
        "X_test_tfidf = tfidf_counts.transform(reviews_test.reviews_text_new)"
      ]
    },
    {
      "cell_type": "code",
      "execution_count": 55,
      "metadata": {
        "id": "Ur44xFjOJNqx",
        "colab": {
          "base_uri": "https://localhost:8080/"
        },
        "outputId": "6688d4dc-2498-496b-95c0-865a14ba0252"
      },
      "outputs": [
        {
          "output_type": "stream",
          "name": "stdout",
          "text": [
            "F1 score:  0.9416058394160584\n",
            "Accuracy:  93.82239382239382\n"
          ]
        }
      ],
      "source": [
        "# definiendo la clase del modelo\n",
        "lr_model_tf_idf_new = LogisticRegression(solver=\"liblinear\", penalty='l1', C=10)\n",
        "\n",
        "# Entrenar\n",
        "lr_model_tf_idf_new.fit(X_train_tfidf, y_train_bow)\n",
        "\n",
        "# Predecir\n",
        "test_pred_lr_prob = lr_model_tf_idf_new.predict_proba(X_test_tfidf)\n",
        "test_pred_lr_all = lr_model_tf_idf_new.predict(X_test_tfidf)\n",
        "\n",
        "# Evaluar el modelo\n",
        "print(\"F1 score: \",f1_score(y_test_bow, test_pred_lr_all))\n",
        "print(\"Accuracy: \", accuracy_score(y_test_bow, test_pred_lr_all)*100)"
      ]
    },
    {
      "cell_type": "markdown",
      "metadata": {
        "id": "VXgj1CPgJYg7"
      },
      "source": [
        "Esta es una mejora con respecto a nuestro resultado anterior.\n",
        "\n",
        "También podemos encontrar nuestras características más importantes nuevamente, como se muestra a continuación:"
      ]
    },
    {
      "cell_type": "code",
      "execution_count": 56,
      "metadata": {
        "id": "lOnUb9NiJiEd",
        "colab": {
          "base_uri": "https://localhost:8080/",
          "height": 0
        },
        "outputId": "d1ff22ea-d7e8-4939-c7c6-cbd03fae01af"
      },
      "outputs": [
        {
          "output_type": "execute_result",
          "data": {
            "text/plain": [
              "                words    weights\n",
              "74157       optimista  15.522258\n",
              "45006           grato  14.759128\n",
              "44814        gracioso  14.229712\n",
              "18436        confiado  13.793209\n",
              "89696        resuelto  13.396026\n",
              "18220         con una  13.121019\n",
              "81313        positivo  13.030503\n",
              "8471          animado  13.003343\n",
              "88700  reconocimiento  12.730935\n",
              "5725       agradecido  11.685673"
            ],
            "text/html": [
              "\n",
              "  <div id=\"df-8ec2261e-0a78-423b-ab31-e1303c7f1bf3\" class=\"colab-df-container\">\n",
              "    <div>\n",
              "<style scoped>\n",
              "    .dataframe tbody tr th:only-of-type {\n",
              "        vertical-align: middle;\n",
              "    }\n",
              "\n",
              "    .dataframe tbody tr th {\n",
              "        vertical-align: top;\n",
              "    }\n",
              "\n",
              "    .dataframe thead th {\n",
              "        text-align: right;\n",
              "    }\n",
              "</style>\n",
              "<table border=\"1\" class=\"dataframe\">\n",
              "  <thead>\n",
              "    <tr style=\"text-align: right;\">\n",
              "      <th></th>\n",
              "      <th>words</th>\n",
              "      <th>weights</th>\n",
              "    </tr>\n",
              "  </thead>\n",
              "  <tbody>\n",
              "    <tr>\n",
              "      <th>74157</th>\n",
              "      <td>optimista</td>\n",
              "      <td>15.522258</td>\n",
              "    </tr>\n",
              "    <tr>\n",
              "      <th>45006</th>\n",
              "      <td>grato</td>\n",
              "      <td>14.759128</td>\n",
              "    </tr>\n",
              "    <tr>\n",
              "      <th>44814</th>\n",
              "      <td>gracioso</td>\n",
              "      <td>14.229712</td>\n",
              "    </tr>\n",
              "    <tr>\n",
              "      <th>18436</th>\n",
              "      <td>confiado</td>\n",
              "      <td>13.793209</td>\n",
              "    </tr>\n",
              "    <tr>\n",
              "      <th>89696</th>\n",
              "      <td>resuelto</td>\n",
              "      <td>13.396026</td>\n",
              "    </tr>\n",
              "    <tr>\n",
              "      <th>18220</th>\n",
              "      <td>con una</td>\n",
              "      <td>13.121019</td>\n",
              "    </tr>\n",
              "    <tr>\n",
              "      <th>81313</th>\n",
              "      <td>positivo</td>\n",
              "      <td>13.030503</td>\n",
              "    </tr>\n",
              "    <tr>\n",
              "      <th>8471</th>\n",
              "      <td>animado</td>\n",
              "      <td>13.003343</td>\n",
              "    </tr>\n",
              "    <tr>\n",
              "      <th>88700</th>\n",
              "      <td>reconocimiento</td>\n",
              "      <td>12.730935</td>\n",
              "    </tr>\n",
              "    <tr>\n",
              "      <th>5725</th>\n",
              "      <td>agradecido</td>\n",
              "      <td>11.685673</td>\n",
              "    </tr>\n",
              "  </tbody>\n",
              "</table>\n",
              "</div>\n",
              "    <div class=\"colab-df-buttons\">\n",
              "\n",
              "  <div class=\"colab-df-container\">\n",
              "    <button class=\"colab-df-convert\" onclick=\"convertToInteractive('df-8ec2261e-0a78-423b-ab31-e1303c7f1bf3')\"\n",
              "            title=\"Convert this dataframe to an interactive table.\"\n",
              "            style=\"display:none;\">\n",
              "\n",
              "  <svg xmlns=\"http://www.w3.org/2000/svg\" height=\"24px\" viewBox=\"0 -960 960 960\">\n",
              "    <path d=\"M120-120v-720h720v720H120Zm60-500h600v-160H180v160Zm220 220h160v-160H400v160Zm0 220h160v-160H400v160ZM180-400h160v-160H180v160Zm440 0h160v-160H620v160ZM180-180h160v-160H180v160Zm440 0h160v-160H620v160Z\"/>\n",
              "  </svg>\n",
              "    </button>\n",
              "\n",
              "  <style>\n",
              "    .colab-df-container {\n",
              "      display:flex;\n",
              "      gap: 12px;\n",
              "    }\n",
              "\n",
              "    .colab-df-convert {\n",
              "      background-color: #E8F0FE;\n",
              "      border: none;\n",
              "      border-radius: 50%;\n",
              "      cursor: pointer;\n",
              "      display: none;\n",
              "      fill: #1967D2;\n",
              "      height: 32px;\n",
              "      padding: 0 0 0 0;\n",
              "      width: 32px;\n",
              "    }\n",
              "\n",
              "    .colab-df-convert:hover {\n",
              "      background-color: #E2EBFA;\n",
              "      box-shadow: 0px 1px 2px rgba(60, 64, 67, 0.3), 0px 1px 3px 1px rgba(60, 64, 67, 0.15);\n",
              "      fill: #174EA6;\n",
              "    }\n",
              "\n",
              "    .colab-df-buttons div {\n",
              "      margin-bottom: 4px;\n",
              "    }\n",
              "\n",
              "    [theme=dark] .colab-df-convert {\n",
              "      background-color: #3B4455;\n",
              "      fill: #D2E3FC;\n",
              "    }\n",
              "\n",
              "    [theme=dark] .colab-df-convert:hover {\n",
              "      background-color: #434B5C;\n",
              "      box-shadow: 0px 1px 3px 1px rgba(0, 0, 0, 0.15);\n",
              "      filter: drop-shadow(0px 1px 2px rgba(0, 0, 0, 0.3));\n",
              "      fill: #FFFFFF;\n",
              "    }\n",
              "  </style>\n",
              "\n",
              "    <script>\n",
              "      const buttonEl =\n",
              "        document.querySelector('#df-8ec2261e-0a78-423b-ab31-e1303c7f1bf3 button.colab-df-convert');\n",
              "      buttonEl.style.display =\n",
              "        google.colab.kernel.accessAllowed ? 'block' : 'none';\n",
              "\n",
              "      async function convertToInteractive(key) {\n",
              "        const element = document.querySelector('#df-8ec2261e-0a78-423b-ab31-e1303c7f1bf3');\n",
              "        const dataTable =\n",
              "          await google.colab.kernel.invokeFunction('convertToInteractive',\n",
              "                                                    [key], {});\n",
              "        if (!dataTable) return;\n",
              "\n",
              "        const docLinkHtml = 'Like what you see? Visit the ' +\n",
              "          '<a target=\"_blank\" href=https://colab.research.google.com/notebooks/data_table.ipynb>data table notebook</a>'\n",
              "          + ' to learn more about interactive tables.';\n",
              "        element.innerHTML = '';\n",
              "        dataTable['output_type'] = 'display_data';\n",
              "        await google.colab.output.renderOutput(dataTable, element);\n",
              "        const docLink = document.createElement('div');\n",
              "        docLink.innerHTML = docLinkHtml;\n",
              "        element.appendChild(docLink);\n",
              "      }\n",
              "    </script>\n",
              "  </div>\n",
              "\n",
              "\n",
              "<div id=\"df-081f9c40-a5df-4133-8e96-5c53aa63ba13\">\n",
              "  <button class=\"colab-df-quickchart\" onclick=\"quickchart('df-081f9c40-a5df-4133-8e96-5c53aa63ba13')\"\n",
              "            title=\"Suggest charts\"\n",
              "            style=\"display:none;\">\n",
              "\n",
              "<svg xmlns=\"http://www.w3.org/2000/svg\" height=\"24px\"viewBox=\"0 0 24 24\"\n",
              "     width=\"24px\">\n",
              "    <g>\n",
              "        <path d=\"M19 3H5c-1.1 0-2 .9-2 2v14c0 1.1.9 2 2 2h14c1.1 0 2-.9 2-2V5c0-1.1-.9-2-2-2zM9 17H7v-7h2v7zm4 0h-2V7h2v10zm4 0h-2v-4h2v4z\"/>\n",
              "    </g>\n",
              "</svg>\n",
              "  </button>\n",
              "\n",
              "<style>\n",
              "  .colab-df-quickchart {\n",
              "      --bg-color: #E8F0FE;\n",
              "      --fill-color: #1967D2;\n",
              "      --hover-bg-color: #E2EBFA;\n",
              "      --hover-fill-color: #174EA6;\n",
              "      --disabled-fill-color: #AAA;\n",
              "      --disabled-bg-color: #DDD;\n",
              "  }\n",
              "\n",
              "  [theme=dark] .colab-df-quickchart {\n",
              "      --bg-color: #3B4455;\n",
              "      --fill-color: #D2E3FC;\n",
              "      --hover-bg-color: #434B5C;\n",
              "      --hover-fill-color: #FFFFFF;\n",
              "      --disabled-bg-color: #3B4455;\n",
              "      --disabled-fill-color: #666;\n",
              "  }\n",
              "\n",
              "  .colab-df-quickchart {\n",
              "    background-color: var(--bg-color);\n",
              "    border: none;\n",
              "    border-radius: 50%;\n",
              "    cursor: pointer;\n",
              "    display: none;\n",
              "    fill: var(--fill-color);\n",
              "    height: 32px;\n",
              "    padding: 0;\n",
              "    width: 32px;\n",
              "  }\n",
              "\n",
              "  .colab-df-quickchart:hover {\n",
              "    background-color: var(--hover-bg-color);\n",
              "    box-shadow: 0 1px 2px rgba(60, 64, 67, 0.3), 0 1px 3px 1px rgba(60, 64, 67, 0.15);\n",
              "    fill: var(--button-hover-fill-color);\n",
              "  }\n",
              "\n",
              "  .colab-df-quickchart-complete:disabled,\n",
              "  .colab-df-quickchart-complete:disabled:hover {\n",
              "    background-color: var(--disabled-bg-color);\n",
              "    fill: var(--disabled-fill-color);\n",
              "    box-shadow: none;\n",
              "  }\n",
              "\n",
              "  .colab-df-spinner {\n",
              "    border: 2px solid var(--fill-color);\n",
              "    border-color: transparent;\n",
              "    border-bottom-color: var(--fill-color);\n",
              "    animation:\n",
              "      spin 1s steps(1) infinite;\n",
              "  }\n",
              "\n",
              "  @keyframes spin {\n",
              "    0% {\n",
              "      border-color: transparent;\n",
              "      border-bottom-color: var(--fill-color);\n",
              "      border-left-color: var(--fill-color);\n",
              "    }\n",
              "    20% {\n",
              "      border-color: transparent;\n",
              "      border-left-color: var(--fill-color);\n",
              "      border-top-color: var(--fill-color);\n",
              "    }\n",
              "    30% {\n",
              "      border-color: transparent;\n",
              "      border-left-color: var(--fill-color);\n",
              "      border-top-color: var(--fill-color);\n",
              "      border-right-color: var(--fill-color);\n",
              "    }\n",
              "    40% {\n",
              "      border-color: transparent;\n",
              "      border-right-color: var(--fill-color);\n",
              "      border-top-color: var(--fill-color);\n",
              "    }\n",
              "    60% {\n",
              "      border-color: transparent;\n",
              "      border-right-color: var(--fill-color);\n",
              "    }\n",
              "    80% {\n",
              "      border-color: transparent;\n",
              "      border-right-color: var(--fill-color);\n",
              "      border-bottom-color: var(--fill-color);\n",
              "    }\n",
              "    90% {\n",
              "      border-color: transparent;\n",
              "      border-bottom-color: var(--fill-color);\n",
              "    }\n",
              "  }\n",
              "</style>\n",
              "\n",
              "  <script>\n",
              "    async function quickchart(key) {\n",
              "      const quickchartButtonEl =\n",
              "        document.querySelector('#' + key + ' button');\n",
              "      quickchartButtonEl.disabled = true;  // To prevent multiple clicks.\n",
              "      quickchartButtonEl.classList.add('colab-df-spinner');\n",
              "      try {\n",
              "        const charts = await google.colab.kernel.invokeFunction(\n",
              "            'suggestCharts', [key], {});\n",
              "      } catch (error) {\n",
              "        console.error('Error during call to suggestCharts:', error);\n",
              "      }\n",
              "      quickchartButtonEl.classList.remove('colab-df-spinner');\n",
              "      quickchartButtonEl.classList.add('colab-df-quickchart-complete');\n",
              "    }\n",
              "    (() => {\n",
              "      let quickchartButtonEl =\n",
              "        document.querySelector('#df-081f9c40-a5df-4133-8e96-5c53aa63ba13 button');\n",
              "      quickchartButtonEl.style.display =\n",
              "        google.colab.kernel.accessAllowed ? 'block' : 'none';\n",
              "    })();\n",
              "  </script>\n",
              "</div>\n",
              "\n",
              "    </div>\n",
              "  </div>\n"
            ],
            "application/vnd.google.colaboratory.intrinsic+json": {
              "type": "dataframe",
              "summary": "{\n  \"name\": \"lr_weights\",\n  \"rows\": 10,\n  \"fields\": [\n    {\n      \"column\": \"words\",\n      \"properties\": {\n        \"dtype\": \"string\",\n        \"num_unique_values\": 10,\n        \"samples\": [\n          \"reconocimiento\",\n          \"grato\",\n          \"con una\"\n        ],\n        \"semantic_type\": \"\",\n        \"description\": \"\"\n      }\n    },\n    {\n      \"column\": \"weights\",\n      \"properties\": {\n        \"dtype\": \"number\",\n        \"std\": 1.0949768609839077,\n        \"min\": 11.685673327783832,\n        \"max\": 15.522258433557193,\n        \"num_unique_values\": 10,\n        \"samples\": [\n          12.730935318502075,\n          14.759127533986629,\n          13.121018671821425\n        ],\n        \"semantic_type\": \"\",\n        \"description\": \"\"\n      }\n    }\n  ]\n}"
            }
          },
          "metadata": {},
          "execution_count": 56
        }
      ],
      "source": [
        "lr_weights = pd.DataFrame(\n",
        "    list(\n",
        "        zip(tfidf_counts.get_feature_names_out(), lr_model_tf_idf_new.coef_[0])\n",
        "    ),\n",
        "    columns=['words','weights']\n",
        ")\n",
        "\n",
        "lr_weights.sort_values(['weights'],ascending = False)[:10]"
      ]
    },
    {
      "cell_type": "code",
      "execution_count": 57,
      "metadata": {
        "id": "GvmARJjeJkG2",
        "colab": {
          "base_uri": "https://localhost:8080/",
          "height": 0
        },
        "outputId": "c47458b9-d2e5-4938-9653-52bcd386f46f"
      },
      "outputs": [
        {
          "output_type": "execute_result",
          "data": {
            "text/plain": [
              "             words    weights\n",
              "77653      perdido -34.030062\n",
              "8854      apartado -34.829710\n",
              "5416    adormilado -37.547842\n",
              "28172  desbordante -37.704285\n",
              "41314   exasperado -38.032343\n",
              "4580      abrumado -39.650169\n",
              "28152   desbordado -40.589023\n",
              "97236    solitario -41.019955\n",
              "94339     separado -41.516414\n",
              "19188  contrariado -41.641049"
            ],
            "text/html": [
              "\n",
              "  <div id=\"df-9498163c-f99d-4571-805f-9e4b3e3b63ea\" class=\"colab-df-container\">\n",
              "    <div>\n",
              "<style scoped>\n",
              "    .dataframe tbody tr th:only-of-type {\n",
              "        vertical-align: middle;\n",
              "    }\n",
              "\n",
              "    .dataframe tbody tr th {\n",
              "        vertical-align: top;\n",
              "    }\n",
              "\n",
              "    .dataframe thead th {\n",
              "        text-align: right;\n",
              "    }\n",
              "</style>\n",
              "<table border=\"1\" class=\"dataframe\">\n",
              "  <thead>\n",
              "    <tr style=\"text-align: right;\">\n",
              "      <th></th>\n",
              "      <th>words</th>\n",
              "      <th>weights</th>\n",
              "    </tr>\n",
              "  </thead>\n",
              "  <tbody>\n",
              "    <tr>\n",
              "      <th>77653</th>\n",
              "      <td>perdido</td>\n",
              "      <td>-34.030062</td>\n",
              "    </tr>\n",
              "    <tr>\n",
              "      <th>8854</th>\n",
              "      <td>apartado</td>\n",
              "      <td>-34.829710</td>\n",
              "    </tr>\n",
              "    <tr>\n",
              "      <th>5416</th>\n",
              "      <td>adormilado</td>\n",
              "      <td>-37.547842</td>\n",
              "    </tr>\n",
              "    <tr>\n",
              "      <th>28172</th>\n",
              "      <td>desbordante</td>\n",
              "      <td>-37.704285</td>\n",
              "    </tr>\n",
              "    <tr>\n",
              "      <th>41314</th>\n",
              "      <td>exasperado</td>\n",
              "      <td>-38.032343</td>\n",
              "    </tr>\n",
              "    <tr>\n",
              "      <th>4580</th>\n",
              "      <td>abrumado</td>\n",
              "      <td>-39.650169</td>\n",
              "    </tr>\n",
              "    <tr>\n",
              "      <th>28152</th>\n",
              "      <td>desbordado</td>\n",
              "      <td>-40.589023</td>\n",
              "    </tr>\n",
              "    <tr>\n",
              "      <th>97236</th>\n",
              "      <td>solitario</td>\n",
              "      <td>-41.019955</td>\n",
              "    </tr>\n",
              "    <tr>\n",
              "      <th>94339</th>\n",
              "      <td>separado</td>\n",
              "      <td>-41.516414</td>\n",
              "    </tr>\n",
              "    <tr>\n",
              "      <th>19188</th>\n",
              "      <td>contrariado</td>\n",
              "      <td>-41.641049</td>\n",
              "    </tr>\n",
              "  </tbody>\n",
              "</table>\n",
              "</div>\n",
              "    <div class=\"colab-df-buttons\">\n",
              "\n",
              "  <div class=\"colab-df-container\">\n",
              "    <button class=\"colab-df-convert\" onclick=\"convertToInteractive('df-9498163c-f99d-4571-805f-9e4b3e3b63ea')\"\n",
              "            title=\"Convert this dataframe to an interactive table.\"\n",
              "            style=\"display:none;\">\n",
              "\n",
              "  <svg xmlns=\"http://www.w3.org/2000/svg\" height=\"24px\" viewBox=\"0 -960 960 960\">\n",
              "    <path d=\"M120-120v-720h720v720H120Zm60-500h600v-160H180v160Zm220 220h160v-160H400v160Zm0 220h160v-160H400v160ZM180-400h160v-160H180v160Zm440 0h160v-160H620v160ZM180-180h160v-160H180v160Zm440 0h160v-160H620v160Z\"/>\n",
              "  </svg>\n",
              "    </button>\n",
              "\n",
              "  <style>\n",
              "    .colab-df-container {\n",
              "      display:flex;\n",
              "      gap: 12px;\n",
              "    }\n",
              "\n",
              "    .colab-df-convert {\n",
              "      background-color: #E8F0FE;\n",
              "      border: none;\n",
              "      border-radius: 50%;\n",
              "      cursor: pointer;\n",
              "      display: none;\n",
              "      fill: #1967D2;\n",
              "      height: 32px;\n",
              "      padding: 0 0 0 0;\n",
              "      width: 32px;\n",
              "    }\n",
              "\n",
              "    .colab-df-convert:hover {\n",
              "      background-color: #E2EBFA;\n",
              "      box-shadow: 0px 1px 2px rgba(60, 64, 67, 0.3), 0px 1px 3px 1px rgba(60, 64, 67, 0.15);\n",
              "      fill: #174EA6;\n",
              "    }\n",
              "\n",
              "    .colab-df-buttons div {\n",
              "      margin-bottom: 4px;\n",
              "    }\n",
              "\n",
              "    [theme=dark] .colab-df-convert {\n",
              "      background-color: #3B4455;\n",
              "      fill: #D2E3FC;\n",
              "    }\n",
              "\n",
              "    [theme=dark] .colab-df-convert:hover {\n",
              "      background-color: #434B5C;\n",
              "      box-shadow: 0px 1px 3px 1px rgba(0, 0, 0, 0.15);\n",
              "      filter: drop-shadow(0px 1px 2px rgba(0, 0, 0, 0.3));\n",
              "      fill: #FFFFFF;\n",
              "    }\n",
              "  </style>\n",
              "\n",
              "    <script>\n",
              "      const buttonEl =\n",
              "        document.querySelector('#df-9498163c-f99d-4571-805f-9e4b3e3b63ea button.colab-df-convert');\n",
              "      buttonEl.style.display =\n",
              "        google.colab.kernel.accessAllowed ? 'block' : 'none';\n",
              "\n",
              "      async function convertToInteractive(key) {\n",
              "        const element = document.querySelector('#df-9498163c-f99d-4571-805f-9e4b3e3b63ea');\n",
              "        const dataTable =\n",
              "          await google.colab.kernel.invokeFunction('convertToInteractive',\n",
              "                                                    [key], {});\n",
              "        if (!dataTable) return;\n",
              "\n",
              "        const docLinkHtml = 'Like what you see? Visit the ' +\n",
              "          '<a target=\"_blank\" href=https://colab.research.google.com/notebooks/data_table.ipynb>data table notebook</a>'\n",
              "          + ' to learn more about interactive tables.';\n",
              "        element.innerHTML = '';\n",
              "        dataTable['output_type'] = 'display_data';\n",
              "        await google.colab.output.renderOutput(dataTable, element);\n",
              "        const docLink = document.createElement('div');\n",
              "        docLink.innerHTML = docLinkHtml;\n",
              "        element.appendChild(docLink);\n",
              "      }\n",
              "    </script>\n",
              "  </div>\n",
              "\n",
              "\n",
              "<div id=\"df-9a11d944-dc25-462e-9a6e-c6541207f5c9\">\n",
              "  <button class=\"colab-df-quickchart\" onclick=\"quickchart('df-9a11d944-dc25-462e-9a6e-c6541207f5c9')\"\n",
              "            title=\"Suggest charts\"\n",
              "            style=\"display:none;\">\n",
              "\n",
              "<svg xmlns=\"http://www.w3.org/2000/svg\" height=\"24px\"viewBox=\"0 0 24 24\"\n",
              "     width=\"24px\">\n",
              "    <g>\n",
              "        <path d=\"M19 3H5c-1.1 0-2 .9-2 2v14c0 1.1.9 2 2 2h14c1.1 0 2-.9 2-2V5c0-1.1-.9-2-2-2zM9 17H7v-7h2v7zm4 0h-2V7h2v10zm4 0h-2v-4h2v4z\"/>\n",
              "    </g>\n",
              "</svg>\n",
              "  </button>\n",
              "\n",
              "<style>\n",
              "  .colab-df-quickchart {\n",
              "      --bg-color: #E8F0FE;\n",
              "      --fill-color: #1967D2;\n",
              "      --hover-bg-color: #E2EBFA;\n",
              "      --hover-fill-color: #174EA6;\n",
              "      --disabled-fill-color: #AAA;\n",
              "      --disabled-bg-color: #DDD;\n",
              "  }\n",
              "\n",
              "  [theme=dark] .colab-df-quickchart {\n",
              "      --bg-color: #3B4455;\n",
              "      --fill-color: #D2E3FC;\n",
              "      --hover-bg-color: #434B5C;\n",
              "      --hover-fill-color: #FFFFFF;\n",
              "      --disabled-bg-color: #3B4455;\n",
              "      --disabled-fill-color: #666;\n",
              "  }\n",
              "\n",
              "  .colab-df-quickchart {\n",
              "    background-color: var(--bg-color);\n",
              "    border: none;\n",
              "    border-radius: 50%;\n",
              "    cursor: pointer;\n",
              "    display: none;\n",
              "    fill: var(--fill-color);\n",
              "    height: 32px;\n",
              "    padding: 0;\n",
              "    width: 32px;\n",
              "  }\n",
              "\n",
              "  .colab-df-quickchart:hover {\n",
              "    background-color: var(--hover-bg-color);\n",
              "    box-shadow: 0 1px 2px rgba(60, 64, 67, 0.3), 0 1px 3px 1px rgba(60, 64, 67, 0.15);\n",
              "    fill: var(--button-hover-fill-color);\n",
              "  }\n",
              "\n",
              "  .colab-df-quickchart-complete:disabled,\n",
              "  .colab-df-quickchart-complete:disabled:hover {\n",
              "    background-color: var(--disabled-bg-color);\n",
              "    fill: var(--disabled-fill-color);\n",
              "    box-shadow: none;\n",
              "  }\n",
              "\n",
              "  .colab-df-spinner {\n",
              "    border: 2px solid var(--fill-color);\n",
              "    border-color: transparent;\n",
              "    border-bottom-color: var(--fill-color);\n",
              "    animation:\n",
              "      spin 1s steps(1) infinite;\n",
              "  }\n",
              "\n",
              "  @keyframes spin {\n",
              "    0% {\n",
              "      border-color: transparent;\n",
              "      border-bottom-color: var(--fill-color);\n",
              "      border-left-color: var(--fill-color);\n",
              "    }\n",
              "    20% {\n",
              "      border-color: transparent;\n",
              "      border-left-color: var(--fill-color);\n",
              "      border-top-color: var(--fill-color);\n",
              "    }\n",
              "    30% {\n",
              "      border-color: transparent;\n",
              "      border-left-color: var(--fill-color);\n",
              "      border-top-color: var(--fill-color);\n",
              "      border-right-color: var(--fill-color);\n",
              "    }\n",
              "    40% {\n",
              "      border-color: transparent;\n",
              "      border-right-color: var(--fill-color);\n",
              "      border-top-color: var(--fill-color);\n",
              "    }\n",
              "    60% {\n",
              "      border-color: transparent;\n",
              "      border-right-color: var(--fill-color);\n",
              "    }\n",
              "    80% {\n",
              "      border-color: transparent;\n",
              "      border-right-color: var(--fill-color);\n",
              "      border-bottom-color: var(--fill-color);\n",
              "    }\n",
              "    90% {\n",
              "      border-color: transparent;\n",
              "      border-bottom-color: var(--fill-color);\n",
              "    }\n",
              "  }\n",
              "</style>\n",
              "\n",
              "  <script>\n",
              "    async function quickchart(key) {\n",
              "      const quickchartButtonEl =\n",
              "        document.querySelector('#' + key + ' button');\n",
              "      quickchartButtonEl.disabled = true;  // To prevent multiple clicks.\n",
              "      quickchartButtonEl.classList.add('colab-df-spinner');\n",
              "      try {\n",
              "        const charts = await google.colab.kernel.invokeFunction(\n",
              "            'suggestCharts', [key], {});\n",
              "      } catch (error) {\n",
              "        console.error('Error during call to suggestCharts:', error);\n",
              "      }\n",
              "      quickchartButtonEl.classList.remove('colab-df-spinner');\n",
              "      quickchartButtonEl.classList.add('colab-df-quickchart-complete');\n",
              "    }\n",
              "    (() => {\n",
              "      let quickchartButtonEl =\n",
              "        document.querySelector('#df-9a11d944-dc25-462e-9a6e-c6541207f5c9 button');\n",
              "      quickchartButtonEl.style.display =\n",
              "        google.colab.kernel.accessAllowed ? 'block' : 'none';\n",
              "    })();\n",
              "  </script>\n",
              "</div>\n",
              "\n",
              "    </div>\n",
              "  </div>\n"
            ],
            "application/vnd.google.colaboratory.intrinsic+json": {
              "type": "dataframe",
              "summary": "{\n  \"name\": \"lr_weights\",\n  \"rows\": 10,\n  \"fields\": [\n    {\n      \"column\": \"words\",\n      \"properties\": {\n        \"dtype\": \"string\",\n        \"num_unique_values\": 10,\n        \"samples\": [\n          \"separado\",\n          \"apartado\",\n          \"abrumado\"\n        ],\n        \"semantic_type\": \"\",\n        \"description\": \"\"\n      }\n    },\n    {\n      \"column\": \"weights\",\n      \"properties\": {\n        \"dtype\": \"number\",\n        \"std\": 2.7073612175268438,\n        \"min\": -41.64104936062923,\n        \"max\": -34.03006193439048,\n        \"num_unique_values\": 10,\n        \"samples\": [\n          -41.51641386699522,\n          -34.829709980878604,\n          -39.65016898038793\n        ],\n        \"semantic_type\": \"\",\n        \"description\": \"\"\n      }\n    }\n  ]\n}"
            }
          },
          "metadata": {},
          "execution_count": 57
        }
      ],
      "source": [
        "lr_weights.sort_values(['weights'],ascending = False)[-10:]"
      ]
    },
    {
      "cell_type": "markdown",
      "metadata": {
        "id": "mACgQsCSLzu9"
      },
      "source": [
        "# Conclusiones"
      ]
    },
    {
      "cell_type": "markdown",
      "metadata": {
        "id": "hPvVo2MuL04X"
      },
      "source": [
        "Los modelos de bag of words son muy buenos a la hora de identificar textos de polaridades claras pero le cuesta mucho cuando los textos presentan polaridades menos claras y caracteristicas mas complejas.\n",
        "\n",
        "Para esto se utilizan modelos mas poderosos como TF.IDF y modelos de aprendizaje supervisado,\n",
        "\n",
        "En este caso, limpiamos y destacamos un conjunto de datos de comentarios de Twitwer y construimos algunos modelos de clasificación en estas características para predecir el sentimiento. Vimos que la bolsa de palabras y TF-IDF brindaban características interpretables. Al aumentar el conjunto de n-gramas que usamos de 1-gram a 4-grams, nuestra presicion bajo para BOR, pero pudimos obtener la precisión de nuestro modelo de regresión logística hasta en un 94 % en TF-IDF."
      ]
    },
    {
      "cell_type": "markdown",
      "source": [
        "# Implementación de un modelo de deep Learning\n"
      ],
      "metadata": {
        "id": "Eee_OnNjHljT"
      }
    },
    {
      "cell_type": "code",
      "source": [],
      "metadata": {
        "id": "yY5nYyKUG8zv"
      },
      "execution_count": 60,
      "outputs": []
    },
    {
      "cell_type": "markdown",
      "source": [
        "#### Prepro\n",
        "Vamos a diseñar una red neuronal capaz de aprender si un texto es positivo o negativo (sentimiento). Para ello utilizaremos la codificacion binaria de \"ranking de sentimiento\" creada en el ejercicio de NLP, para que la red neuronal, que trabaja con valores numéricos preferentemente, sea capaz de entenderlo.\n",
        "\n"
      ],
      "metadata": {
        "id": "2SXc2Rno0c0l"
      }
    },
    {
      "cell_type": "code",
      "source": [
        "import torch\n",
        "import torch.nn as nn\n",
        "import torch.optim as optim\n",
        "from torch.utils.data import DataLoader, Dataset\n",
        "from sklearn.model_selection import train_test_split\n",
        "from tensorflow.keras.preprocessing.text import Tokenizer\n",
        "from tensorflow.keras.preprocessing.sequence import pad_sequences\n",
        "\n",
        "# Definir hiperparámetros\n",
        "vocab_size = 5000  # Número máximo de palabras en el vocabulario\n",
        "max_length = 100   # Longitud máxima de las secuencias\n",
        "embedding_dim = 128  # Dimensión del embedding\n",
        "batch_size = 64\n",
        "num_classes = len(Twitter_1['Sentiment_rating'].unique())  # Número de clases\n",
        "\n",
        "# Tokenizar y convertir texto en secuencias de enteros\n",
        "tokenizer = Tokenizer(num_words=vocab_size, oov_token=\"<OOV>\")\n",
        "tokenizer.fit_on_texts(Twitter_1['text'])\n",
        "sequences = tokenizer.texts_to_sequences(Twitter_1['text'])\n",
        "\n",
        "# Padding de secuencias\n",
        "x_data = pad_sequences(sequences, maxlen=max_length, padding='post', truncating='post')\n",
        "\n",
        "# Convertir etiquetas a tensor\n",
        "y_data = torch.tensor(Twitter_1['Sentiment_rating'].values, dtype=torch.long)\n",
        "\n",
        "# Dividir datos en entrenamiento y validación\n",
        "x_train, x_val, y_train, y_val = train_test_split(x_data, y_data, test_size=0.2, random_state=42)\n",
        "\n",
        "# Convertir a tensores\n",
        "x_train_tensor = torch.tensor(x_train, dtype=torch.long)\n",
        "y_train_tensor = torch.tensor(y_train, dtype=torch.long)\n",
        "x_val_tensor = torch.tensor(x_val, dtype=torch.long)\n",
        "y_val_tensor = torch.tensor(y_val, dtype=torch.long)\n",
        "\n",
        "# Crear Dataset personalizado\n",
        "class TwitterDataset(Dataset):\n",
        "    def __init__(self, x, y):\n",
        "        self.x = x\n",
        "        self.y = y\n",
        "\n",
        "    def __len__(self):\n",
        "        return len(self.x)\n",
        "\n",
        "    def __getitem__(self, idx):\n",
        "        return self.x[idx], self.y[idx]\n",
        "\n",
        "# Cargar datos en DataLoader\n",
        "train_dataset = TwitterDataset(x_train_tensor, y_train_tensor)\n",
        "val_dataset = TwitterDataset(x_val_tensor, y_val_tensor)\n",
        "\n",
        "train_loader = DataLoader(train_dataset, batch_size=batch_size, shuffle=True)\n",
        "val_loader = DataLoader(val_dataset, batch_size=batch_size, shuffle=False)\n",
        "\n",
        "# Definir modelo con PyTorch\n",
        "class SentimentRNN(nn.Module):\n",
        "    def __init__(self, vocab_size, embedding_dim, hidden_dim, num_classes):\n",
        "        super(SentimentRNN, self).__init__()\n",
        "        self.embedding = nn.Embedding(vocab_size, embedding_dim)\n",
        "        self.lstm = nn.LSTM(embedding_dim, hidden_dim, num_layers=2,\n",
        "                            bidirectional=True, batch_first=True)\n",
        "        self.fc = nn.Linear(hidden_dim * 2, num_classes)  # Multiplicamos por 2 por bidireccionalidad\n",
        "        self.dropout = nn.Dropout(0.5)\n",
        "        self.softmax = nn.Softmax(dim=1)\n",
        "\n",
        "    def forward(self, x):\n",
        "        x = self.embedding(x)\n",
        "        x, _ = self.lstm(x)\n",
        "        x = self.dropout(x[:, -1, :])  # Tomamos la última salida de LSTM\n",
        "        x = self.fc(x)\n",
        "        return self.softmax(x)\n",
        "\n",
        "# Instanciar modelo\n",
        "device = torch.device(\"cuda\" if torch.cuda.is_available() else \"cpu\")\n",
        "model = SentimentRNN(vocab_size, embedding_dim, hidden_dim=64, num_classes=num_classes)\n",
        "model.to(device)\n",
        "\n",
        "# Definir función de pérdida y optimizador\n",
        "criterion = nn.CrossEntropyLoss()\n",
        "optimizer = optim.Adam(model.parameters(), lr=0.001)\n",
        "\n",
        "# Entrenar el modelo\n",
        "num_epochs = 10\n",
        "for epoch in range(num_epochs):\n",
        "    model.train()\n",
        "    total_loss = 0\n",
        "    correct_train = 0\n",
        "\n",
        "    # Entrenamiento\n",
        "    for x_batch, y_batch in train_loader:\n",
        "        x_batch, y_batch = x_batch.to(device), y_batch.to(device)\n",
        "\n",
        "        optimizer.zero_grad()\n",
        "        outputs = model(x_batch)\n",
        "        loss = criterion(outputs, y_batch)\n",
        "        loss.backward()\n",
        "        optimizer.step()\n",
        "\n",
        "        total_loss += loss.item()\n",
        "        correct_train += (outputs.argmax(1) == y_batch).sum().item()\n",
        "\n",
        "    train_acc = correct_train / len(train_loader.dataset)\n",
        "\n",
        "    # Evaluar en validación\n",
        "    model.eval()\n",
        "    correct_val = 0\n",
        "    with torch.no_grad():\n",
        "        for x_batch, y_batch in val_loader:\n",
        "            x_batch, y_batch = x_batch.to(device), y_batch.to(device)\n",
        "            outputs = model(x_batch)\n",
        "            correct_val += (outputs.argmax(1) == y_batch).sum().item()\n",
        "\n",
        "    val_acc = correct_val / len(val_loader.dataset)\n",
        "\n",
        "    # 📢 **Imprimir métricas en cada epoch**\n",
        "    print(f\"Epoch [{epoch+1}/{num_epochs}] - Loss: {total_loss:.4f} - Train Acc: {train_acc:.4f} - Test Acc: {val_acc:.4f}\")\n",
        "\n",
        "print(\"Entrenamiento finalizado ✅\")"
      ],
      "metadata": {
        "colab": {
          "base_uri": "https://localhost:8080/"
        },
        "id": "hHDktds8ceNK",
        "outputId": "06417b21-ac4f-48be-caf3-1ce505bdcbb3"
      },
      "execution_count": 61,
      "outputs": [
        {
          "output_type": "stream",
          "name": "stderr",
          "text": [
            "<ipython-input-61-32115393a37e>:32: UserWarning: To copy construct from a tensor, it is recommended to use sourceTensor.clone().detach() or sourceTensor.clone().detach().requires_grad_(True), rather than torch.tensor(sourceTensor).\n",
            "  y_train_tensor = torch.tensor(y_train, dtype=torch.long)\n",
            "<ipython-input-61-32115393a37e>:34: UserWarning: To copy construct from a tensor, it is recommended to use sourceTensor.clone().detach() or sourceTensor.clone().detach().requires_grad_(True), rather than torch.tensor(sourceTensor).\n",
            "  y_val_tensor = torch.tensor(y_val, dtype=torch.long)\n"
          ]
        },
        {
          "output_type": "stream",
          "name": "stdout",
          "text": [
            "Epoch [1/10] - Loss: 22.7671 - Train Acc: 0.5425 - Test Acc: 0.5560\n",
            "Epoch [2/10] - Loss: 22.7334 - Train Acc: 0.5512 - Test Acc: 0.5560\n",
            "Epoch [3/10] - Loss: 22.7377 - Train Acc: 0.5516 - Test Acc: 0.5560\n",
            "Epoch [4/10] - Loss: 22.7287 - Train Acc: 0.5516 - Test Acc: 0.5560\n",
            "Epoch [5/10] - Loss: 22.7598 - Train Acc: 0.5516 - Test Acc: 0.5560\n",
            "Epoch [6/10] - Loss: 22.7009 - Train Acc: 0.5516 - Test Acc: 0.5560\n",
            "Epoch [7/10] - Loss: 22.7110 - Train Acc: 0.5516 - Test Acc: 0.5560\n",
            "Epoch [8/10] - Loss: 22.7444 - Train Acc: 0.5516 - Test Acc: 0.5560\n",
            "Epoch [9/10] - Loss: 22.7237 - Train Acc: 0.5516 - Test Acc: 0.5560\n",
            "Epoch [10/10] - Loss: 22.7585 - Train Acc: 0.5507 - Test Acc: 0.5560\n",
            "Entrenamiento finalizado ✅\n"
          ]
        }
      ]
    },
    {
      "cell_type": "markdown",
      "source": [
        "Se realizaron las siguintes mejoras. Probamos:\n",
        "\n",
        "✅ Aumentar las dimensiones del embeddind de 128 a 256\n",
        "✅ Aumentar ls capacidad con 128 neuronas en LSTM y una capa extra de 128 neuronas en fc1.\n",
        "✅ Usa ReLU en la capa oculta para mejorar la no linealidad.\n",
        "✅ Añadir regularización con BatchNorm y Dropout.\n",
        "✅ Usar una tasa de aprendizaje más baja (0.001) para mejorar la convergencia.\n",
        "\n"
      ],
      "metadata": {
        "id": "B2K-s8SrzVyo"
      }
    },
    {
      "cell_type": "code",
      "source": [
        "import torch.nn.functional as F\n",
        "import matplotlib.pyplot as plt\n",
        "\n",
        "# Definir modelo mejorado con más capas y regularización\n",
        "class ImprovedSentimentRNN(nn.Module):\n",
        "    def __init__(self, vocab_size, embedding_dim, hidden_dim, num_classes):\n",
        "        super(ImprovedSentimentRNN, self).__init__()\n",
        "\n",
        "        self.embedding = nn.Embedding(vocab_size, embedding_dim)\n",
        "        self.batch_norm1 = nn.BatchNorm1d(embedding_dim)\n",
        "\n",
        "        self.lstm = nn.LSTM(embedding_dim, hidden_dim, num_layers=3,\n",
        "                            bidirectional=True, batch_first=True, dropout=0.3)\n",
        "\n",
        "        self.fc1 = nn.Linear(hidden_dim * 2, 128)  # Capa oculta adicional\n",
        "        self.fc2 = nn.Linear(128, num_classes)  # Capa final de salida\n",
        "\n",
        "        self.dropout = nn.Dropout(0.3)\n",
        "        self.batch_norm2 = nn.BatchNorm1d(128)\n",
        "\n",
        "    def forward(self, x):\n",
        "        x = self.embedding(x)\n",
        "        x = self.batch_norm1(x.permute(0, 2, 1)).permute(0, 2, 1)\n",
        "\n",
        "        x, _ = self.lstm(x)\n",
        "        x = self.dropout(x[:, -1, :])  # Última salida de LSTM\n",
        "\n",
        "        x = self.fc1(x)\n",
        "        x = F.relu(x)  # Activación ReLU\n",
        "        x = self.batch_norm2(x)\n",
        "        x = self.dropout(x)\n",
        "\n",
        "        x = self.fc2(x)\n",
        "        return F.softmax(x, dim=1)\n",
        "\n",
        "# Instanciar modelo\n",
        "device = torch.device(\"cuda\" if torch.cuda.is_available() else \"cpu\")\n",
        "model = ImprovedSentimentRNN(vocab_size, embedding_dim=256, hidden_dim=128, num_classes=num_classes)\n",
        "model.to(device)\n",
        "\n",
        "# Definir función de pérdida y optimizador\n",
        "criterion = nn.CrossEntropyLoss()\n",
        "optimizer = optim.Adam(model.parameters(), lr=0.001)  # Reducción de tasa de aprendizaje\n",
        "\n",
        "# Entrenar el modelo\n",
        "num_epochs = 10\n",
        "train_losses, val_losses = [], []\n",
        "train_accuracies, val_accuracies = [], []\n",
        "\n",
        "for epoch in range(num_epochs):\n",
        "    model.train()\n",
        "    total_loss, correct_train = 0, 0\n",
        "    for x_batch, y_batch in train_loader:\n",
        "        x_batch, y_batch = x_batch.to(device), y_batch.to(device)\n",
        "\n",
        "        optimizer.zero_grad()\n",
        "        outputs = model(x_batch)\n",
        "        loss = criterion(outputs, y_batch)\n",
        "        loss.backward()\n",
        "        optimizer.step()\n",
        "\n",
        "        total_loss += loss.item()\n",
        "        correct_train += (outputs.argmax(1) == y_batch).sum().item()\n",
        "\n",
        "    train_loss = total_loss / len(train_loader)\n",
        "    train_acc = correct_train / len(train_loader.dataset)\n",
        "    train_losses.append(train_loss)\n",
        "    train_accuracies.append(train_acc)\n",
        "\n",
        "    # Evaluar en validación\n",
        "    model.eval()\n",
        "    total_loss, correct_val = 0, 0\n",
        "    with torch.no_grad():\n",
        "        for x_batch, y_batch in val_loader:\n",
        "            x_batch, y_batch = x_batch.to(device), y_batch.to(device)\n",
        "            outputs = model(x_batch)\n",
        "            loss = criterion(outputs, y_batch)\n",
        "            total_loss += loss.item()\n",
        "            correct_val += (outputs.argmax(1) == y_batch).sum().item()\n",
        "\n",
        "    val_loss = total_loss / len(val_loader)\n",
        "    val_acc = correct_val / len(val_loader.dataset)\n",
        "    val_losses.append(val_loss)\n",
        "    val_accuracies.append(val_acc)\n",
        "\n",
        "    print(f\"Epoch [{epoch+1}/{num_epochs}] - Loss: {train_loss:.4f} - Train Acc: {train_acc:.4f} - Test Acc: {val_acc:.4f}\")\n",
        "\n",
        "# Graficar resultados\n",
        "plt.figure(figsize=(10, 5))\n",
        "\n",
        "plt.subplot(1, 2, 1)\n",
        "plt.plot(range(1, num_epochs + 1), train_accuracies, label='Train Accuracy', marker='o')\n",
        "plt.plot(range(1, num_epochs + 1), val_accuracies, label='Test Accuracy', marker='s', linestyle='--')\n",
        "plt.xlabel('Epochs')\n",
        "plt.ylabel('Accuracy')\n",
        "plt.title('Train vs Test Accuracy')\n",
        "plt.legend()\n",
        "plt.grid(True)\n",
        "\n",
        "plt.subplot(1, 2, 2)\n",
        "plt.plot(range(1, num_epochs + 1), train_losses, label='Train Loss', marker='o')\n",
        "plt.plot(range(1, num_epochs + 1), val_losses, label='Test Loss', marker='s', linestyle='--')\n",
        "plt.xlabel('Epochs')\n",
        "plt.ylabel('Loss')\n",
        "plt.title('Train vs Test Loss')\n",
        "plt.legend()\n",
        "plt.grid(True)\n",
        "\n",
        "plt.tight_layout()\n",
        "plt.show()"
      ],
      "metadata": {
        "colab": {
          "base_uri": "https://localhost:8080/",
          "height": 681
        },
        "id": "0R9ps2XuyTqE",
        "outputId": "4f6d546d-9442-4e36-b442-c5d926fee6dd"
      },
      "execution_count": 62,
      "outputs": [
        {
          "output_type": "stream",
          "name": "stdout",
          "text": [
            "Epoch [1/10] - Loss: 0.7037 - Train Acc: 0.5236 - Test Acc: 0.5560\n",
            "Epoch [2/10] - Loss: 0.7021 - Train Acc: 0.5111 - Test Acc: 0.5560\n",
            "Epoch [3/10] - Loss: 0.7019 - Train Acc: 0.5159 - Test Acc: 0.4440\n",
            "Epoch [4/10] - Loss: 0.6959 - Train Acc: 0.5154 - Test Acc: 0.5560\n",
            "Epoch [5/10] - Loss: 0.6979 - Train Acc: 0.5285 - Test Acc: 0.5560\n",
            "Epoch [6/10] - Loss: 0.6922 - Train Acc: 0.5323 - Test Acc: 0.5560\n",
            "Epoch [7/10] - Loss: 0.6964 - Train Acc: 0.5251 - Test Acc: 0.5560\n",
            "Epoch [8/10] - Loss: 0.6937 - Train Acc: 0.5381 - Test Acc: 0.5560\n",
            "Epoch [9/10] - Loss: 0.6936 - Train Acc: 0.5391 - Test Acc: 0.5560\n",
            "Epoch [10/10] - Loss: 0.6917 - Train Acc: 0.5386 - Test Acc: 0.5560\n"
          ]
        },
        {
          "output_type": "display_data",
          "data": {
            "text/plain": [
              "<Figure size 1000x500 with 2 Axes>"
            ],
            "image/png": "[encoded data removed]"
          },
          "metadata": {}
        }
      ]
    },
    {
      "cell_type": "markdown",
      "source": [
        "#Conclusion Final"
      ],
      "metadata": {
        "id": "fBwvLVwZ1zt2"
      }
    },
    {
      "cell_type": "markdown",
      "source": [
        "Estancamiento del aprendizaje:\n",
        "\n",
        "Se observa que la precisión en entrenamiento y prueba no mejora significativamente después de la primera época, incluiso despues de las mejoras implementadas.\n",
        "\n",
        "La pérdida (Loss) fluctúa levemente, lo que indica que la red no está aprendiendo de manera efectiva.\n",
        "\n",
        "Posible subajuste (underfitting):\n",
        "\n",
        "La precisión de entrenamiento y prueba se mantiene alrededor del 55%, lo que sugiere que el modelo no está capturando patrones significativos en los datos.\n",
        "\n",
        "Esto podría deberse al tamaño del dataset o insuficiente entrenamiento.\n",
        "\n",
        "La precisión en prueba es constante (55.6%), lo que sugiere que el modelo puede estar prediciendo la misma clase para todas las muestras o que los datos no tienen suficiente variabilidad informativa.\n",
        "\n",
        "Para estos casos funcionan de mejor manera los algortimos de Machine Lerning que los de Deep Learning"
      ],
      "metadata": {
        "id": "0xNxTMgR8GIL"
      }
    }
  ],
  "metadata": {
    "colab": {
      "provenance": [],
      "collapsed_sections": [
        "HkEvw2y4l3fq",
        "hhEWNyxp7J9a",
        "z6JfoGI18uT2",
        "oCIjwyvX9DnC",
        "yQHkuA0Y9e2q",
        "EKYImfc-DSu4",
        "qENuMxTvDen5",
        "b5GGWWW3EYyR",
        "2jl8v2WlIDHs",
        "Eee_OnNjHljT"
      ],
      "include_colab_link": true
    },
    "kernelspec": {
      "display_name": "Python 3",
      "name": "python3"
    },
    "language_info": {
      "name": "python"
    }
  },
  "nbformat": 4,
  "nbformat_minor": 0
}